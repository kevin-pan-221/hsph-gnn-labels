{
 "cells": [
  {
   "cell_type": "code",
   "execution_count": 1,
   "id": "9108db9b",
   "metadata": {},
   "outputs": [],
   "source": [
    "import pandas as pd\n",
    "import openai"
   ]
  },
  {
   "cell_type": "code",
   "execution_count": 2,
   "id": "a5933576",
   "metadata": {},
   "outputs": [
    {
     "name": "stdout",
     "output_type": "stream",
     "text": [
      "CUI-CUIGPT2.csv                       gptMap-Sapbert.ipynb\r\n",
      "CUI-CUILabels.csv                     gptMap-clinicalBert.ipynb\r\n",
      "CUI-Phe.csv                           kevin_CUI_PheCode.csv\r\n",
      "CUI_Phecode_Map.csv                   phecode_definitions1.2.csv\r\n",
      "GPT_init.csv                          phecode_icd9_rolled.csv\r\n",
      "Less_0.2_CUI_Phe_Map.csv              phecode_x_map.csv\r\n",
      "Less_0.3_CUI_Phe_Map.csv              poorCUI-CUILabels.csv\r\n",
      "Mapping_CUI_phecodes_with_string.csv  remap.csv\r\n",
      "PheCode_String.csv                    sapbert check.ipynb\r\n",
      "README.txt                            sapbert_check.csv\r\n",
      "biobert_v1_remap.csv                  sapbert_x_v2_remap.csv\r\n",
      "clinicalBert check.ipynb              temp.ipynb\r\n",
      "clinicalBert_check.csv                tempRemap.ipynb\r\n",
      "clinicalbert_v1_remap.csv             testChatGPT.py\r\n",
      "clinicalbert_x_v2_remap.csv           testChatGPT2.py\r\n",
      "code-codeLabels.csv                   total_phecode_desc.csv\r\n",
      "gptCUI.ipynb\r\n"
     ]
    }
   ],
   "source": [
    "%ls"
   ]
  },
  {
   "cell_type": "code",
   "execution_count": 3,
   "id": "fa3f75c7",
   "metadata": {},
   "outputs": [
    {
     "data": {
      "text/html": [
       "<div>\n",
       "<style scoped>\n",
       "    .dataframe tbody tr th:only-of-type {\n",
       "        vertical-align: middle;\n",
       "    }\n",
       "\n",
       "    .dataframe tbody tr th {\n",
       "        vertical-align: top;\n",
       "    }\n",
       "\n",
       "    .dataframe thead th {\n",
       "        text-align: right;\n",
       "    }\n",
       "</style>\n",
       "<table border=\"1\" class=\"dataframe\">\n",
       "  <thead>\n",
       "    <tr style=\"text-align: right;\">\n",
       "      <th></th>\n",
       "      <th>cui</th>\n",
       "      <th>cui_string</th>\n",
       "      <th>phecode</th>\n",
       "      <th>phecode_string</th>\n",
       "    </tr>\n",
       "  </thead>\n",
       "  <tbody>\n",
       "    <tr>\n",
       "      <th>0</th>\n",
       "      <td>C0178238</td>\n",
       "      <td>intestinal tract infectious disease nos (disor...</td>\n",
       "      <td>8.0</td>\n",
       "      <td>Intestinal infection</td>\n",
       "    </tr>\n",
       "    <tr>\n",
       "      <th>1</th>\n",
       "      <td>C0348099</td>\n",
       "      <td>infection; viral</td>\n",
       "      <td>8.6</td>\n",
       "      <td>Viral Enteritis</td>\n",
       "    </tr>\n",
       "    <tr>\n",
       "      <th>2</th>\n",
       "      <td>C0009450</td>\n",
       "      <td>rndx infection unspecified</td>\n",
       "      <td>136.0</td>\n",
       "      <td>Other infectious and parasitic diseases</td>\n",
       "    </tr>\n",
       "    <tr>\n",
       "      <th>3</th>\n",
       "      <td>C0013369</td>\n",
       "      <td>infectious diarrheal disease nos</td>\n",
       "      <td>8.0</td>\n",
       "      <td>Intestinal infection</td>\n",
       "    </tr>\n",
       "    <tr>\n",
       "      <th>4</th>\n",
       "      <td>C0021342</td>\n",
       "      <td>septic enteritis</td>\n",
       "      <td>8.0</td>\n",
       "      <td>Intestinal infection</td>\n",
       "    </tr>\n",
       "    <tr>\n",
       "      <th>...</th>\n",
       "      <td>...</td>\n",
       "      <td>...</td>\n",
       "      <td>...</td>\n",
       "      <td>...</td>\n",
       "    </tr>\n",
       "    <tr>\n",
       "      <th>57002</th>\n",
       "      <td>C4076499</td>\n",
       "      <td>dissection of precerebral artery (disorder)</td>\n",
       "      <td>442.4</td>\n",
       "      <td>Arterial dissection</td>\n",
       "    </tr>\n",
       "    <tr>\n",
       "      <th>57003</th>\n",
       "      <td>C4759468</td>\n",
       "      <td>arthritis of right knee caused by streptococcu...</td>\n",
       "      <td>41.2</td>\n",
       "      <td>Streptococcus infection</td>\n",
       "    </tr>\n",
       "    <tr>\n",
       "      <th>57004</th>\n",
       "      <td>C0427512</td>\n",
       "      <td>white blood cell count</td>\n",
       "      <td>288.1</td>\n",
       "      <td>Decreased white blood cell count</td>\n",
       "    </tr>\n",
       "    <tr>\n",
       "      <th>57005</th>\n",
       "      <td>C0564296</td>\n",
       "      <td>does not prepare food for eating</td>\n",
       "      <td>389.0</td>\n",
       "      <td>Hearing loss</td>\n",
       "    </tr>\n",
       "    <tr>\n",
       "      <th>57006</th>\n",
       "      <td>C4545991</td>\n",
       "      <td>hypertrophic pachymeningitis due to infection</td>\n",
       "      <td>320.0</td>\n",
       "      <td>Meningitis</td>\n",
       "    </tr>\n",
       "  </tbody>\n",
       "</table>\n",
       "<p>57007 rows × 4 columns</p>\n",
       "</div>"
      ],
      "text/plain": [
       "            cui                                         cui_string  phecode   \n",
       "0      C0178238  intestinal tract infectious disease nos (disor...      8.0  \\\n",
       "1      C0348099                                   infection; viral      8.6   \n",
       "2      C0009450                         rndx infection unspecified    136.0   \n",
       "3      C0013369                   infectious diarrheal disease nos      8.0   \n",
       "4      C0021342                                   septic enteritis      8.0   \n",
       "...         ...                                                ...      ...   \n",
       "57002  C4076499        dissection of precerebral artery (disorder)    442.4   \n",
       "57003  C4759468  arthritis of right knee caused by streptococcu...     41.2   \n",
       "57004  C0427512                             white blood cell count    288.1   \n",
       "57005  C0564296                   does not prepare food for eating    389.0   \n",
       "57006  C4545991      hypertrophic pachymeningitis due to infection    320.0   \n",
       "\n",
       "                                phecode_string  \n",
       "0                         Intestinal infection  \n",
       "1                              Viral Enteritis  \n",
       "2      Other infectious and parasitic diseases  \n",
       "3                         Intestinal infection  \n",
       "4                         Intestinal infection  \n",
       "...                                        ...  \n",
       "57002                      Arterial dissection  \n",
       "57003                  Streptococcus infection  \n",
       "57004         Decreased white blood cell count  \n",
       "57005                             Hearing loss  \n",
       "57006                               Meningitis  \n",
       "\n",
       "[57007 rows x 4 columns]"
      ]
     },
     "execution_count": 3,
     "metadata": {},
     "output_type": "execute_result"
    }
   ],
   "source": [
    "df = pd.read_csv(\"CUI_Phecode_Map.csv\")\n",
    "df"
   ]
  },
  {
   "cell_type": "code",
   "execution_count": 86,
   "id": "93a65fca",
   "metadata": {},
   "outputs": [
    {
     "name": "stdout",
     "output_type": "stream",
     "text": [
      "0.9\n"
     ]
    }
   ],
   "source": [
    "#GPT SCORE FUNCTIOn\n",
    "#gpt returns \"accuracy score\" from 0 - 1\n",
    "\n",
    "import openai\n",
    "\n",
    "#api key\n",
    "openai.api_key = ''\n",
    "\n",
    "def check_relation(str1, str2):\n",
    "    messages = [\n",
    "        {\"role\": \"system\", \"content\": \"Please act like a doctor verifying if two medical conditions match. This is for a map, so theoretically the two conditions should ultimately mean the same thing. Respond with ONLY 1 DECIMAL NUMBER on 0 to 1 showing how good the match is. Only 1 NUMBER, NO STRINGS.\"},\n",
    "        {\"role\": \"user\", \"content\": f\"{str1} & {str2}\"},\n",
    "    ]\n",
    "\n",
    "    response = openai.ChatCompletion.create(\n",
    "        model='gpt-3.5-turbo',\n",
    "        messages=messages,\n",
    "        max_tokens=3,\n",
    "        n=1,\n",
    "        stop=None,\n",
    "        temperature=0,\n",
    "    )\n",
    "    answer = response['choices'][0]['message']['content'].strip().lower()\n",
    "    return answer\n",
    "\n",
    "\n",
    "#example usage\n",
    "str1 = \"type 1 diabetes\"\n",
    "str2 = \"type 2 diabetes\"\n",
    "answer = check_relation(str1, str2)\n",
    "#print(f\"{answer} {confidence}\")\n",
    "print(answer)\n",
    "\n",
    "\n",
    "\n"
   ]
  },
  {
   "cell_type": "code",
   "execution_count": 59,
   "id": "00fee420",
   "metadata": {},
   "outputs": [
    {
     "name": "stderr",
     "output_type": "stream",
     "text": [
      "Processing:   1%|▏                        | 516/57007 [03:26<5:01:35,  3.12it/s]"
     ]
    },
    {
     "name": "stdout",
     "output_type": "stream",
     "text": [
      "Error processing row 516: Bad gateway. {\"error\":{\"code\":502,\"message\":\"Bad gateway.\",\"param\":null,\"type\":\"cf_bad_gateway\"}} 502 {'error': {'code': 502, 'message': 'Bad gateway.', 'param': None, 'type': 'cf_bad_gateway'}} {'Date': 'Thu, 22 Jun 2023 18:24:05 GMT', 'Content-Type': 'application/json', 'Content-Length': '84', 'Connection': 'keep-alive', 'X-Frame-Options': 'SAMEORIGIN', 'Referrer-Policy': 'same-origin', 'Cache-Control': 'private, max-age=0, no-store, no-cache, must-revalidate, post-check=0, pre-check=0', 'Expires': 'Thu, 01 Jan 1970 00:00:01 GMT', 'Server': 'cloudflare', 'CF-RAY': '7db67f1bcf403074-BOS', 'alt-svc': 'h3=\":443\"; ma=86400'}\n",
      "Retrying row 516...\n"
     ]
    },
    {
     "name": "stderr",
     "output_type": "stream",
     "text": [
      "Processing:   1%|▎                        | 653/57007 [09:26<5:28:43,  2.86it/s]"
     ]
    },
    {
     "name": "stdout",
     "output_type": "stream",
     "text": [
      "Error processing row 653: The server is overloaded or not ready yet.\n",
      "Retrying row 653...\n"
     ]
    },
    {
     "name": "stderr",
     "output_type": "stream",
     "text": [
      "Processing:   1%|▎                        | 788/57007 [10:49<6:31:08,  2.40it/s]"
     ]
    },
    {
     "name": "stdout",
     "output_type": "stream",
     "text": [
      "Error processing row 788: The server is overloaded or not ready yet.\n",
      "Retrying row 788...\n"
     ]
    },
    {
     "name": "stderr",
     "output_type": "stream",
     "text": [
      "Processing:   1%|▎                        | 806/57007 [11:29<7:04:33,  2.21it/s]"
     ]
    },
    {
     "name": "stdout",
     "output_type": "stream",
     "text": [
      "Error processing row 806: Bad gateway. {\"error\":{\"code\":502,\"message\":\"Bad gateway.\",\"param\":null,\"type\":\"cf_bad_gateway\"}} 502 {'error': {'code': 502, 'message': 'Bad gateway.', 'param': None, 'type': 'cf_bad_gateway'}} {'Date': 'Thu, 22 Jun 2023 18:32:07 GMT', 'Content-Type': 'application/json', 'Content-Length': '84', 'Connection': 'keep-alive', 'X-Frame-Options': 'SAMEORIGIN', 'Referrer-Policy': 'same-origin', 'Cache-Control': 'private, max-age=0, no-store, no-cache, must-revalidate, post-check=0, pre-check=0', 'Expires': 'Thu, 01 Jan 1970 00:00:01 GMT', 'Server': 'cloudflare', 'CF-RAY': '7db68ae4ef9b32b3-PHL', 'alt-svc': 'h3=\":443\"; ma=86400'}\n",
      "Retrying row 806...\n"
     ]
    },
    {
     "name": "stderr",
     "output_type": "stream",
     "text": [
      "Processing:   2%|▍                        | 938/57007 [22:02<6:08:10,  2.54it/s]"
     ]
    },
    {
     "name": "stdout",
     "output_type": "stream",
     "text": [
      "Error processing row 938: The server is overloaded or not ready yet.\n",
      "Retrying row 938...\n"
     ]
    },
    {
     "name": "stderr",
     "output_type": "stream",
     "text": [
      "Processing:   2%|▍                       | 1024/57007 [23:13<6:16:41,  2.48it/s]"
     ]
    },
    {
     "name": "stdout",
     "output_type": "stream",
     "text": [
      "Error processing row 1024: Bad gateway. {\"error\":{\"code\":502,\"message\":\"Bad gateway.\",\"param\":null,\"type\":\"cf_bad_gateway\"}} 502 {'error': {'code': 502, 'message': 'Bad gateway.', 'param': None, 'type': 'cf_bad_gateway'}} {'Date': 'Thu, 22 Jun 2023 18:43:51 GMT', 'Content-Type': 'application/json', 'Content-Length': '84', 'Connection': 'keep-alive', 'X-Frame-Options': 'SAMEORIGIN', 'Referrer-Policy': 'same-origin', 'Cache-Control': 'private, max-age=0, no-store, no-cache, must-revalidate, post-check=0, pre-check=0', 'Expires': 'Thu, 01 Jan 1970 00:00:01 GMT', 'Server': 'cloudflare', 'CF-RAY': '7db69c149a9732b3-PHL', 'alt-svc': 'h3=\":443\"; ma=86400'}\n",
      "Retrying row 1024...\n"
     ]
    },
    {
     "name": "stderr",
     "output_type": "stream",
     "text": [
      "Processing:   2%|▍                      | 1036/57007 [28:31<37:40:21,  2.42s/it]"
     ]
    },
    {
     "name": "stdout",
     "output_type": "stream",
     "text": [
      "Error processing row 1036: The server is overloaded or not ready yet.\n",
      "Retrying row 1036...\n"
     ]
    },
    {
     "name": "stderr",
     "output_type": "stream",
     "text": [
      "Processing:   2%|▍                       | 1090/57007 [29:25<5:09:15,  3.01it/s]"
     ]
    },
    {
     "name": "stdout",
     "output_type": "stream",
     "text": [
      "Error processing row 1090: Bad gateway. {\"error\":{\"code\":502,\"message\":\"Bad gateway.\",\"param\":null,\"type\":\"cf_bad_gateway\"}} 502 {'error': {'code': 502, 'message': 'Bad gateway.', 'param': None, 'type': 'cf_bad_gateway'}} {'Date': 'Thu, 22 Jun 2023 18:50:03 GMT', 'Content-Type': 'application/json', 'Content-Length': '84', 'Connection': 'keep-alive', 'X-Frame-Options': 'SAMEORIGIN', 'Referrer-Policy': 'same-origin', 'Cache-Control': 'private, max-age=0, no-store, no-cache, must-revalidate, post-check=0, pre-check=0', 'Expires': 'Thu, 01 Jan 1970 00:00:01 GMT', 'Server': 'cloudflare', 'CF-RAY': '7db6a52a6a143b94-BOS', 'alt-svc': 'h3=\":443\"; ma=86400'}\n",
      "Retrying row 1090...\n"
     ]
    },
    {
     "name": "stderr",
     "output_type": "stream",
     "text": [
      "Processing:   3%|▌                       | 1477/57007 [37:41<8:13:31,  1.88it/s]"
     ]
    },
    {
     "name": "stdout",
     "output_type": "stream",
     "text": [
      "Error processing row 1477: Bad gateway. {\"error\":{\"code\":502,\"message\":\"Bad gateway.\",\"param\":null,\"type\":\"cf_bad_gateway\"}} 502 {'error': {'code': 502, 'message': 'Bad gateway.', 'param': None, 'type': 'cf_bad_gateway'}} {'Date': 'Thu, 22 Jun 2023 18:58:20 GMT', 'Content-Type': 'application/json', 'Content-Length': '84', 'Connection': 'keep-alive', 'X-Frame-Options': 'SAMEORIGIN', 'Referrer-Policy': 'same-origin', 'Cache-Control': 'private, max-age=0, no-store, no-cache, must-revalidate, post-check=0, pre-check=0', 'Expires': 'Thu, 01 Jan 1970 00:00:01 GMT', 'Server': 'cloudflare', 'CF-RAY': '7db6b1451e20ec00-BOS', 'alt-svc': 'h3=\":443\"; ma=86400'}\n",
      "Retrying row 1477...\n"
     ]
    },
    {
     "name": "stderr",
     "output_type": "stream",
     "text": [
      "Processing:   3%|▋                       | 1513/57007 [43:29<5:12:50,  2.96it/s]"
     ]
    },
    {
     "name": "stdout",
     "output_type": "stream",
     "text": [
      "Error processing row 1513: The server is overloaded or not ready yet.\n",
      "Retrying row 1513...\n"
     ]
    },
    {
     "name": "stderr",
     "output_type": "stream",
     "text": [
      "Processing:   3%|▊                       | 1829/57007 [50:57<8:58:51,  1.71it/s]"
     ]
    },
    {
     "name": "stdout",
     "output_type": "stream",
     "text": [
      "Error processing row 1829: Bad gateway. {\"error\":{\"code\":502,\"message\":\"Bad gateway.\",\"param\":null,\"type\":\"cf_bad_gateway\"}} 502 {'error': {'code': 502, 'message': 'Bad gateway.', 'param': None, 'type': 'cf_bad_gateway'}} {'Date': 'Thu, 22 Jun 2023 19:11:36 GMT', 'Content-Type': 'application/json', 'Content-Length': '84', 'Connection': 'keep-alive', 'X-Frame-Options': 'SAMEORIGIN', 'Referrer-Policy': 'same-origin', 'Cache-Control': 'private, max-age=0, no-store, no-cache, must-revalidate, post-check=0, pre-check=0', 'Expires': 'Thu, 01 Jan 1970 00:00:01 GMT', 'Server': 'cloudflare', 'CF-RAY': '7db6c4b4bd1b3b99-BOS', 'alt-svc': 'h3=\":443\"; ma=86400'}\n",
      "Retrying row 1829...\n"
     ]
    },
    {
     "name": "stderr",
     "output_type": "stream",
     "text": [
      "Processing:   3%|▊                      | 1900/57007 [59:01<12:38:24,  1.21it/s]"
     ]
    },
    {
     "name": "stdout",
     "output_type": "stream",
     "text": [
      "Error processing row 1900: Bad gateway. {\"error\":{\"code\":502,\"message\":\"Bad gateway.\",\"param\":null,\"type\":\"cf_bad_gateway\"}} 502 {'error': {'code': 502, 'message': 'Bad gateway.', 'param': None, 'type': 'cf_bad_gateway'}} {'Date': 'Thu, 22 Jun 2023 19:20:06 GMT', 'Content-Type': 'application/json', 'Content-Length': '84', 'Connection': 'keep-alive', 'X-Frame-Options': 'SAMEORIGIN', 'Referrer-Policy': 'same-origin', 'Cache-Control': 'private, max-age=0, no-store, no-cache, must-revalidate, post-check=0, pre-check=0', 'Expires': 'Thu, 01 Jan 1970 00:00:01 GMT', 'Server': 'cloudflare', 'CF-RAY': '7db6d08519273b99-BOS', 'alt-svc': 'h3=\":443\"; ma=86400'}\n",
      "Retrying row 1900...\n"
     ]
    },
    {
     "name": "stderr",
     "output_type": "stream",
     "text": [
      "Processing:   4%|▊                     | 2008/57007 [1:05:23<5:32:21,  2.76it/s]"
     ]
    },
    {
     "name": "stdout",
     "output_type": "stream",
     "text": [
      "Error processing row 2008: Bad gateway. {\"error\":{\"code\":502,\"message\":\"Bad gateway.\",\"param\":null,\"type\":\"cf_bad_gateway\"}} 502 {'error': {'code': 502, 'message': 'Bad gateway.', 'param': None, 'type': 'cf_bad_gateway'}} {'Date': 'Thu, 22 Jun 2023 19:26:01 GMT', 'Content-Type': 'application/json', 'Content-Length': '84', 'Connection': 'keep-alive', 'X-Frame-Options': 'SAMEORIGIN', 'Referrer-Policy': 'same-origin', 'Cache-Control': 'private, max-age=0, no-store, no-cache, must-revalidate, post-check=0, pre-check=0', 'Expires': 'Thu, 01 Jan 1970 00:00:01 GMT', 'Server': 'cloudflare', 'CF-RAY': '7db6d9d868843b81-BOS', 'alt-svc': 'h3=\":443\"; ma=86400'}\n",
      "Retrying row 2008...\n"
     ]
    },
    {
     "name": "stderr",
     "output_type": "stream",
     "text": [
      "Processing:   4%|▊                     | 2114/57007 [1:11:21<7:34:12,  2.01it/s]"
     ]
    },
    {
     "name": "stdout",
     "output_type": "stream",
     "text": [
      "Error processing row 2114: The server is overloaded or not ready yet.\n",
      "Retrying row 2114...\n"
     ]
    },
    {
     "name": "stderr",
     "output_type": "stream",
     "text": [
      "Processing:   4%|▉                     | 2487/57007 [1:19:20<5:31:56,  2.74it/s]"
     ]
    },
    {
     "name": "stdout",
     "output_type": "stream",
     "text": [
      "Error processing row 2487: The server is overloaded or not ready yet.\n",
      "Retrying row 2487...\n"
     ]
    },
    {
     "name": "stderr",
     "output_type": "stream",
     "text": [
      "Processing:   4%|▉                     | 2501/57007 [1:19:58<7:22:50,  2.05it/s]"
     ]
    },
    {
     "name": "stdout",
     "output_type": "stream",
     "text": [
      "Error processing row 2501: The server is overloaded or not ready yet.\n",
      "Retrying row 2501...\n"
     ]
    },
    {
     "name": "stderr",
     "output_type": "stream",
     "text": [
      "Processing:   5%|█                     | 2854/57007 [1:22:54<5:56:46,  2.53it/s]"
     ]
    },
    {
     "name": "stdout",
     "output_type": "stream",
     "text": [
      "Error processing row 2854: Bad gateway. {\"error\":{\"code\":502,\"message\":\"Bad gateway.\",\"param\":null,\"type\":\"cf_bad_gateway\"}} 502 {'error': {'code': 502, 'message': 'Bad gateway.', 'param': None, 'type': 'cf_bad_gateway'}} {'Date': 'Thu, 22 Jun 2023 19:43:32 GMT', 'Content-Type': 'application/json', 'Content-Length': '84', 'Connection': 'keep-alive', 'X-Frame-Options': 'SAMEORIGIN', 'Referrer-Policy': 'same-origin', 'Cache-Control': 'private, max-age=0, no-store, no-cache, must-revalidate, post-check=0, pre-check=0', 'Expires': 'Thu, 01 Jan 1970 00:00:01 GMT', 'Server': 'cloudflare', 'CF-RAY': '7db6f380995232c8-PHL', 'alt-svc': 'h3=\":443\"; ma=86400'}\n",
      "Retrying row 2854...\n"
     ]
    },
    {
     "name": "stderr",
     "output_type": "stream",
     "text": [
      "Processing:   5%|█                    | 2879/57007 [1:29:13<93:59:22,  6.25s/it]"
     ]
    },
    {
     "name": "stdout",
     "output_type": "stream",
     "text": [
      "Error processing row 2879: The server is overloaded or not ready yet.\n",
      "Retrying row 2879...\n"
     ]
    },
    {
     "name": "stderr",
     "output_type": "stream",
     "text": [
      "Processing:   6%|█▏                    | 3147/57007 [1:34:07<6:25:09,  2.33it/s]"
     ]
    },
    {
     "name": "stdout",
     "output_type": "stream",
     "text": [
      "Error processing row 3147: Bad gateway. {\"error\":{\"code\":502,\"message\":\"Bad gateway.\",\"param\":null,\"type\":\"cf_bad_gateway\"}} 502 {'error': {'code': 502, 'message': 'Bad gateway.', 'param': None, 'type': 'cf_bad_gateway'}} {'Date': 'Thu, 22 Jun 2023 19:54:45 GMT', 'Content-Type': 'application/json', 'Content-Length': '84', 'Connection': 'keep-alive', 'X-Frame-Options': 'SAMEORIGIN', 'Referrer-Policy': 'same-origin', 'Cache-Control': 'private, max-age=0, no-store, no-cache, must-revalidate, post-check=0, pre-check=0', 'Expires': 'Thu, 01 Jan 1970 00:00:01 GMT', 'Server': 'cloudflare', 'CF-RAY': '7db703ef3d8832c8-PHL', 'alt-svc': 'h3=\":443\"; ma=86400'}\n",
      "Retrying row 3147...\n"
     ]
    },
    {
     "name": "stderr",
     "output_type": "stream",
     "text": [
      "Processing:   6%|█▎                    | 3477/57007 [1:41:31<6:11:35,  2.40it/s]"
     ]
    },
    {
     "name": "stdout",
     "output_type": "stream",
     "text": [
      "Error processing row 3477: The server is overloaded or not ready yet.\n",
      "Retrying row 3477...\n"
     ]
    },
    {
     "name": "stderr",
     "output_type": "stream",
     "text": [
      "Processing:   6%|█▏                  | 3479/57007 [1:42:04<107:24:53,  7.22s/it]"
     ]
    },
    {
     "name": "stdout",
     "output_type": "stream",
     "text": [
      "Error processing row 3479: Bad gateway. {\"error\":{\"code\":502,\"message\":\"Bad gateway.\",\"param\":null,\"type\":\"cf_bad_gateway\"}} 502 {'error': {'code': 502, 'message': 'Bad gateway.', 'param': None, 'type': 'cf_bad_gateway'}} {'Date': 'Thu, 22 Jun 2023 20:02:43 GMT', 'Content-Type': 'application/json', 'Content-Length': '84', 'Connection': 'keep-alive', 'X-Frame-Options': 'SAMEORIGIN', 'Referrer-Policy': 'same-origin', 'Cache-Control': 'private, max-age=0, no-store, no-cache, must-revalidate, post-check=0, pre-check=0', 'Expires': 'Thu, 01 Jan 1970 00:00:01 GMT', 'Server': 'cloudflare', 'CF-RAY': '7db70f98da1f0c94-EWR', 'alt-svc': 'h3=\":443\"; ma=86400'}\n",
      "Retrying row 3479...\n"
     ]
    },
    {
     "name": "stderr",
     "output_type": "stream",
     "text": [
      "Processing:   7%|█▋                    | 4262/57007 [1:54:43<5:37:11,  2.61it/s]"
     ]
    },
    {
     "name": "stdout",
     "output_type": "stream",
     "text": [
      "Error processing row 4262: The server is overloaded or not ready yet.\n",
      "Retrying row 4262...\n"
     ]
    },
    {
     "name": "stderr",
     "output_type": "stream",
     "text": [
      "Processing:   7%|█▌                   | 4268/57007 [1:55:18<29:45:03,  2.03s/it]"
     ]
    },
    {
     "name": "stdout",
     "output_type": "stream",
     "text": [
      "Error processing row 4268: The server is overloaded or not ready yet.\n",
      "Retrying row 4268...\n"
     ]
    },
    {
     "name": "stderr",
     "output_type": "stream",
     "text": [
      "Processing:   8%|█▌                   | 4280/57007 [1:55:55<10:16:51,  1.42it/s]"
     ]
    },
    {
     "name": "stdout",
     "output_type": "stream",
     "text": [
      "Error processing row 4280: The server is overloaded or not ready yet.\n",
      "Retrying row 4280...\n"
     ]
    },
    {
     "name": "stderr",
     "output_type": "stream",
     "text": [
      "Processing:   8%|█▊                    | 4555/57007 [2:00:08<5:54:43,  2.46it/s]"
     ]
    },
    {
     "name": "stdout",
     "output_type": "stream",
     "text": [
      "Error processing row 4555: Bad gateway. {\"error\":{\"code\":502,\"message\":\"Bad gateway.\",\"param\":null,\"type\":\"cf_bad_gateway\"}} 502 {'error': {'code': 502, 'message': 'Bad gateway.', 'param': None, 'type': 'cf_bad_gateway'}} {'Date': 'Thu, 22 Jun 2023 20:20:46 GMT', 'Content-Type': 'application/json', 'Content-Length': '84', 'Connection': 'keep-alive', 'X-Frame-Options': 'SAMEORIGIN', 'Referrer-Policy': 'same-origin', 'Cache-Control': 'private, max-age=0, no-store, no-cache, must-revalidate, post-check=0, pre-check=0', 'Expires': 'Thu, 01 Jan 1970 00:00:01 GMT', 'Server': 'cloudflare', 'CF-RAY': '7db72a0b9faf558f-EWR', 'alt-svc': 'h3=\":443\"; ma=86400'}\n",
      "Retrying row 4555...\n"
     ]
    },
    {
     "name": "stderr",
     "output_type": "stream",
     "text": [
      "Processing:   9%|█▉                    | 5168/57007 [2:13:55<6:37:19,  2.17it/s]"
     ]
    },
    {
     "name": "stdout",
     "output_type": "stream",
     "text": [
      "Error processing row 5168: HTTP code 502 from API (<html>\n",
      "<head><title>502 Bad Gateway</title></head>\n",
      "<body>\n",
      "<center><h1>502 Bad Gateway</h1></center>\n",
      "<hr><center>cloudflare</center>\n",
      "</body>\n",
      "</html>\n",
      ")\n",
      "Retrying row 5168...\n"
     ]
    },
    {
     "name": "stderr",
     "output_type": "stream",
     "text": [
      "Processing:  10%|██▏                   | 5540/57007 [2:18:21<4:56:38,  2.89it/s]"
     ]
    },
    {
     "name": "stdout",
     "output_type": "stream",
     "text": [
      "Error processing row 5540: Bad gateway. {\"error\":{\"code\":502,\"message\":\"Bad gateway.\",\"param\":null,\"type\":\"cf_bad_gateway\"}} 502 {'error': {'code': 502, 'message': 'Bad gateway.', 'param': None, 'type': 'cf_bad_gateway'}} {'Date': 'Thu, 22 Jun 2023 20:38:59 GMT', 'Content-Type': 'application/json', 'Content-Length': '84', 'Connection': 'keep-alive', 'X-Frame-Options': 'SAMEORIGIN', 'Referrer-Policy': 'same-origin', 'Cache-Control': 'private, max-age=0, no-store, no-cache, must-revalidate, post-check=0, pre-check=0', 'Expires': 'Thu, 01 Jan 1970 00:00:01 GMT', 'Server': 'cloudflare', 'CF-RAY': '7db744bca9b53b8d-BOS', 'alt-svc': 'h3=\":443\"; ma=86400'}\n",
      "Retrying row 5540...\n"
     ]
    },
    {
     "name": "stderr",
     "output_type": "stream",
     "text": [
      "Processing:  10%|██▏                   | 5711/57007 [2:24:42<5:11:56,  2.74it/s]"
     ]
    },
    {
     "name": "stdout",
     "output_type": "stream",
     "text": [
      "Error processing row 5711: The server is overloaded or not ready yet.\n",
      "Retrying row 5711...\n"
     ]
    },
    {
     "name": "stderr",
     "output_type": "stream",
     "text": [
      "Processing:  11%|██▍                   | 6199/57007 [2:28:33<4:35:57,  3.07it/s]"
     ]
    },
    {
     "name": "stdout",
     "output_type": "stream",
     "text": [
      "Error processing row 6199: The server is overloaded or not ready yet.\n",
      "Retrying row 6199...\n"
     ]
    },
    {
     "name": "stderr",
     "output_type": "stream",
     "text": [
      "Processing:  11%|██▍                   | 6221/57007 [2:29:15<5:44:29,  2.46it/s]"
     ]
    },
    {
     "name": "stdout",
     "output_type": "stream",
     "text": [
      "Error processing row 6221: The server is overloaded or not ready yet.\n",
      "Retrying row 6221...\n"
     ]
    },
    {
     "name": "stderr",
     "output_type": "stream",
     "text": [
      "Processing:  11%|██▍                   | 6404/57007 [2:31:00<4:55:53,  2.85it/s]"
     ]
    },
    {
     "name": "stdout",
     "output_type": "stream",
     "text": [
      "Error processing row 6404: The server is overloaded or not ready yet.\n",
      "Retrying row 6404...\n"
     ]
    },
    {
     "name": "stderr",
     "output_type": "stream",
     "text": [
      "Processing:  11%|██▍                   | 6431/57007 [2:31:42<5:06:14,  2.75it/s]"
     ]
    },
    {
     "name": "stdout",
     "output_type": "stream",
     "text": [
      "Error processing row 6431: The server is overloaded or not ready yet.\n",
      "Retrying row 6431...\n"
     ]
    },
    {
     "name": "stderr",
     "output_type": "stream",
     "text": [
      "Processing:  11%|██▍                   | 6474/57007 [2:32:31<4:37:51,  3.03it/s]"
     ]
    },
    {
     "name": "stdout",
     "output_type": "stream",
     "text": [
      "Error processing row 6474: The server is overloaded or not ready yet.\n",
      "Retrying row 6474...\n"
     ]
    },
    {
     "name": "stderr",
     "output_type": "stream",
     "text": [
      "Processing:  13%|██▊                   | 7273/57007 [2:38:17<5:02:54,  2.74it/s]"
     ]
    },
    {
     "name": "stdout",
     "output_type": "stream",
     "text": [
      "Error processing row 7273: The server is overloaded or not ready yet.\n",
      "Retrying row 7273...\n"
     ]
    },
    {
     "name": "stderr",
     "output_type": "stream",
     "text": [
      "Processing:  13%|██▊                   | 7313/57007 [2:39:05<5:31:18,  2.50it/s]"
     ]
    },
    {
     "name": "stdout",
     "output_type": "stream",
     "text": [
      "Error processing row 7313: The server is overloaded or not ready yet.\n",
      "Retrying row 7313...\n"
     ]
    },
    {
     "name": "stderr",
     "output_type": "stream",
     "text": [
      "Processing:  13%|██▊                  | 7493/57007 [2:42:46<60:26:06,  4.39s/it]"
     ]
    },
    {
     "name": "stdout",
     "output_type": "stream",
     "text": [
      "Error processing row 7493: The server is overloaded or not ready yet.\n",
      "Retrying row 7493...\n"
     ]
    },
    {
     "name": "stderr",
     "output_type": "stream",
     "text": [
      "Processing:  13%|██▉                   | 7682/57007 [2:44:32<4:52:07,  2.81it/s]"
     ]
    },
    {
     "name": "stdout",
     "output_type": "stream",
     "text": [
      "Error processing row 7682: The server is overloaded or not ready yet.\n",
      "Retrying row 7682...\n"
     ]
    },
    {
     "name": "stderr",
     "output_type": "stream",
     "text": [
      "Processing:  14%|███                   | 7883/57007 [2:46:22<5:37:37,  2.43it/s]"
     ]
    },
    {
     "name": "stdout",
     "output_type": "stream",
     "text": [
      "Error processing row 7883: The server is overloaded or not ready yet.\n",
      "Retrying row 7883...\n"
     ]
    },
    {
     "name": "stderr",
     "output_type": "stream",
     "text": [
      "Processing:  14%|███                   | 7938/57007 [2:47:24<6:46:12,  2.01it/s]"
     ]
    },
    {
     "name": "stdout",
     "output_type": "stream",
     "text": [
      "Error processing row 7938: The server is overloaded or not ready yet.\n",
      "Retrying row 7938...\n"
     ]
    },
    {
     "name": "stderr",
     "output_type": "stream",
     "text": [
      "Processing:  14%|███                   | 7990/57007 [2:48:17<5:31:09,  2.47it/s]"
     ]
    },
    {
     "name": "stdout",
     "output_type": "stream",
     "text": [
      "Error processing row 7990: The server is overloaded or not ready yet.\n",
      "Retrying row 7990...\n"
     ]
    },
    {
     "name": "stderr",
     "output_type": "stream",
     "text": [
      "Processing:  14%|███▏                  | 8226/57007 [2:50:28<6:03:30,  2.24it/s]"
     ]
    },
    {
     "name": "stdout",
     "output_type": "stream",
     "text": [
      "Error processing row 8226: The server is overloaded or not ready yet.\n",
      "Retrying row 8226...\n"
     ]
    },
    {
     "name": "stderr",
     "output_type": "stream",
     "text": [
      "Processing:  17%|███▋                  | 9550/57007 [2:59:36<5:52:23,  2.24it/s]"
     ]
    },
    {
     "name": "stdout",
     "output_type": "stream",
     "text": [
      "Error processing row 9550: The server is overloaded or not ready yet.\n",
      "Retrying row 9550...\n"
     ]
    },
    {
     "name": "stderr",
     "output_type": "stream",
     "text": [
      "Processing:  17%|███▋                  | 9590/57007 [3:00:23<5:21:41,  2.46it/s]"
     ]
    },
    {
     "name": "stdout",
     "output_type": "stream",
     "text": [
      "Error processing row 9590: The server is overloaded or not ready yet.\n",
      "Retrying row 9590...\n"
     ]
    },
    {
     "name": "stderr",
     "output_type": "stream",
     "text": [
      "Processing:  17%|███▊                  | 9850/57007 [3:02:38<4:54:57,  2.66it/s]"
     ]
    },
    {
     "name": "stdout",
     "output_type": "stream",
     "text": [
      "Error processing row 9850: Bad gateway. {\"error\":{\"code\":502,\"message\":\"Bad gateway.\",\"param\":null,\"type\":\"cf_bad_gateway\"}} 502 {'error': {'code': 502, 'message': 'Bad gateway.', 'param': None, 'type': 'cf_bad_gateway'}} {'Date': 'Thu, 22 Jun 2023 21:23:16 GMT', 'Content-Type': 'application/json', 'Content-Length': '84', 'Connection': 'keep-alive', 'X-Frame-Options': 'SAMEORIGIN', 'Referrer-Policy': 'same-origin', 'Cache-Control': 'private, max-age=0, no-store, no-cache, must-revalidate, post-check=0, pre-check=0', 'Expires': 'Thu, 01 Jan 1970 00:00:01 GMT', 'Server': 'cloudflare', 'CF-RAY': '7db7859ac8d832cc-PHL', 'alt-svc': 'h3=\":443\"; ma=86400'}\n",
      "Retrying row 9850...\n"
     ]
    },
    {
     "name": "stderr",
     "output_type": "stream",
     "text": [
      "Processing:  17%|███▊                  | 9881/57007 [3:08:02<5:00:52,  2.61it/s]"
     ]
    },
    {
     "name": "stdout",
     "output_type": "stream",
     "text": [
      "Error processing row 9881: The server is overloaded or not ready yet.\n",
      "Retrying row 9881...\n"
     ]
    },
    {
     "name": "stderr",
     "output_type": "stream",
     "text": [
      "Processing:  18%|███▋                 | 10012/57007 [3:09:24<4:28:00,  2.92it/s]"
     ]
    },
    {
     "name": "stdout",
     "output_type": "stream",
     "text": [
      "Error processing row 10012: The server is overloaded or not ready yet.\n",
      "Retrying row 10012...\n"
     ]
    },
    {
     "name": "stderr",
     "output_type": "stream",
     "text": [
      "Processing:  19%|████                 | 11060/57007 [3:16:53<5:31:19,  2.31it/s]"
     ]
    },
    {
     "name": "stdout",
     "output_type": "stream",
     "text": [
      "Error processing row 11060: Bad gateway. {\"error\":{\"code\":502,\"message\":\"Bad gateway.\",\"param\":null,\"type\":\"cf_bad_gateway\"}} 502 {'error': {'code': 502, 'message': 'Bad gateway.', 'param': None, 'type': 'cf_bad_gateway'}} {'Date': 'Thu, 22 Jun 2023 21:37:32 GMT', 'Content-Type': 'application/json', 'Content-Length': '84', 'Connection': 'keep-alive', 'X-Frame-Options': 'SAMEORIGIN', 'Referrer-Policy': 'same-origin', 'Cache-Control': 'private, max-age=0, no-store, no-cache, must-revalidate, post-check=0, pre-check=0', 'Expires': 'Thu, 01 Jan 1970 00:00:01 GMT', 'Server': 'cloudflare', 'CF-RAY': '7db79a7bcf4c3ba0-BOS', 'alt-svc': 'h3=\":443\"; ma=86400'}\n",
      "Retrying row 11060...\n"
     ]
    },
    {
     "name": "stderr",
     "output_type": "stream",
     "text": [
      "Processing:  20%|████                 | 11170/57007 [3:22:48<4:23:05,  2.90it/s]"
     ]
    },
    {
     "name": "stdout",
     "output_type": "stream",
     "text": [
      "Error processing row 11170: The server is overloaded or not ready yet.\n",
      "Retrying row 11170...\n"
     ]
    },
    {
     "name": "stderr",
     "output_type": "stream",
     "text": [
      "Processing:  20%|████▎                | 11568/57007 [3:25:51<4:40:04,  2.70it/s]"
     ]
    },
    {
     "name": "stdout",
     "output_type": "stream",
     "text": [
      "Error processing row 11568: The server is overloaded or not ready yet.\n",
      "Retrying row 11568...\n"
     ]
    },
    {
     "name": "stderr",
     "output_type": "stream",
     "text": [
      "Processing:  20%|████▎                | 11580/57007 [3:26:28<7:03:00,  1.79it/s]"
     ]
    },
    {
     "name": "stdout",
     "output_type": "stream",
     "text": [
      "Error processing row 11580: The server is overloaded or not ready yet.\n",
      "Retrying row 11580...\n"
     ]
    },
    {
     "name": "stderr",
     "output_type": "stream",
     "text": [
      "Processing:  22%|████▋                | 12814/57007 [3:35:03<5:14:24,  2.34it/s]"
     ]
    },
    {
     "name": "stdout",
     "output_type": "stream",
     "text": [
      "Error processing row 12814: Bad gateway. {\"error\":{\"code\":502,\"message\":\"Bad gateway.\",\"param\":null,\"type\":\"cf_bad_gateway\"}} 502 {'error': {'code': 502, 'message': 'Bad gateway.', 'param': None, 'type': 'cf_bad_gateway'}} {'Date': 'Thu, 22 Jun 2023 21:55:41 GMT', 'Content-Type': 'application/json', 'Content-Length': '84', 'Connection': 'keep-alive', 'X-Frame-Options': 'SAMEORIGIN', 'Referrer-Policy': 'same-origin', 'Cache-Control': 'private, max-age=0, no-store, no-cache, must-revalidate, post-check=0, pre-check=0', 'Expires': 'Thu, 01 Jan 1970 00:00:01 GMT', 'Server': 'cloudflare', 'CF-RAY': '7db7b51689cc3ba6-BOS', 'alt-svc': 'h3=\":443\"; ma=86400'}\n",
      "Retrying row 12814...\n"
     ]
    },
    {
     "name": "stderr",
     "output_type": "stream",
     "text": [
      "Processing:  23%|████▋                | 12869/57007 [3:40:36<4:18:43,  2.84it/s]"
     ]
    },
    {
     "name": "stdout",
     "output_type": "stream",
     "text": [
      "Error processing row 12869: The server is overloaded or not ready yet.\n",
      "Retrying row 12869...\n"
     ]
    },
    {
     "name": "stderr",
     "output_type": "stream",
     "text": [
      "Processing:  23%|████▊                | 12999/57007 [3:41:55<4:22:15,  2.80it/s]"
     ]
    },
    {
     "name": "stdout",
     "output_type": "stream",
     "text": [
      "Error processing row 12999: The server is overloaded or not ready yet.\n",
      "Retrying row 12999...\n"
     ]
    },
    {
     "name": "stderr",
     "output_type": "stream",
     "text": [
      "Processing:  25%|█████▏               | 14231/57007 [3:50:00<5:08:08,  2.31it/s]"
     ]
    },
    {
     "name": "stdout",
     "output_type": "stream",
     "text": [
      "Error processing row 14231: The server is overloaded or not ready yet.\n",
      "Retrying row 14231...\n"
     ]
    },
    {
     "name": "stderr",
     "output_type": "stream",
     "text": [
      "Processing:  25%|█████▎               | 14272/57007 [3:50:47<3:52:31,  3.06it/s]"
     ]
    },
    {
     "name": "stdout",
     "output_type": "stream",
     "text": [
      "Error processing row 14272: The server is overloaded or not ready yet.\n",
      "Retrying row 14272...\n"
     ]
    },
    {
     "name": "stderr",
     "output_type": "stream",
     "text": [
      "Processing:  26%|█████▍               | 14723/57007 [3:53:57<4:01:28,  2.92it/s]"
     ]
    },
    {
     "name": "stdout",
     "output_type": "stream",
     "text": [
      "Error processing row 14723: The server is overloaded or not ready yet.\n",
      "Retrying row 14723...\n"
     ]
    },
    {
     "name": "stderr",
     "output_type": "stream",
     "text": [
      "Processing:  26%|█████▌               | 14943/57007 [3:55:49<4:25:07,  2.64it/s]"
     ]
    },
    {
     "name": "stdout",
     "output_type": "stream",
     "text": [
      "Error processing row 14943: The server is overloaded or not ready yet.\n",
      "Retrying row 14943...\n"
     ]
    },
    {
     "name": "stderr",
     "output_type": "stream",
     "text": [
      "Processing:  27%|█████▋               | 15489/57007 [3:59:34<5:00:43,  2.30it/s]"
     ]
    },
    {
     "name": "stdout",
     "output_type": "stream",
     "text": [
      "Error processing row 15489: The server is overloaded or not ready yet.\n",
      "Retrying row 15489...\n"
     ]
    },
    {
     "name": "stderr",
     "output_type": "stream",
     "text": [
      "Processing:  28%|█████▊               | 15686/57007 [4:01:16<3:52:15,  2.97it/s]"
     ]
    },
    {
     "name": "stdout",
     "output_type": "stream",
     "text": [
      "Error processing row 15686: The server is overloaded or not ready yet.\n",
      "Retrying row 15686...\n"
     ]
    },
    {
     "name": "stderr",
     "output_type": "stream",
     "text": [
      "Processing:  28%|█████▊               | 15719/57007 [4:02:00<4:20:19,  2.64it/s]"
     ]
    },
    {
     "name": "stdout",
     "output_type": "stream",
     "text": [
      "Error processing row 15719: The server is overloaded or not ready yet.\n",
      "Retrying row 15719...\n"
     ]
    },
    {
     "name": "stderr",
     "output_type": "stream",
     "text": [
      "Processing:  28%|█████▌              | 15723/57007 [4:02:34<42:16:01,  3.69s/it]"
     ]
    },
    {
     "name": "stdout",
     "output_type": "stream",
     "text": [
      "Error processing row 15723: The server is overloaded or not ready yet.\n",
      "Retrying row 15723...\n"
     ]
    },
    {
     "name": "stderr",
     "output_type": "stream",
     "text": [
      "Processing:  28%|█████▊               | 15829/57007 [4:03:42<3:48:25,  3.00it/s]"
     ]
    },
    {
     "name": "stdout",
     "output_type": "stream",
     "text": [
      "Error processing row 15829: The server is overloaded or not ready yet.\n",
      "Retrying row 15829...\n"
     ]
    },
    {
     "name": "stderr",
     "output_type": "stream",
     "text": [
      "Processing:  28%|█████▉               | 15964/57007 [4:05:00<4:17:27,  2.66it/s]"
     ]
    },
    {
     "name": "stdout",
     "output_type": "stream",
     "text": [
      "Error processing row 15964: The server is overloaded or not ready yet.\n",
      "Retrying row 15964...\n"
     ]
    },
    {
     "name": "stderr",
     "output_type": "stream",
     "text": [
      "Processing:  28%|█████▉               | 16090/57007 [4:06:17<3:49:07,  2.98it/s]"
     ]
    },
    {
     "name": "stdout",
     "output_type": "stream",
     "text": [
      "Error processing row 16090: The server is overloaded or not ready yet.\n",
      "Retrying row 16090...\n"
     ]
    },
    {
     "name": "stderr",
     "output_type": "stream",
     "text": [
      "Processing:  30%|██████▏              | 16965/57007 [4:12:06<3:33:23,  3.13it/s]"
     ]
    },
    {
     "name": "stdout",
     "output_type": "stream",
     "text": [
      "Error processing row 16965: The server is overloaded or not ready yet.\n",
      "Retrying row 16965...\n"
     ]
    },
    {
     "name": "stderr",
     "output_type": "stream",
     "text": [
      "Processing:  31%|██████▍              | 17541/57007 [4:16:09<4:19:50,  2.53it/s]"
     ]
    },
    {
     "name": "stdout",
     "output_type": "stream",
     "text": [
      "Error processing row 17541: The server is overloaded or not ready yet.\n",
      "Retrying row 17541...\n"
     ]
    },
    {
     "name": "stderr",
     "output_type": "stream",
     "text": [
      "Processing:  31%|██████▌              | 17766/57007 [4:18:06<4:15:19,  2.56it/s]"
     ]
    },
    {
     "name": "stdout",
     "output_type": "stream",
     "text": [
      "Error processing row 17766: The server is overloaded or not ready yet.\n",
      "Retrying row 17766...\n"
     ]
    },
    {
     "name": "stderr",
     "output_type": "stream",
     "text": [
      "Processing:  31%|██████▌              | 17856/57007 [4:19:12<3:22:11,  3.23it/s]"
     ]
    },
    {
     "name": "stdout",
     "output_type": "stream",
     "text": [
      "Error processing row 17856: The server is overloaded or not ready yet.\n",
      "Retrying row 17856...\n"
     ]
    },
    {
     "name": "stderr",
     "output_type": "stream",
     "text": [
      "Processing:  31%|██████▌              | 17951/57007 [4:20:21<3:57:42,  2.74it/s]"
     ]
    },
    {
     "name": "stdout",
     "output_type": "stream",
     "text": [
      "Error processing row 17951: The server is overloaded or not ready yet.\n",
      "Retrying row 17951...\n"
     ]
    },
    {
     "name": "stderr",
     "output_type": "stream",
     "text": [
      "Processing:  32%|██████▋              | 18228/57007 [4:22:31<3:41:29,  2.92it/s]"
     ]
    },
    {
     "name": "stdout",
     "output_type": "stream",
     "text": [
      "Error processing row 18228: Request failed due to server shutdown {\n",
      "  \"error\": {\n",
      "    \"message\": \"Request failed due to server shutdown\",\n",
      "    \"type\": \"server_error\",\n",
      "    \"param\": null,\n",
      "    \"code\": null\n",
      "  }\n",
      "}\n",
      " 500 {'error': {'message': 'Request failed due to server shutdown', 'type': 'server_error', 'param': None, 'code': None}} {'Date': 'Thu, 22 Jun 2023 22:38:11 GMT', 'Content-Type': 'application/json', 'Content-Length': '141', 'Connection': 'keep-alive', 'access-control-allow-origin': '*', 'openai-model': 'gpt-3.5-turbo-0301', 'openai-organization': 'user-9c9rd7mqkw4i3hqwxu6mxvvr', 'openai-processing-ms': '11723', 'openai-version': '2020-10-01', 'strict-transport-security': 'max-age=15724800; includeSubDomains', 'x-ratelimit-limit-requests': '3500', 'x-ratelimit-limit-tokens': '90000', 'x-ratelimit-remaining-requests': '3499', 'x-ratelimit-remaining-tokens': '89920', 'x-ratelimit-reset-requests': '17ms', 'x-ratelimit-reset-tokens': '52ms', 'x-request-id': 'a30191ac7197a4bd01f83e44075d1a86', 'CF-Cache-Status': 'DYNAMIC', 'Server': 'cloudflare', 'CF-RAY': '7db7fa9dfe173031-BOS', 'alt-svc': 'h3=\":443\"; ma=86400'}\n",
      "Retrying row 18228...\n"
     ]
    },
    {
     "name": "stderr",
     "output_type": "stream",
     "text": [
      "Processing:  32%|██████▊              | 18427/57007 [4:23:55<3:51:58,  2.77it/s]"
     ]
    },
    {
     "name": "stdout",
     "output_type": "stream",
     "text": [
      "Error processing row 18427: The server is overloaded or not ready yet.\n",
      "Retrying row 18427...\n"
     ]
    },
    {
     "name": "stderr",
     "output_type": "stream",
     "text": [
      "Processing:  33%|██████▉              | 18680/57007 [4:25:55<3:20:23,  3.19it/s]"
     ]
    },
    {
     "name": "stdout",
     "output_type": "stream",
     "text": [
      "Error processing row 18680: The server is overloaded or not ready yet.\n",
      "Retrying row 18680...\n"
     ]
    },
    {
     "name": "stderr",
     "output_type": "stream",
     "text": [
      "Processing:  33%|██████▉              | 18738/57007 [4:26:48<3:41:57,  2.87it/s]"
     ]
    },
    {
     "name": "stdout",
     "output_type": "stream",
     "text": [
      "Error processing row 18738: The server is overloaded or not ready yet.\n",
      "Retrying row 18738...\n"
     ]
    },
    {
     "name": "stderr",
     "output_type": "stream",
     "text": [
      "Processing:  33%|██████▉              | 18993/57007 [4:28:52<3:24:45,  3.09it/s]"
     ]
    },
    {
     "name": "stdout",
     "output_type": "stream",
     "text": [
      "Error processing row 18993: The server is overloaded or not ready yet.\n",
      "Retrying row 18993...\n"
     ]
    },
    {
     "name": "stderr",
     "output_type": "stream",
     "text": [
      "Processing:  34%|███████              | 19197/57007 [4:30:34<3:33:07,  2.96it/s]"
     ]
    },
    {
     "name": "stdout",
     "output_type": "stream",
     "text": [
      "Error processing row 19197: Request timed out: HTTPSConnectionPool(host='api.openai.com', port=443): Read timed out. (read timeout=600)\n",
      "Retrying row 19197...\n"
     ]
    },
    {
     "name": "stderr",
     "output_type": "stream",
     "text": [
      "Processing:  34%|███████              | 19221/57007 [4:55:34<5:16:10,  1.99it/s]"
     ]
    },
    {
     "name": "stdout",
     "output_type": "stream",
     "text": [
      "Error processing row 19221: The server is overloaded or not ready yet.\n",
      "Retrying row 19221...\n"
     ]
    },
    {
     "name": "stderr",
     "output_type": "stream",
     "text": [
      "Processing:  34%|███████              | 19319/57007 [4:56:42<3:36:36,  2.90it/s]"
     ]
    },
    {
     "name": "stdout",
     "output_type": "stream",
     "text": [
      "Error processing row 19319: The server is overloaded or not ready yet.\n",
      "Retrying row 19319...\n"
     ]
    },
    {
     "name": "stderr",
     "output_type": "stream",
     "text": [
      "Processing:  35%|███████▎             | 19957/57007 [5:00:58<3:44:27,  2.75it/s]"
     ]
    },
    {
     "name": "stdout",
     "output_type": "stream",
     "text": [
      "Error processing row 19957: The server is overloaded or not ready yet.\n",
      "Retrying row 19957...\n"
     ]
    },
    {
     "name": "stderr",
     "output_type": "stream",
     "text": [
      "Processing:  35%|███████▎             | 20000/57007 [5:01:45<3:03:01,  3.37it/s]"
     ]
    },
    {
     "name": "stdout",
     "output_type": "stream",
     "text": [
      "Error processing row 20000: Bad gateway. {\"error\":{\"code\":502,\"message\":\"Bad gateway.\",\"param\":null,\"type\":\"cf_bad_gateway\"}} 502 {'error': {'code': 502, 'message': 'Bad gateway.', 'param': None, 'type': 'cf_bad_gateway'}} {'Date': 'Thu, 22 Jun 2023 23:22:23 GMT', 'Content-Type': 'application/json', 'Content-Length': '84', 'Connection': 'keep-alive', 'X-Frame-Options': 'SAMEORIGIN', 'Referrer-Policy': 'same-origin', 'Cache-Control': 'private, max-age=0, no-store, no-cache, must-revalidate, post-check=0, pre-check=0', 'Expires': 'Thu, 01 Jan 1970 00:00:01 GMT', 'Server': 'cloudflare', 'CF-RAY': '7db834168aa33025-BOS', 'alt-svc': 'h3=\":443\"; ma=86400'}\n",
      "Retrying row 20000...\n"
     ]
    },
    {
     "name": "stderr",
     "output_type": "stream",
     "text": [
      "Processing:  35%|███████▍             | 20117/57007 [5:07:39<3:22:52,  3.03it/s]"
     ]
    },
    {
     "name": "stdout",
     "output_type": "stream",
     "text": [
      "Error processing row 20117: The server is overloaded or not ready yet.\n",
      "Retrying row 20117...\n"
     ]
    },
    {
     "name": "stderr",
     "output_type": "stream",
     "text": [
      "Processing:  36%|███████▍             | 20340/57007 [5:09:30<4:43:13,  2.16it/s]"
     ]
    },
    {
     "name": "stdout",
     "output_type": "stream",
     "text": [
      "Error processing row 20340: The server is overloaded or not ready yet.\n",
      "Retrying row 20340...\n"
     ]
    },
    {
     "name": "stderr",
     "output_type": "stream",
     "text": [
      "Processing:  36%|███████▋             | 20749/57007 [5:12:34<4:12:59,  2.39it/s]"
     ]
    },
    {
     "name": "stdout",
     "output_type": "stream",
     "text": [
      "Error processing row 20749: The server is overloaded or not ready yet.\n",
      "Retrying row 20749...\n"
     ]
    },
    {
     "name": "stderr",
     "output_type": "stream",
     "text": [
      "Processing:  37%|███████▊             | 21238/57007 [5:16:02<3:44:50,  2.65it/s]"
     ]
    },
    {
     "name": "stdout",
     "output_type": "stream",
     "text": [
      "Error processing row 21238: The server is overloaded or not ready yet.\n",
      "Retrying row 21238...\n"
     ]
    },
    {
     "name": "stderr",
     "output_type": "stream",
     "text": [
      "Processing:  38%|████████             | 21818/57007 [5:20:02<3:18:16,  2.96it/s]"
     ]
    },
    {
     "name": "stdout",
     "output_type": "stream",
     "text": [
      "Error processing row 21818: The server is overloaded or not ready yet.\n",
      "Retrying row 21818...\n"
     ]
    },
    {
     "name": "stderr",
     "output_type": "stream",
     "text": [
      "Processing:  38%|███████▋            | 21822/57007 [5:20:35<35:31:29,  3.63s/it]"
     ]
    },
    {
     "name": "stdout",
     "output_type": "stream",
     "text": [
      "Error processing row 21822: The server is overloaded or not ready yet.\n",
      "Retrying row 21822...\n"
     ]
    },
    {
     "name": "stderr",
     "output_type": "stream",
     "text": [
      "Processing:  39%|████████▎            | 22485/57007 [5:25:07<3:21:08,  2.86it/s]"
     ]
    },
    {
     "name": "stdout",
     "output_type": "stream",
     "text": [
      "Error processing row 22485: The server is overloaded or not ready yet.\n",
      "Retrying row 22485...\n"
     ]
    },
    {
     "name": "stderr",
     "output_type": "stream",
     "text": [
      "Processing:  40%|████████▎            | 22575/57007 [5:26:12<3:26:16,  2.78it/s]"
     ]
    },
    {
     "name": "stdout",
     "output_type": "stream",
     "text": [
      "Error processing row 22575: The server is overloaded or not ready yet.\n",
      "Retrying row 22575...\n"
     ]
    },
    {
     "name": "stderr",
     "output_type": "stream",
     "text": [
      "Processing:  40%|████████▍            | 22833/57007 [5:28:17<3:07:12,  3.04it/s]"
     ]
    },
    {
     "name": "stdout",
     "output_type": "stream",
     "text": [
      "Error processing row 22833: Bad gateway. {\"error\":{\"code\":502,\"message\":\"Bad gateway.\",\"param\":null,\"type\":\"cf_bad_gateway\"}} 502 {'error': {'code': 502, 'message': 'Bad gateway.', 'param': None, 'type': 'cf_bad_gateway'}} {'Date': 'Thu, 22 Jun 2023 23:48:55 GMT', 'Content-Type': 'application/json', 'Content-Length': '84', 'Connection': 'keep-alive', 'X-Frame-Options': 'SAMEORIGIN', 'Referrer-Policy': 'same-origin', 'Cache-Control': 'private, max-age=0, no-store, no-cache, must-revalidate, post-check=0, pre-check=0', 'Expires': 'Thu, 01 Jan 1970 00:00:01 GMT', 'Server': 'cloudflare', 'CF-RAY': '7db85af3fa51ebec-BOS', 'alt-svc': 'h3=\":443\"; ma=86400'}\n",
      "Retrying row 22833...\n"
     ]
    },
    {
     "name": "stderr",
     "output_type": "stream",
     "text": [
      "Processing:  41%|████████▋            | 23583/57007 [5:37:59<3:16:45,  2.83it/s]"
     ]
    },
    {
     "name": "stdout",
     "output_type": "stream",
     "text": [
      "Error processing row 23583: The server is overloaded or not ready yet.\n",
      "Retrying row 23583...\n"
     ]
    },
    {
     "name": "stderr",
     "output_type": "stream",
     "text": [
      "Processing:  42%|████████▋            | 23681/57007 [5:39:06<3:17:51,  2.81it/s]"
     ]
    },
    {
     "name": "stdout",
     "output_type": "stream",
     "text": [
      "Error processing row 23681: The server is overloaded or not ready yet.\n",
      "Retrying row 23681...\n"
     ]
    },
    {
     "name": "stderr",
     "output_type": "stream",
     "text": [
      "Processing:  42%|████████▊            | 23832/57007 [5:40:32<4:13:37,  2.18it/s]"
     ]
    },
    {
     "name": "stdout",
     "output_type": "stream",
     "text": [
      "Error processing row 23832: The server is overloaded or not ready yet.\n",
      "Retrying row 23832...\n"
     ]
    },
    {
     "name": "stderr",
     "output_type": "stream",
     "text": [
      "Processing:  42%|████████▊            | 23881/57007 [5:41:21<2:59:31,  3.08it/s]"
     ]
    },
    {
     "name": "stdout",
     "output_type": "stream",
     "text": [
      "Error processing row 23881: The server is overloaded or not ready yet.\n",
      "Retrying row 23881...\n"
     ]
    },
    {
     "name": "stderr",
     "output_type": "stream",
     "text": [
      "Processing:  42%|████████▊            | 23954/57007 [5:42:19<3:04:51,  2.98it/s]"
     ]
    },
    {
     "name": "stdout",
     "output_type": "stream",
     "text": [
      "Error processing row 23954: The server is overloaded or not ready yet.\n",
      "Retrying row 23954...\n"
     ]
    },
    {
     "name": "stderr",
     "output_type": "stream",
     "text": [
      "Processing:  42%|████████▉            | 24101/57007 [5:43:46<3:28:20,  2.63it/s]"
     ]
    },
    {
     "name": "stdout",
     "output_type": "stream",
     "text": [
      "Error processing row 24101: The server is overloaded or not ready yet.\n",
      "Retrying row 24101...\n"
     ]
    },
    {
     "name": "stderr",
     "output_type": "stream",
     "text": [
      "Processing:  42%|████████▉            | 24168/57007 [5:44:41<2:51:14,  3.20it/s]"
     ]
    },
    {
     "name": "stdout",
     "output_type": "stream",
     "text": [
      "Error processing row 24168: The server is overloaded or not ready yet.\n",
      "Retrying row 24168...\n"
     ]
    },
    {
     "name": "stderr",
     "output_type": "stream",
     "text": [
      "Processing:  44%|█████████▏           | 24898/57007 [5:49:30<3:19:09,  2.69it/s]"
     ]
    },
    {
     "name": "stdout",
     "output_type": "stream",
     "text": [
      "Error processing row 24898: Bad gateway. {\"error\":{\"code\":502,\"message\":\"Bad gateway.\",\"param\":null,\"type\":\"cf_bad_gateway\"}} 502 {'error': {'code': 502, 'message': 'Bad gateway.', 'param': None, 'type': 'cf_bad_gateway'}} {'Date': 'Fri, 23 Jun 2023 00:10:09 GMT', 'Content-Type': 'application/json', 'Content-Length': '84', 'Connection': 'keep-alive', 'X-Frame-Options': 'SAMEORIGIN', 'Referrer-Policy': 'same-origin', 'Cache-Control': 'private, max-age=0, no-store, no-cache, must-revalidate, post-check=0, pre-check=0', 'Expires': 'Thu, 01 Jan 1970 00:00:01 GMT', 'Server': 'cloudflare', 'CF-RAY': '7db87a0bfcf9ebec-BOS', 'alt-svc': 'h3=\":443\"; ma=86400'}\n",
      "Retrying row 24898...\n"
     ]
    },
    {
     "name": "stderr",
     "output_type": "stream",
     "text": [
      "Processing:  45%|█████████▎           | 25445/57007 [5:57:57<2:51:55,  3.06it/s]"
     ]
    },
    {
     "name": "stdout",
     "output_type": "stream",
     "text": [
      "Error processing row 25445: Bad gateway. {\"error\":{\"code\":502,\"message\":\"Bad gateway.\",\"param\":null,\"type\":\"cf_bad_gateway\"}} 502 {'error': {'code': 502, 'message': 'Bad gateway.', 'param': None, 'type': 'cf_bad_gateway'}} {'Date': 'Fri, 23 Jun 2023 00:18:35 GMT', 'Content-Type': 'application/json', 'Content-Length': '84', 'Connection': 'keep-alive', 'X-Frame-Options': 'SAMEORIGIN', 'Referrer-Policy': 'same-origin', 'Cache-Control': 'private, max-age=0, no-store, no-cache, must-revalidate, post-check=0, pre-check=0', 'Expires': 'Thu, 01 Jan 1970 00:00:01 GMT', 'Server': 'cloudflare', 'CF-RAY': '7db886698d92ff84-BOS', 'alt-svc': 'h3=\":443\"; ma=86400'}\n",
      "Retrying row 25445...\n"
     ]
    },
    {
     "name": "stderr",
     "output_type": "stream",
     "text": [
      "Processing:  45%|█████████▍           | 25575/57007 [6:03:58<8:54:35,  1.02s/it]"
     ]
    },
    {
     "name": "stdout",
     "output_type": "stream",
     "text": [
      "Error processing row 25575: The server is overloaded or not ready yet.\n",
      "Retrying row 25575...\n"
     ]
    },
    {
     "name": "stderr",
     "output_type": "stream",
     "text": [
      "Processing:  45%|█████████▍           | 25660/57007 [6:04:59<2:50:37,  3.06it/s]"
     ]
    },
    {
     "name": "stdout",
     "output_type": "stream",
     "text": [
      "Error processing row 25660: The server is overloaded or not ready yet.\n",
      "Retrying row 25660...\n"
     ]
    },
    {
     "name": "stderr",
     "output_type": "stream",
     "text": [
      "Processing:  45%|█████████▍           | 25729/57007 [6:05:56<2:50:12,  3.06it/s]"
     ]
    },
    {
     "name": "stdout",
     "output_type": "stream",
     "text": [
      "Error processing row 25729: The server is overloaded or not ready yet.\n",
      "Retrying row 25729...\n"
     ]
    },
    {
     "name": "stderr",
     "output_type": "stream",
     "text": [
      "Processing:  46%|█████████▋           | 26313/57007 [6:09:46<2:37:19,  3.25it/s]"
     ]
    },
    {
     "name": "stdout",
     "output_type": "stream",
     "text": [
      "Error processing row 26313: The server is overloaded or not ready yet.\n",
      "Retrying row 26313...\n"
     ]
    },
    {
     "name": "stderr",
     "output_type": "stream",
     "text": [
      "Processing:  46%|█████████▋           | 26441/57007 [6:11:03<2:45:59,  3.07it/s]"
     ]
    },
    {
     "name": "stdout",
     "output_type": "stream",
     "text": [
      "Error processing row 26441: The server is overloaded or not ready yet.\n",
      "Retrying row 26441...\n"
     ]
    },
    {
     "name": "stderr",
     "output_type": "stream",
     "text": [
      "Processing:  47%|█████████▉           | 26973/57007 [6:14:37<2:35:58,  3.21it/s]"
     ]
    },
    {
     "name": "stdout",
     "output_type": "stream",
     "text": [
      "Error processing row 26973: The server is overloaded or not ready yet.\n",
      "Retrying row 26973...\n"
     ]
    },
    {
     "name": "stderr",
     "output_type": "stream",
     "text": [
      "Processing:  48%|██████████           | 27165/57007 [6:16:16<3:04:23,  2.70it/s]"
     ]
    },
    {
     "name": "stdout",
     "output_type": "stream",
     "text": [
      "Error processing row 27165: The server is overloaded or not ready yet.\n",
      "Retrying row 27165...\n"
     ]
    },
    {
     "name": "stderr",
     "output_type": "stream",
     "text": [
      "Processing:  48%|██████████           | 27218/57007 [6:17:06<2:43:47,  3.03it/s]"
     ]
    },
    {
     "name": "stdout",
     "output_type": "stream",
     "text": [
      "Error processing row 27218: The server is overloaded or not ready yet.\n",
      "Retrying row 27218...\n"
     ]
    },
    {
     "name": "stderr",
     "output_type": "stream",
     "text": [
      "Processing:  48%|██████████▏          | 27581/57007 [6:19:41<2:52:28,  2.84it/s]"
     ]
    },
    {
     "name": "stdout",
     "output_type": "stream",
     "text": [
      "Error processing row 27581: The server is overloaded or not ready yet.\n",
      "Retrying row 27581...\n"
     ]
    },
    {
     "name": "stderr",
     "output_type": "stream",
     "text": [
      "Processing:  50%|██████████▌          | 28701/57007 [6:27:07<2:42:27,  2.90it/s]"
     ]
    },
    {
     "name": "stdout",
     "output_type": "stream",
     "text": [
      "Error processing row 28701: The server is overloaded or not ready yet.\n",
      "Retrying row 28701...\n"
     ]
    },
    {
     "name": "stderr",
     "output_type": "stream",
     "text": [
      "Processing:  51%|██████████▋          | 29096/57007 [6:29:57<2:22:23,  3.27it/s]"
     ]
    },
    {
     "name": "stdout",
     "output_type": "stream",
     "text": [
      "Error processing row 29096: The server is overloaded or not ready yet.\n",
      "Retrying row 29096...\n"
     ]
    },
    {
     "name": "stderr",
     "output_type": "stream",
     "text": [
      "Processing:  51%|██████████▊          | 29224/57007 [6:31:17<2:20:29,  3.30it/s]"
     ]
    },
    {
     "name": "stdout",
     "output_type": "stream",
     "text": [
      "Error processing row 29224: The server is overloaded or not ready yet.\n",
      "Retrying row 29224...\n"
     ]
    },
    {
     "name": "stderr",
     "output_type": "stream",
     "text": [
      "Processing:  52%|██████████▊          | 29414/57007 [6:32:56<2:57:59,  2.58it/s]"
     ]
    },
    {
     "name": "stdout",
     "output_type": "stream",
     "text": [
      "Error processing row 29414: The server is overloaded or not ready yet.\n",
      "Retrying row 29414...\n"
     ]
    },
    {
     "name": "stderr",
     "output_type": "stream",
     "text": [
      "Processing:  52%|██████████▉          | 29630/57007 [6:34:48<2:50:17,  2.68it/s]"
     ]
    },
    {
     "name": "stdout",
     "output_type": "stream",
     "text": [
      "Error processing row 29630: The server is overloaded or not ready yet.\n",
      "Retrying row 29630...\n"
     ]
    },
    {
     "name": "stderr",
     "output_type": "stream",
     "text": [
      "Processing:  52%|██████████▉          | 29705/57007 [6:35:47<2:42:14,  2.80it/s]"
     ]
    },
    {
     "name": "stdout",
     "output_type": "stream",
     "text": [
      "Error processing row 29705: The server is overloaded or not ready yet.\n",
      "Retrying row 29705...\n"
     ]
    },
    {
     "name": "stderr",
     "output_type": "stream",
     "text": [
      "Processing:  53%|███████████▏         | 30230/57007 [6:39:26<2:48:46,  2.64it/s]"
     ]
    },
    {
     "name": "stdout",
     "output_type": "stream",
     "text": [
      "Error processing row 30230: The server is overloaded or not ready yet.\n",
      "Retrying row 30230...\n"
     ]
    },
    {
     "name": "stderr",
     "output_type": "stream",
     "text": [
      "Processing:  53%|███████████▏         | 30384/57007 [6:40:53<2:43:58,  2.71it/s]"
     ]
    },
    {
     "name": "stdout",
     "output_type": "stream",
     "text": [
      "Error processing row 30384: The server is overloaded or not ready yet.\n",
      "Retrying row 30384...\n"
     ]
    },
    {
     "name": "stderr",
     "output_type": "stream",
     "text": [
      "Processing:  53%|███████████▏         | 30399/57007 [6:41:31<2:56:37,  2.51it/s]"
     ]
    },
    {
     "name": "stdout",
     "output_type": "stream",
     "text": [
      "Error processing row 30399: The server is overloaded or not ready yet.\n",
      "Retrying row 30399...\n"
     ]
    },
    {
     "name": "stderr",
     "output_type": "stream",
     "text": [
      "Processing:  54%|███████████▎         | 30655/57007 [6:43:33<2:35:30,  2.82it/s]"
     ]
    },
    {
     "name": "stdout",
     "output_type": "stream",
     "text": [
      "Error processing row 30655: The server is overloaded or not ready yet.\n",
      "Retrying row 30655...\n"
     ]
    },
    {
     "name": "stderr",
     "output_type": "stream",
     "text": [
      "Processing:  55%|███████████▌         | 31305/57007 [6:47:51<2:11:06,  3.27it/s]"
     ]
    },
    {
     "name": "stdout",
     "output_type": "stream",
     "text": [
      "Error processing row 31305: The server is overloaded or not ready yet.\n",
      "Retrying row 31305...\n"
     ]
    },
    {
     "name": "stderr",
     "output_type": "stream",
     "text": [
      "Processing:  57%|███████████▉         | 32267/57007 [6:53:58<2:21:30,  2.91it/s]"
     ]
    },
    {
     "name": "stdout",
     "output_type": "stream",
     "text": [
      "Error processing row 32267: The server is overloaded or not ready yet.\n",
      "Retrying row 32267...\n"
     ]
    },
    {
     "name": "stderr",
     "output_type": "stream",
     "text": [
      "Processing:  57%|███████████▉         | 32320/57007 [6:54:49<2:20:50,  2.92it/s]"
     ]
    },
    {
     "name": "stdout",
     "output_type": "stream",
     "text": [
      "Error processing row 32320: The server is overloaded or not ready yet.\n",
      "Retrying row 32320...\n"
     ]
    },
    {
     "name": "stderr",
     "output_type": "stream",
     "text": [
      "Processing:  57%|███████████▉         | 32364/57007 [6:55:39<2:30:08,  2.74it/s]"
     ]
    },
    {
     "name": "stdout",
     "output_type": "stream",
     "text": [
      "Error processing row 32364: The server is overloaded or not ready yet.\n",
      "Retrying row 32364...\n"
     ]
    },
    {
     "name": "stderr",
     "output_type": "stream",
     "text": [
      "Processing:  57%|████████████         | 32778/57007 [6:58:42<2:09:30,  3.12it/s]"
     ]
    },
    {
     "name": "stdout",
     "output_type": "stream",
     "text": [
      "Error processing row 32778: The server is overloaded or not ready yet.\n",
      "Retrying row 32778...\n"
     ]
    },
    {
     "name": "stderr",
     "output_type": "stream",
     "text": [
      "Processing:  58%|████████████▎        | 33271/57007 [7:02:09<2:48:56,  2.34it/s]"
     ]
    },
    {
     "name": "stdout",
     "output_type": "stream",
     "text": [
      "Error processing row 33271: The server is overloaded or not ready yet.\n",
      "Retrying row 33271...\n"
     ]
    },
    {
     "name": "stderr",
     "output_type": "stream",
     "text": [
      "Processing:  59%|████████████▍        | 33701/57007 [7:05:14<1:58:53,  3.27it/s]"
     ]
    },
    {
     "name": "stdout",
     "output_type": "stream",
     "text": [
      "Error processing row 33701: The server is overloaded or not ready yet.\n",
      "Retrying row 33701...\n"
     ]
    },
    {
     "name": "stderr",
     "output_type": "stream",
     "text": [
      "Processing:  60%|████████████▌        | 34131/57007 [7:08:30<2:00:10,  3.17it/s]"
     ]
    },
    {
     "name": "stdout",
     "output_type": "stream",
     "text": [
      "Error processing row 34131: The server is overloaded or not ready yet.\n",
      "Retrying row 34131...\n"
     ]
    },
    {
     "name": "stderr",
     "output_type": "stream",
     "text": [
      "Processing:  60%|████████████▌        | 34188/57007 [7:09:22<2:00:27,  3.16it/s]"
     ]
    },
    {
     "name": "stdout",
     "output_type": "stream",
     "text": [
      "Error processing row 34188: The server is overloaded or not ready yet.\n",
      "Retrying row 34188...\n"
     ]
    },
    {
     "name": "stderr",
     "output_type": "stream",
     "text": [
      "Processing:  60%|████████████▋        | 34460/57007 [7:11:30<1:55:40,  3.25it/s]"
     ]
    },
    {
     "name": "stdout",
     "output_type": "stream",
     "text": [
      "Error processing row 34460: The server is overloaded or not ready yet.\n",
      "Retrying row 34460...\n"
     ]
    },
    {
     "name": "stderr",
     "output_type": "stream",
     "text": [
      "Processing:  61%|████████████▋        | 34525/57007 [7:12:25<1:55:55,  3.23it/s]"
     ]
    },
    {
     "name": "stdout",
     "output_type": "stream",
     "text": [
      "Error processing row 34525: The server is overloaded or not ready yet.\n",
      "Retrying row 34525...\n"
     ]
    },
    {
     "name": "stderr",
     "output_type": "stream",
     "text": [
      "Processing:  61%|████████████▉        | 34956/57007 [7:15:32<2:19:52,  2.63it/s]"
     ]
    },
    {
     "name": "stdout",
     "output_type": "stream",
     "text": [
      "Error processing row 34956: The server is overloaded or not ready yet.\n",
      "Retrying row 34956...\n"
     ]
    },
    {
     "name": "stderr",
     "output_type": "stream",
     "text": [
      "Processing:  61%|████████████▉        | 35054/57007 [7:16:41<2:09:14,  2.83it/s]"
     ]
    },
    {
     "name": "stdout",
     "output_type": "stream",
     "text": [
      "Error processing row 35054: The server is overloaded or not ready yet.\n",
      "Retrying row 35054...\n"
     ]
    },
    {
     "name": "stderr",
     "output_type": "stream",
     "text": [
      "Processing:  62%|████████████▉        | 35138/57007 [7:17:42<2:00:45,  3.02it/s]"
     ]
    },
    {
     "name": "stdout",
     "output_type": "stream",
     "text": [
      "Error processing row 35138: The server is overloaded or not ready yet.\n",
      "Retrying row 35138...\n"
     ]
    },
    {
     "name": "stderr",
     "output_type": "stream",
     "text": [
      "Processing:  62%|█████████████        | 35373/57007 [7:19:36<1:55:44,  3.12it/s]"
     ]
    },
    {
     "name": "stdout",
     "output_type": "stream",
     "text": [
      "Error processing row 35373: The server is overloaded or not ready yet.\n",
      "Retrying row 35373...\n"
     ]
    },
    {
     "name": "stderr",
     "output_type": "stream",
     "text": [
      "Processing:  64%|█████████████▌       | 36676/57007 [7:27:52<2:07:27,  2.66it/s]"
     ]
    },
    {
     "name": "stdout",
     "output_type": "stream",
     "text": [
      "Error processing row 36676: Bad gateway. {\"error\":{\"code\":502,\"message\":\"Bad gateway.\",\"param\":null,\"type\":\"cf_bad_gateway\"}} 502 {'error': {'code': 502, 'message': 'Bad gateway.', 'param': None, 'type': 'cf_bad_gateway'}} {'Date': 'Fri, 23 Jun 2023 01:48:30 GMT', 'Content-Type': 'application/json', 'Content-Length': '84', 'Connection': 'keep-alive', 'X-Frame-Options': 'SAMEORIGIN', 'Referrer-Policy': 'same-origin', 'Cache-Control': 'private, max-age=0, no-store, no-cache, must-revalidate, post-check=0, pre-check=0', 'Expires': 'Thu, 01 Jan 1970 00:00:01 GMT', 'Server': 'cloudflare', 'CF-RAY': '7db90a2269f03b76-BOS', 'alt-svc': 'h3=\":443\"; ma=86400'}\n",
      "Retrying row 36676...\n",
      "Error processing row 36676: The server is overloaded or not ready yet.\n",
      "Retrying row 36676...\n"
     ]
    },
    {
     "name": "stderr",
     "output_type": "stream",
     "text": [
      "Processing:  64%|█████████████▌       | 36698/57007 [7:33:45<2:39:48,  2.12it/s]"
     ]
    },
    {
     "name": "stdout",
     "output_type": "stream",
     "text": [
      "Error processing row 36698: The server is overloaded or not ready yet.\n",
      "Retrying row 36698...\n"
     ]
    },
    {
     "name": "stderr",
     "output_type": "stream",
     "text": [
      "Processing:  64%|█████████████▌       | 36707/57007 [7:34:20<5:11:34,  1.09it/s]"
     ]
    },
    {
     "name": "stdout",
     "output_type": "stream",
     "text": [
      "Error processing row 36707: The server is overloaded or not ready yet.\n",
      "Retrying row 36707...\n"
     ]
    },
    {
     "name": "stderr",
     "output_type": "stream",
     "text": [
      "Processing:  65%|█████████████▌       | 36776/57007 [7:35:18<1:42:30,  3.29it/s]"
     ]
    },
    {
     "name": "stdout",
     "output_type": "stream",
     "text": [
      "Error processing row 36776: The server is overloaded or not ready yet.\n",
      "Retrying row 36776...\n"
     ]
    },
    {
     "name": "stderr",
     "output_type": "stream",
     "text": [
      "Processing:  65%|█████████████▋       | 37291/57007 [7:38:56<2:05:25,  2.62it/s]"
     ]
    },
    {
     "name": "stdout",
     "output_type": "stream",
     "text": [
      "Error processing row 37291: The server is overloaded or not ready yet.\n",
      "Retrying row 37291...\n"
     ]
    },
    {
     "name": "stderr",
     "output_type": "stream",
     "text": [
      "Processing:  65%|█████████████▋       | 37303/57007 [7:39:34<3:15:07,  1.68it/s]"
     ]
    },
    {
     "name": "stdout",
     "output_type": "stream",
     "text": [
      "Error processing row 37303: Bad gateway. {\"error\":{\"code\":502,\"message\":\"Bad gateway.\",\"param\":null,\"type\":\"cf_bad_gateway\"}} 502 {'error': {'code': 502, 'message': 'Bad gateway.', 'param': None, 'type': 'cf_bad_gateway'}} {'Date': 'Fri, 23 Jun 2023 02:00:12 GMT', 'Content-Type': 'application/json', 'Content-Length': '84', 'Connection': 'keep-alive', 'X-Frame-Options': 'SAMEORIGIN', 'Referrer-Policy': 'same-origin', 'Cache-Control': 'private, max-age=0, no-store, no-cache, must-revalidate, post-check=0, pre-check=0', 'Expires': 'Thu, 01 Jan 1970 00:00:01 GMT', 'Server': 'cloudflare', 'CF-RAY': '7db91b445f4f3ba6-BOS', 'alt-svc': 'h3=\":443\"; ma=86400'}\n",
      "Retrying row 37303...\n"
     ]
    },
    {
     "name": "stderr",
     "output_type": "stream",
     "text": [
      "Processing:  66%|█████████████▊       | 37665/57007 [7:46:54<1:52:04,  2.88it/s]"
     ]
    },
    {
     "name": "stdout",
     "output_type": "stream",
     "text": [
      "Error processing row 37665: The server is overloaded or not ready yet.\n",
      "Retrying row 37665...\n"
     ]
    },
    {
     "name": "stderr",
     "output_type": "stream",
     "text": [
      "Processing:  67%|██████████████       | 38040/57007 [7:49:43<1:38:19,  3.21it/s]"
     ]
    },
    {
     "name": "stdout",
     "output_type": "stream",
     "text": [
      "Error processing row 38040: The server is overloaded or not ready yet.\n",
      "Retrying row 38040...\n"
     ]
    },
    {
     "name": "stderr",
     "output_type": "stream",
     "text": [
      "Processing:  67%|██████████████       | 38264/57007 [7:51:31<2:07:52,  2.44it/s]"
     ]
    },
    {
     "name": "stdout",
     "output_type": "stream",
     "text": [
      "Error processing row 38264: The server is overloaded or not ready yet.\n",
      "Retrying row 38264...\n"
     ]
    },
    {
     "name": "stderr",
     "output_type": "stream",
     "text": [
      "Processing:  68%|██████████████▎      | 38793/57007 [7:55:12<1:33:22,  3.25it/s]"
     ]
    },
    {
     "name": "stdout",
     "output_type": "stream",
     "text": [
      "Error processing row 38793: Bad gateway. {\"error\":{\"code\":502,\"message\":\"Bad gateway.\",\"param\":null,\"type\":\"cf_bad_gateway\"}} 502 {'error': {'code': 502, 'message': 'Bad gateway.', 'param': None, 'type': 'cf_bad_gateway'}} {'Date': 'Fri, 23 Jun 2023 02:15:50 GMT', 'Content-Type': 'application/json', 'Content-Length': '84', 'Connection': 'keep-alive', 'X-Frame-Options': 'SAMEORIGIN', 'Referrer-Policy': 'same-origin', 'Cache-Control': 'private, max-age=0, no-store, no-cache, must-revalidate, post-check=0, pre-check=0', 'Expires': 'Thu, 01 Jan 1970 00:00:01 GMT', 'Server': 'cloudflare', 'CF-RAY': '7db93228ae9732c6-PHL', 'alt-svc': 'h3=\":443\"; ma=86400'}\n",
      "Retrying row 38793...\n"
     ]
    },
    {
     "name": "stderr",
     "output_type": "stream",
     "text": [
      "Processing:  69%|██████████████▍      | 39109/57007 [8:02:13<1:54:30,  2.60it/s]"
     ]
    },
    {
     "name": "stdout",
     "output_type": "stream",
     "text": [
      "Error processing row 39109: The server is overloaded or not ready yet.\n",
      "Retrying row 39109...\n"
     ]
    },
    {
     "name": "stderr",
     "output_type": "stream",
     "text": [
      "Processing:  70%|██████████████▌      | 39671/57007 [8:06:03<2:03:27,  2.34it/s]"
     ]
    },
    {
     "name": "stdout",
     "output_type": "stream",
     "text": [
      "Error processing row 39671: The server is overloaded or not ready yet.\n",
      "Retrying row 39671...\n"
     ]
    },
    {
     "name": "stderr",
     "output_type": "stream",
     "text": [
      "Processing:  70%|██████████████▋      | 39740/57007 [8:06:58<1:39:39,  2.89it/s]"
     ]
    },
    {
     "name": "stdout",
     "output_type": "stream",
     "text": [
      "Error processing row 39740: The server is overloaded or not ready yet.\n",
      "Retrying row 39740...\n"
     ]
    },
    {
     "name": "stderr",
     "output_type": "stream",
     "text": [
      "Processing:  70%|██████████████▋      | 39936/57007 [8:08:37<1:27:27,  3.25it/s]"
     ]
    },
    {
     "name": "stdout",
     "output_type": "stream",
     "text": [
      "Error processing row 39936: The server is overloaded or not ready yet.\n",
      "Retrying row 39936...\n"
     ]
    },
    {
     "name": "stderr",
     "output_type": "stream",
     "text": [
      "Processing:  71%|██████████████▊      | 40280/57007 [8:11:10<1:40:53,  2.76it/s]"
     ]
    },
    {
     "name": "stdout",
     "output_type": "stream",
     "text": [
      "Error processing row 40280: The server is overloaded or not ready yet.\n",
      "Retrying row 40280...\n"
     ]
    },
    {
     "name": "stderr",
     "output_type": "stream",
     "text": [
      "Processing:  74%|███████████████▍     | 41987/57007 [8:21:37<1:17:32,  3.23it/s]"
     ]
    },
    {
     "name": "stdout",
     "output_type": "stream",
     "text": [
      "Error processing row 41987: The server is overloaded or not ready yet.\n",
      "Retrying row 41987...\n"
     ]
    },
    {
     "name": "stderr",
     "output_type": "stream",
     "text": [
      "Processing:  74%|███████████████▌     | 42352/57007 [8:24:23<1:19:54,  3.06it/s]"
     ]
    },
    {
     "name": "stdout",
     "output_type": "stream",
     "text": [
      "Error processing row 42352: The server is overloaded or not ready yet.\n",
      "Retrying row 42352...\n"
     ]
    },
    {
     "name": "stderr",
     "output_type": "stream",
     "text": [
      "Processing:  74%|███████████████▋     | 42467/57007 [8:25:36<1:22:59,  2.92it/s]"
     ]
    },
    {
     "name": "stdout",
     "output_type": "stream",
     "text": [
      "Error processing row 42467: The server is overloaded or not ready yet.\n",
      "Retrying row 42467...\n"
     ]
    },
    {
     "name": "stderr",
     "output_type": "stream",
     "text": [
      "Processing:  75%|███████████████▋     | 42526/57007 [8:26:28<1:22:19,  2.93it/s]"
     ]
    },
    {
     "name": "stdout",
     "output_type": "stream",
     "text": [
      "Error processing row 42526: The server is overloaded or not ready yet.\n",
      "Retrying row 42526...\n"
     ]
    },
    {
     "name": "stderr",
     "output_type": "stream",
     "text": [
      "Processing:  77%|████████████████▏    | 44046/57007 [8:35:52<1:17:22,  2.79it/s]"
     ]
    },
    {
     "name": "stdout",
     "output_type": "stream",
     "text": [
      "Error processing row 44046: The server is overloaded or not ready yet.\n",
      "Retrying row 44046...\n"
     ]
    },
    {
     "name": "stderr",
     "output_type": "stream",
     "text": [
      "Processing:  77%|████████████████▏    | 44074/57007 [8:36:34<1:07:37,  3.19it/s]"
     ]
    },
    {
     "name": "stdout",
     "output_type": "stream",
     "text": [
      "Error processing row 44074: The server is overloaded or not ready yet.\n",
      "Retrying row 44074...\n"
     ]
    },
    {
     "name": "stderr",
     "output_type": "stream",
     "text": [
      "Processing:  78%|████████████████▎    | 44241/57007 [8:38:02<1:20:39,  2.64it/s]"
     ]
    },
    {
     "name": "stdout",
     "output_type": "stream",
     "text": [
      "Error processing row 44241: The server is overloaded or not ready yet.\n",
      "Retrying row 44241...\n"
     ]
    },
    {
     "name": "stderr",
     "output_type": "stream",
     "text": [
      "Processing:  78%|████████████████▎    | 44451/57007 [8:39:43<1:14:19,  2.82it/s]"
     ]
    },
    {
     "name": "stdout",
     "output_type": "stream",
     "text": [
      "Error processing row 44451: The server is overloaded or not ready yet.\n",
      "Retrying row 44451...\n"
     ]
    },
    {
     "name": "stderr",
     "output_type": "stream",
     "text": [
      "Processing:  78%|████████████████▍    | 44521/57007 [8:40:40<1:02:52,  3.31it/s]"
     ]
    },
    {
     "name": "stdout",
     "output_type": "stream",
     "text": [
      "Error processing row 44521: The server is overloaded or not ready yet.\n",
      "Retrying row 44521...\n"
     ]
    },
    {
     "name": "stderr",
     "output_type": "stream",
     "text": [
      "Processing:  79%|████████████████▌    | 44832/57007 [8:42:59<1:05:35,  3.09it/s]"
     ]
    },
    {
     "name": "stdout",
     "output_type": "stream",
     "text": [
      "Error processing row 44832: Bad gateway. {\"error\":{\"code\":502,\"message\":\"Bad gateway.\",\"param\":null,\"type\":\"cf_bad_gateway\"}} 502 {'error': {'code': 502, 'message': 'Bad gateway.', 'param': None, 'type': 'cf_bad_gateway'}} {'Date': 'Fri, 23 Jun 2023 03:03:37 GMT', 'Content-Type': 'application/json', 'Content-Length': '84', 'Connection': 'keep-alive', 'X-Frame-Options': 'SAMEORIGIN', 'Referrer-Policy': 'same-origin', 'Cache-Control': 'private, max-age=0, no-store, no-cache, must-revalidate, post-check=0, pre-check=0', 'Expires': 'Thu, 01 Jan 1970 00:00:01 GMT', 'Server': 'cloudflare', 'CF-RAY': '7db978272eb53061-BOS', 'alt-svc': 'h3=\":443\"; ma=86400'}\n",
      "Retrying row 44832...\n"
     ]
    },
    {
     "name": "stderr",
     "output_type": "stream",
     "text": [
      "Processing:  79%|████████████████▌    | 45036/57007 [8:49:20<1:10:26,  2.83it/s]"
     ]
    },
    {
     "name": "stdout",
     "output_type": "stream",
     "text": [
      "Error processing row 45036: The server is overloaded or not ready yet.\n",
      "Retrying row 45036...\n"
     ]
    },
    {
     "name": "stderr",
     "output_type": "stream",
     "text": [
      "Processing:  79%|████████████████▌    | 45125/57007 [8:50:22<1:00:11,  3.29it/s]"
     ]
    },
    {
     "name": "stdout",
     "output_type": "stream",
     "text": [
      "Error processing row 45125: The server is overloaded or not ready yet.\n",
      "Retrying row 45125...\n"
     ]
    },
    {
     "name": "stderr",
     "output_type": "stream",
     "text": [
      "Processing:  79%|████████████████▋    | 45255/57007 [8:51:38<1:03:24,  3.09it/s]"
     ]
    },
    {
     "name": "stdout",
     "output_type": "stream",
     "text": [
      "Error processing row 45255: Bad gateway. {\"error\":{\"code\":502,\"message\":\"Bad gateway.\",\"param\":null,\"type\":\"cf_bad_gateway\"}} 502 {'error': {'code': 502, 'message': 'Bad gateway.', 'param': None, 'type': 'cf_bad_gateway'}} {'Date': 'Fri, 23 Jun 2023 03:12:16 GMT', 'Content-Type': 'application/json', 'Content-Length': '84', 'Connection': 'keep-alive', 'X-Frame-Options': 'SAMEORIGIN', 'Referrer-Policy': 'same-origin', 'Cache-Control': 'private, max-age=0, no-store, no-cache, must-revalidate, post-check=0, pre-check=0', 'Expires': 'Thu, 01 Jan 1970 00:00:01 GMT', 'Server': 'cloudflare', 'CF-RAY': '7db984d6b833ff84-BOS', 'alt-svc': 'h3=\":443\"; ma=86400'}\n",
      "Retrying row 45255...\n"
     ]
    },
    {
     "name": "stderr",
     "output_type": "stream",
     "text": [
      "Processing:  80%|████████████████▊    | 45605/57007 [8:58:53<1:05:48,  2.89it/s]"
     ]
    },
    {
     "name": "stdout",
     "output_type": "stream",
     "text": [
      "Error processing row 45605: The server is overloaded or not ready yet.\n",
      "Retrying row 45605...\n"
     ]
    },
    {
     "name": "stderr",
     "output_type": "stream",
     "text": [
      "Processing:  80%|████████████████▊    | 45767/57007 [9:00:20<1:06:54,  2.80it/s]"
     ]
    },
    {
     "name": "stdout",
     "output_type": "stream",
     "text": [
      "Error processing row 45767: The server is overloaded or not ready yet.\n",
      "Retrying row 45767...\n"
     ]
    },
    {
     "name": "stderr",
     "output_type": "stream",
     "text": [
      "Processing:  80%|██████████████████▍    | 45813/57007 [9:01:09<56:49,  3.28it/s]"
     ]
    },
    {
     "name": "stdout",
     "output_type": "stream",
     "text": [
      "Error processing row 45813: The server is overloaded or not ready yet.\n",
      "Retrying row 45813...\n"
     ]
    },
    {
     "name": "stderr",
     "output_type": "stream",
     "text": [
      "Processing:  81%|██████████████████▋    | 46367/57007 [9:04:49<57:57,  3.06it/s]"
     ]
    },
    {
     "name": "stdout",
     "output_type": "stream",
     "text": [
      "Error processing row 46367: The server is overloaded or not ready yet.\n",
      "Retrying row 46367...\n"
     ]
    },
    {
     "name": "stderr",
     "output_type": "stream",
     "text": [
      "Processing:  82%|█████████████████▏   | 46496/57007 [9:06:07<1:03:46,  2.75it/s]"
     ]
    },
    {
     "name": "stdout",
     "output_type": "stream",
     "text": [
      "Error processing row 46496: The server is overloaded or not ready yet.\n",
      "Retrying row 46496...\n"
     ]
    },
    {
     "name": "stderr",
     "output_type": "stream",
     "text": [
      "Processing:  83%|█████████████████▎   | 47066/57007 [9:09:57<1:03:57,  2.59it/s]"
     ]
    },
    {
     "name": "stdout",
     "output_type": "stream",
     "text": [
      "Error processing row 47066: Bad gateway. {\"error\":{\"code\":502,\"message\":\"Bad gateway.\",\"param\":null,\"type\":\"cf_bad_gateway\"}} 502 {'error': {'code': 502, 'message': 'Bad gateway.', 'param': None, 'type': 'cf_bad_gateway'}} {'Date': 'Fri, 23 Jun 2023 03:30:36 GMT', 'Content-Type': 'application/json', 'Content-Length': '84', 'Connection': 'keep-alive', 'X-Frame-Options': 'SAMEORIGIN', 'Referrer-Policy': 'same-origin', 'Cache-Control': 'private, max-age=0, no-store, no-cache, must-revalidate, post-check=0, pre-check=0', 'Expires': 'Thu, 01 Jan 1970 00:00:01 GMT', 'Server': 'cloudflare', 'CF-RAY': '7db99fabeec0ebf4-BOS', 'alt-svc': 'h3=\":443\"; ma=86400'}\n",
      "Retrying row 47066...\n"
     ]
    },
    {
     "name": "stderr",
     "output_type": "stream",
     "text": [
      "Processing:  83%|███████████████████    | 47231/57007 [9:16:08<52:16,  3.12it/s]"
     ]
    },
    {
     "name": "stdout",
     "output_type": "stream",
     "text": [
      "Error processing row 47231: The server is overloaded or not ready yet.\n",
      "Retrying row 47231...\n"
     ]
    },
    {
     "name": "stderr",
     "output_type": "stream",
     "text": [
      "Processing:  83%|█████████████████▍   | 47340/57007 [9:17:18<1:03:09,  2.55it/s]"
     ]
    },
    {
     "name": "stdout",
     "output_type": "stream",
     "text": [
      "Error processing row 47340: Bad gateway. {\"error\":{\"code\":502,\"message\":\"Bad gateway.\",\"param\":null,\"type\":\"cf_bad_gateway\"}} 502 {'error': {'code': 502, 'message': 'Bad gateway.', 'param': None, 'type': 'cf_bad_gateway'}} {'Date': 'Fri, 23 Jun 2023 03:37:57 GMT', 'Content-Type': 'application/json', 'Content-Length': '84', 'Connection': 'keep-alive', 'X-Frame-Options': 'SAMEORIGIN', 'Referrer-Policy': 'same-origin', 'Cache-Control': 'private, max-age=0, no-store, no-cache, must-revalidate, post-check=0, pre-check=0', 'Expires': 'Thu, 01 Jan 1970 00:00:01 GMT', 'Server': 'cloudflare', 'CF-RAY': '7db9aa709e163ba5-BOS', 'alt-svc': 'h3=\":443\"; ma=86400'}\n",
      "Retrying row 47340...\n"
     ]
    },
    {
     "name": "stderr",
     "output_type": "stream",
     "text": [
      "Processing:  83%|█████████████████▍   | 47449/57007 [9:23:10<1:03:25,  2.51it/s]"
     ]
    },
    {
     "name": "stdout",
     "output_type": "stream",
     "text": [
      "Error processing row 47449: The server is overloaded or not ready yet.\n",
      "Retrying row 47449...\n"
     ]
    },
    {
     "name": "stderr",
     "output_type": "stream",
     "text": [
      "Processing:  83%|███████████████████▏   | 47473/57007 [9:23:50<55:48,  2.85it/s]"
     ]
    },
    {
     "name": "stdout",
     "output_type": "stream",
     "text": [
      "Error processing row 47473: The server is overloaded or not ready yet.\n",
      "Retrying row 47473...\n"
     ]
    },
    {
     "name": "stderr",
     "output_type": "stream",
     "text": [
      "Processing:  84%|███████████████████▎   | 47740/57007 [9:25:53<47:04,  3.28it/s]"
     ]
    },
    {
     "name": "stdout",
     "output_type": "stream",
     "text": [
      "Error processing row 47740: The server is overloaded or not ready yet.\n",
      "Retrying row 47740...\n"
     ]
    },
    {
     "name": "stderr",
     "output_type": "stream",
     "text": [
      "Processing:  85%|███████████████████▍   | 48296/57007 [9:29:35<50:47,  2.86it/s]"
     ]
    },
    {
     "name": "stdout",
     "output_type": "stream",
     "text": [
      "Error processing row 48296: The server is overloaded or not ready yet.\n",
      "Retrying row 48296...\n"
     ]
    },
    {
     "name": "stderr",
     "output_type": "stream",
     "text": [
      "Processing:  85%|█████████████████▊   | 48307/57007 [9:30:11<1:28:49,  1.63it/s]"
     ]
    },
    {
     "name": "stdout",
     "output_type": "stream",
     "text": [
      "Error processing row 48307: The server is overloaded or not ready yet.\n",
      "Retrying row 48307...\n"
     ]
    },
    {
     "name": "stderr",
     "output_type": "stream",
     "text": [
      "Processing:  85%|███████████████████▌   | 48426/57007 [9:31:21<48:24,  2.95it/s]"
     ]
    },
    {
     "name": "stdout",
     "output_type": "stream",
     "text": [
      "Error processing row 48426: The server is overloaded or not ready yet.\n",
      "Retrying row 48426...\n"
     ]
    },
    {
     "name": "stderr",
     "output_type": "stream",
     "text": [
      "Processing:  85%|███████████████████▌   | 48641/57007 [9:33:09<47:38,  2.93it/s]"
     ]
    },
    {
     "name": "stdout",
     "output_type": "stream",
     "text": [
      "Error processing row 48641: The server is overloaded or not ready yet.\n",
      "Retrying row 48641...\n"
     ]
    },
    {
     "name": "stderr",
     "output_type": "stream",
     "text": [
      "Processing:  86%|███████████████████▋   | 48781/57007 [9:34:29<52:25,  2.62it/s]"
     ]
    },
    {
     "name": "stdout",
     "output_type": "stream",
     "text": [
      "Error processing row 48781: The server is overloaded or not ready yet.\n",
      "Retrying row 48781...\n"
     ]
    },
    {
     "name": "stderr",
     "output_type": "stream",
     "text": [
      "Processing:  86%|███████████████████▊   | 49050/57007 [9:36:31<44:26,  2.98it/s]"
     ]
    },
    {
     "name": "stdout",
     "output_type": "stream",
     "text": [
      "Error processing row 49050: The server is overloaded or not ready yet.\n",
      "Retrying row 49050...\n"
     ]
    },
    {
     "name": "stderr",
     "output_type": "stream",
     "text": [
      "Processing:  86%|███████████████████▊   | 49208/57007 [9:37:56<40:20,  3.22it/s]"
     ]
    },
    {
     "name": "stdout",
     "output_type": "stream",
     "text": [
      "Error processing row 49208: The server is overloaded or not ready yet.\n",
      "Retrying row 49208...\n"
     ]
    },
    {
     "name": "stderr",
     "output_type": "stream",
     "text": [
      "Processing:  87%|███████████████████▉   | 49495/57007 [9:40:06<45:27,  2.75it/s]"
     ]
    },
    {
     "name": "stdout",
     "output_type": "stream",
     "text": [
      "Error processing row 49495: The server is overloaded or not ready yet.\n",
      "Retrying row 49495...\n"
     ]
    },
    {
     "name": "stderr",
     "output_type": "stream",
     "text": [
      "Processing:  87%|███████████████████▉   | 49566/57007 [9:41:01<38:16,  3.24it/s]"
     ]
    },
    {
     "name": "stdout",
     "output_type": "stream",
     "text": [
      "Error processing row 49566: The server is overloaded or not ready yet.\n",
      "Retrying row 49566...\n"
     ]
    },
    {
     "name": "stderr",
     "output_type": "stream",
     "text": [
      "Processing:  88%|████████████████████▏  | 50072/57007 [9:44:28<37:44,  3.06it/s]"
     ]
    },
    {
     "name": "stdout",
     "output_type": "stream",
     "text": [
      "Error processing row 50072: The server is overloaded or not ready yet.\n",
      "Retrying row 50072...\n"
     ]
    },
    {
     "name": "stderr",
     "output_type": "stream",
     "text": [
      "Processing:  88%|████████████████████▏  | 50160/57007 [9:45:31<42:17,  2.70it/s]"
     ]
    },
    {
     "name": "stdout",
     "output_type": "stream",
     "text": [
      "Error processing row 50160: Request timed out: HTTPSConnectionPool(host='api.openai.com', port=443): Read timed out. (read timeout=600)\n",
      "Retrying row 50160...\n"
     ]
    },
    {
     "name": "stderr",
     "output_type": "stream",
     "text": [
      "Processing:  88%|███████████████████▍  | 50281/57007 [10:06:19<40:36,  2.76it/s]"
     ]
    },
    {
     "name": "stdout",
     "output_type": "stream",
     "text": [
      "Error processing row 50281: Request timed out: HTTPSConnectionPool(host='api.openai.com', port=443): Read timed out. (read timeout=600)\n",
      "Retrying row 50281...\n"
     ]
    },
    {
     "name": "stderr",
     "output_type": "stream",
     "text": [
      "Processing:  88%|███████████████████▍  | 50356/57007 [10:16:47<38:08,  2.91it/s]"
     ]
    },
    {
     "name": "stdout",
     "output_type": "stream",
     "text": [
      "Error processing row 50356: Bad gateway. {\"error\":{\"code\":502,\"message\":\"Bad gateway.\",\"param\":null,\"type\":\"cf_bad_gateway\"}} 502 {'error': {'code': 502, 'message': 'Bad gateway.', 'param': None, 'type': 'cf_bad_gateway'}} {'Date': 'Fri, 23 Jun 2023 04:37:25 GMT', 'Content-Type': 'application/json', 'Content-Length': '84', 'Connection': 'keep-alive', 'X-Frame-Options': 'SAMEORIGIN', 'Referrer-Policy': 'same-origin', 'Cache-Control': 'private, max-age=0, no-store, no-cache, must-revalidate, post-check=0, pre-check=0', 'Expires': 'Thu, 01 Jan 1970 00:00:01 GMT', 'Server': 'cloudflare', 'CF-RAY': '7dba0190fbf91885-EWR', 'alt-svc': 'h3=\":443\"; ma=86400'}\n",
      "Retrying row 50356...\n"
     ]
    },
    {
     "name": "stderr",
     "output_type": "stream",
     "text": [
      "Processing:  88%|███████████████████▍  | 50416/57007 [10:22:21<37:51,  2.90it/s]"
     ]
    },
    {
     "name": "stdout",
     "output_type": "stream",
     "text": [
      "Error processing row 50416: The server is overloaded or not ready yet.\n",
      "Retrying row 50416...\n"
     ]
    },
    {
     "name": "stderr",
     "output_type": "stream",
     "text": [
      "Processing:  89%|███████████████████▍  | 50458/57007 [10:23:08<36:20,  3.00it/s]"
     ]
    },
    {
     "name": "stdout",
     "output_type": "stream",
     "text": [
      "Error processing row 50458: The server is overloaded or not ready yet.\n",
      "Retrying row 50458...\n"
     ]
    },
    {
     "name": "stderr",
     "output_type": "stream",
     "text": [
      "Processing:  89%|███████████████████▍  | 50481/57007 [10:23:49<44:44,  2.43it/s]"
     ]
    },
    {
     "name": "stdout",
     "output_type": "stream",
     "text": [
      "Error processing row 50481: The server is overloaded or not ready yet.\n",
      "Retrying row 50481...\n"
     ]
    },
    {
     "name": "stderr",
     "output_type": "stream",
     "text": [
      "Processing:  89%|███████████████████▌  | 50692/57007 [10:25:34<36:26,  2.89it/s]"
     ]
    },
    {
     "name": "stdout",
     "output_type": "stream",
     "text": [
      "Error processing row 50692: The server is overloaded or not ready yet.\n",
      "Retrying row 50692...\n"
     ]
    },
    {
     "name": "stderr",
     "output_type": "stream",
     "text": [
      "Processing:  89%|███████████████████▌  | 50743/57007 [10:26:22<33:19,  3.13it/s]"
     ]
    },
    {
     "name": "stdout",
     "output_type": "stream",
     "text": [
      "Error processing row 50743: The server is overloaded or not ready yet.\n",
      "Retrying row 50743...\n"
     ]
    },
    {
     "name": "stderr",
     "output_type": "stream",
     "text": [
      "Processing:  89%|███████████████████▌  | 50767/57007 [10:27:02<35:40,  2.92it/s]"
     ]
    },
    {
     "name": "stdout",
     "output_type": "stream",
     "text": [
      "Error processing row 50767: The server is overloaded or not ready yet.\n",
      "Retrying row 50767...\n"
     ]
    },
    {
     "name": "stderr",
     "output_type": "stream",
     "text": [
      "Processing:  89%|███████████████████▌  | 50841/57007 [10:28:01<32:32,  3.16it/s]"
     ]
    },
    {
     "name": "stdout",
     "output_type": "stream",
     "text": [
      "Error processing row 50841: The server is overloaded or not ready yet.\n",
      "Retrying row 50841...\n"
     ]
    },
    {
     "name": "stderr",
     "output_type": "stream",
     "text": [
      "Processing:  90%|███████████████████▊  | 51231/57007 [10:30:49<30:37,  3.14it/s]"
     ]
    },
    {
     "name": "stdout",
     "output_type": "stream",
     "text": [
      "Error processing row 51231: Error communicating with OpenAI: ('Connection aborted.', ConnectionResetError(54, 'Connection reset by peer'))\n",
      "Retrying row 51231...\n"
     ]
    },
    {
     "name": "stderr",
     "output_type": "stream",
     "text": [
      "Processing:  90%|███████████████████▊  | 51443/57007 [10:32:03<31:45,  2.92it/s]"
     ]
    },
    {
     "name": "stdout",
     "output_type": "stream",
     "text": [
      "Error processing row 51443: The server is overloaded or not ready yet.\n",
      "Retrying row 51443...\n"
     ]
    },
    {
     "name": "stderr",
     "output_type": "stream",
     "text": [
      "Processing:  91%|████████████████████  | 51841/57007 [10:34:53<35:27,  2.43it/s]"
     ]
    },
    {
     "name": "stdout",
     "output_type": "stream",
     "text": [
      "Error processing row 51841: The server is overloaded or not ready yet.\n",
      "Retrying row 51841...\n"
     ]
    },
    {
     "name": "stderr",
     "output_type": "stream",
     "text": [
      "Processing:  92%|████████████████████▏ | 52230/57007 [10:37:38<23:57,  3.32it/s]"
     ]
    },
    {
     "name": "stdout",
     "output_type": "stream",
     "text": [
      "Error processing row 52230: Bad gateway. {\"error\":{\"code\":502,\"message\":\"Bad gateway.\",\"param\":null,\"type\":\"cf_bad_gateway\"}} 502 {'error': {'code': 502, 'message': 'Bad gateway.', 'param': None, 'type': 'cf_bad_gateway'}} {'Date': 'Fri, 23 Jun 2023 04:58:17 GMT', 'Content-Type': 'application/json', 'Content-Length': '84', 'Connection': 'keep-alive', 'X-Frame-Options': 'SAMEORIGIN', 'Referrer-Policy': 'same-origin', 'Cache-Control': 'private, max-age=0, no-store, no-cache, must-revalidate, post-check=0, pre-check=0', 'Expires': 'Thu, 01 Jan 1970 00:00:01 GMT', 'Server': 'cloudflare', 'CF-RAY': '7dba201eea4b3b9f-BOS', 'alt-svc': 'h3=\":443\"; ma=86400'}\n",
      "Retrying row 52230...\n"
     ]
    },
    {
     "name": "stderr",
     "output_type": "stream",
     "text": [
      "Processing:  92%|██████████████████▍ | 52460/57007 [10:45:07<1:37:29,  1.29s/it]"
     ]
    },
    {
     "name": "stdout",
     "output_type": "stream",
     "text": [
      "Error processing row 52460: The server is overloaded or not ready yet.\n",
      "Retrying row 52460...\n"
     ]
    },
    {
     "name": "stderr",
     "output_type": "stream",
     "text": [
      "Processing:  92%|████████████████████▎ | 52678/57007 [10:47:48<28:17,  2.55it/s]"
     ]
    },
    {
     "name": "stdout",
     "output_type": "stream",
     "text": [
      "Error processing row 52678: The server is overloaded or not ready yet.\n",
      "Retrying row 52678...\n"
     ]
    },
    {
     "name": "stderr",
     "output_type": "stream",
     "text": [
      "Processing:  93%|████████████████████▎ | 52784/57007 [10:49:12<35:03,  2.01it/s]"
     ]
    },
    {
     "name": "stdout",
     "output_type": "stream",
     "text": [
      "Error processing row 52784: The server is overloaded or not ready yet.\n",
      "Retrying row 52784...\n"
     ]
    },
    {
     "name": "stderr",
     "output_type": "stream",
     "text": [
      "Processing:  93%|████████████████████▍ | 53012/57007 [10:51:33<33:26,  1.99it/s]"
     ]
    },
    {
     "name": "stdout",
     "output_type": "stream",
     "text": [
      "Error processing row 53012: The server is overloaded or not ready yet.\n",
      "Retrying row 53012...\n"
     ]
    },
    {
     "name": "stderr",
     "output_type": "stream",
     "text": [
      "Processing:  93%|████████████████████▍ | 53106/57007 [10:53:00<28:07,  2.31it/s]"
     ]
    },
    {
     "name": "stdout",
     "output_type": "stream",
     "text": [
      "Error processing row 53106: The server is overloaded or not ready yet.\n",
      "Retrying row 53106...\n"
     ]
    },
    {
     "name": "stderr",
     "output_type": "stream",
     "text": [
      "Processing:  93%|████████████████████▌ | 53186/57007 [10:54:21<33:32,  1.90it/s]"
     ]
    },
    {
     "name": "stdout",
     "output_type": "stream",
     "text": [
      "Error processing row 53186: The server is overloaded or not ready yet.\n",
      "Retrying row 53186...\n"
     ]
    },
    {
     "name": "stderr",
     "output_type": "stream",
     "text": [
      "Processing:  93%|████████████████████▌ | 53285/57007 [10:55:38<25:47,  2.41it/s]"
     ]
    },
    {
     "name": "stdout",
     "output_type": "stream",
     "text": [
      "Error processing row 53285: The server is overloaded or not ready yet.\n",
      "Retrying row 53285...\n"
     ]
    },
    {
     "name": "stderr",
     "output_type": "stream",
     "text": [
      "Processing:  94%|████████████████████▌ | 53394/57007 [10:57:12<25:38,  2.35it/s]"
     ]
    },
    {
     "name": "stdout",
     "output_type": "stream",
     "text": [
      "Error processing row 53394: The server is overloaded or not ready yet.\n",
      "Retrying row 53394...\n"
     ]
    },
    {
     "name": "stderr",
     "output_type": "stream",
     "text": [
      "Processing:  94%|██████████████████▋ | 53425/57007 [10:58:01<1:41:00,  1.69s/it]"
     ]
    },
    {
     "name": "stdout",
     "output_type": "stream",
     "text": [
      "Error processing row 53425: Error communicating with OpenAI: ('Connection aborted.', ConnectionResetError(54, 'Connection reset by peer'))\n",
      "Retrying row 53425...\n"
     ]
    },
    {
     "name": "stderr",
     "output_type": "stream",
     "text": [
      "Processing:  94%|████████████████████▋ | 53753/57007 [11:00:21<16:30,  3.28it/s]"
     ]
    },
    {
     "name": "stdout",
     "output_type": "stream",
     "text": [
      "Error processing row 53753: Bad gateway. {\"error\":{\"code\":502,\"message\":\"Bad gateway.\",\"param\":null,\"type\":\"cf_bad_gateway\"}} 502 {'error': {'code': 502, 'message': 'Bad gateway.', 'param': None, 'type': 'cf_bad_gateway'}} {'Date': 'Fri, 23 Jun 2023 05:21:00 GMT', 'Content-Type': 'application/json', 'Content-Length': '84', 'Connection': 'keep-alive', 'X-Frame-Options': 'SAMEORIGIN', 'Referrer-Policy': 'same-origin', 'Cache-Control': 'private, max-age=0, no-store, no-cache, must-revalidate, post-check=0, pre-check=0', 'Expires': 'Thu, 01 Jan 1970 00:00:01 GMT', 'Server': 'cloudflare', 'CF-RAY': '7dba416499533059-BOS', 'alt-svc': 'h3=\":443\"; ma=86400'}\n",
      "Retrying row 53753...\n"
     ]
    },
    {
     "name": "stderr",
     "output_type": "stream",
     "text": [
      "Processing:  95%|████████████████████▊ | 54063/57007 [11:08:04<23:06,  2.12it/s]"
     ]
    },
    {
     "name": "stdout",
     "output_type": "stream",
     "text": [
      "Error processing row 54063: The server is overloaded or not ready yet.\n",
      "Retrying row 54063...\n"
     ]
    },
    {
     "name": "stderr",
     "output_type": "stream",
     "text": [
      "Processing:  95%|████████████████████▉ | 54193/57007 [11:09:45<26:29,  1.77it/s]"
     ]
    },
    {
     "name": "stdout",
     "output_type": "stream",
     "text": [
      "Error processing row 54193: Bad gateway. {\"error\":{\"code\":502,\"message\":\"Bad gateway.\",\"param\":null,\"type\":\"cf_bad_gateway\"}} 502 {'error': {'code': 502, 'message': 'Bad gateway.', 'param': None, 'type': 'cf_bad_gateway'}} {'Date': 'Fri, 23 Jun 2023 05:30:24 GMT', 'Content-Type': 'application/json', 'Content-Length': '84', 'Connection': 'keep-alive', 'X-Frame-Options': 'SAMEORIGIN', 'Referrer-Policy': 'same-origin', 'Cache-Control': 'private, max-age=0, no-store, no-cache, must-revalidate, post-check=0, pre-check=0', 'Expires': 'Thu, 01 Jan 1970 00:00:01 GMT', 'Server': 'cloudflare', 'CF-RAY': '7dba4f28fe073b69-BOS', 'alt-svc': 'h3=\":443\"; ma=86400'}\n",
      "Retrying row 54193...\n"
     ]
    },
    {
     "name": "stderr",
     "output_type": "stream",
     "text": [
      "Processing:  95%|████████████████████▉ | 54340/57007 [11:16:43<20:40,  2.15it/s]"
     ]
    },
    {
     "name": "stdout",
     "output_type": "stream",
     "text": [
      "Error processing row 54340: The server is overloaded or not ready yet.\n",
      "Retrying row 54340...\n"
     ]
    },
    {
     "name": "stderr",
     "output_type": "stream",
     "text": [
      "Processing:  96%|█████████████████████ | 54718/57007 [11:20:40<15:13,  2.51it/s]"
     ]
    },
    {
     "name": "stdout",
     "output_type": "stream",
     "text": [
      "Error processing row 54718: The server is overloaded or not ready yet.\n",
      "Retrying row 54718...\n"
     ]
    },
    {
     "name": "stderr",
     "output_type": "stream",
     "text": [
      "Processing:  96%|█████████████████████▏| 54909/57007 [11:23:10<18:35,  1.88it/s]"
     ]
    },
    {
     "name": "stdout",
     "output_type": "stream",
     "text": [
      "Error processing row 54909: The server is overloaded or not ready yet.\n",
      "Retrying row 54909...\n"
     ]
    },
    {
     "name": "stderr",
     "output_type": "stream",
     "text": [
      "Processing:  97%|█████████████████████▎| 55138/57007 [11:26:25<21:09,  1.47it/s]"
     ]
    },
    {
     "name": "stdout",
     "output_type": "stream",
     "text": [
      "Error processing row 55138: The server is overloaded or not ready yet.\n",
      "Retrying row 55138...\n"
     ]
    },
    {
     "name": "stderr",
     "output_type": "stream",
     "text": [
      "Processing:  97%|█████████████████████▎| 55299/57007 [11:28:39<28:06,  1.01it/s]"
     ]
    },
    {
     "name": "stdout",
     "output_type": "stream",
     "text": [
      "Error processing row 55299: The server is overloaded or not ready yet.\n",
      "Retrying row 55299...\n"
     ]
    },
    {
     "name": "stderr",
     "output_type": "stream",
     "text": [
      "Processing:  97%|█████████████████████▍| 55417/57007 [11:30:19<18:15,  1.45it/s]"
     ]
    },
    {
     "name": "stdout",
     "output_type": "stream",
     "text": [
      "Error processing row 55417: Bad gateway. {\"error\":{\"code\":502,\"message\":\"Bad gateway.\",\"param\":null,\"type\":\"cf_bad_gateway\"}} 502 {'error': {'code': 502, 'message': 'Bad gateway.', 'param': None, 'type': 'cf_bad_gateway'}} {'Date': 'Fri, 23 Jun 2023 05:50:58 GMT', 'Content-Type': 'application/json', 'Content-Length': '84', 'Connection': 'keep-alive', 'X-Frame-Options': 'SAMEORIGIN', 'Referrer-Policy': 'same-origin', 'Cache-Control': 'private, max-age=0, no-store, no-cache, must-revalidate, post-check=0, pre-check=0', 'Expires': 'Thu, 01 Jan 1970 00:00:01 GMT', 'Server': 'cloudflare', 'CF-RAY': '7dba6d463f4d8cb3-EWR', 'alt-svc': 'h3=\":443\"; ma=86400'}\n",
      "Retrying row 55417...\n"
     ]
    },
    {
     "name": "stderr",
     "output_type": "stream",
     "text": [
      "Processing:  97%|█████████████████████▍| 55445/57007 [11:35:43<11:36,  2.24it/s]"
     ]
    },
    {
     "name": "stdout",
     "output_type": "stream",
     "text": [
      "Error processing row 55445: The server is overloaded or not ready yet.\n",
      "Retrying row 55445...\n"
     ]
    },
    {
     "name": "stderr",
     "output_type": "stream",
     "text": [
      "Processing:  97%|█████████████████████▍| 55466/57007 [11:36:30<19:03,  1.35it/s]"
     ]
    },
    {
     "name": "stdout",
     "output_type": "stream",
     "text": [
      "Error processing row 55466: Error communicating with OpenAI: ('Connection aborted.', ConnectionResetError(54, 'Connection reset by peer'))\n",
      "Retrying row 55466...\n"
     ]
    },
    {
     "name": "stderr",
     "output_type": "stream",
     "text": [
      "Processing:  97%|█████████████████████▍| 55528/57007 [11:37:01<14:19,  1.72it/s]"
     ]
    },
    {
     "name": "stdout",
     "output_type": "stream",
     "text": [
      "Error processing row 55528: The server is overloaded or not ready yet.\n",
      "Retrying row 55528...\n"
     ]
    },
    {
     "name": "stderr",
     "output_type": "stream",
     "text": [
      "Processing:  98%|█████████████████████▌| 55932/57007 [11:41:04<05:52,  3.05it/s]"
     ]
    },
    {
     "name": "stdout",
     "output_type": "stream",
     "text": [
      "Error processing row 55932: Bad gateway. {\"error\":{\"code\":502,\"message\":\"Bad gateway.\",\"param\":null,\"type\":\"cf_bad_gateway\"}} 502 {'error': {'code': 502, 'message': 'Bad gateway.', 'param': None, 'type': 'cf_bad_gateway'}} {'Date': 'Fri, 23 Jun 2023 06:01:43 GMT', 'Content-Type': 'application/json', 'Content-Length': '84', 'Connection': 'keep-alive', 'X-Frame-Options': 'SAMEORIGIN', 'Referrer-Policy': 'same-origin', 'Cache-Control': 'private, max-age=0, no-store, no-cache, must-revalidate, post-check=0, pre-check=0', 'Expires': 'Thu, 01 Jan 1970 00:00:01 GMT', 'Server': 'cloudflare', 'CF-RAY': '7dba7d07fd1e3b94-BOS', 'alt-svc': 'h3=\":443\"; ma=86400'}\n",
      "Retrying row 55932...\n"
     ]
    },
    {
     "name": "stderr",
     "output_type": "stream",
     "text": [
      "Processing:  98%|█████████████████████▌| 56017/57007 [11:47:06<15:56,  1.03it/s]"
     ]
    },
    {
     "name": "stdout",
     "output_type": "stream",
     "text": [
      "Error processing row 56017: Bad gateway. {\"error\":{\"code\":502,\"message\":\"Bad gateway.\",\"param\":null,\"type\":\"cf_bad_gateway\"}} 502 {'error': {'code': 502, 'message': 'Bad gateway.', 'param': None, 'type': 'cf_bad_gateway'}} {'Date': 'Fri, 23 Jun 2023 06:07:45 GMT', 'Content-Type': 'application/json', 'Content-Length': '84', 'Connection': 'keep-alive', 'X-Frame-Options': 'SAMEORIGIN', 'Referrer-Policy': 'same-origin', 'Cache-Control': 'private, max-age=0, no-store, no-cache, must-revalidate, post-check=0, pre-check=0', 'Expires': 'Thu, 01 Jan 1970 00:00:01 GMT', 'Server': 'cloudflare', 'CF-RAY': '7dba85dfbe563b94-BOS', 'alt-svc': 'h3=\":443\"; ma=86400'}\n",
      "Retrying row 56017...\n"
     ]
    },
    {
     "name": "stderr",
     "output_type": "stream",
     "text": [
      "Processing:  99%|█████████████████████▋| 56224/57007 [11:54:18<05:52,  2.22it/s]"
     ]
    },
    {
     "name": "stdout",
     "output_type": "stream",
     "text": [
      "Error processing row 56224: The server is overloaded or not ready yet.\n",
      "Retrying row 56224...\n"
     ]
    },
    {
     "name": "stderr",
     "output_type": "stream",
     "text": [
      "Processing:  99%|█████████████████████▊| 56506/57007 [11:57:13<02:48,  2.98it/s]"
     ]
    },
    {
     "name": "stdout",
     "output_type": "stream",
     "text": [
      "Error processing row 56506: The server is overloaded or not ready yet.\n",
      "Retrying row 56506...\n"
     ]
    },
    {
     "name": "stderr",
     "output_type": "stream",
     "text": [
      "Processing:  99%|█████████████████████▊| 56583/57007 [11:58:25<02:49,  2.51it/s]"
     ]
    },
    {
     "name": "stdout",
     "output_type": "stream",
     "text": [
      "Error processing row 56583: The server is overloaded or not ready yet.\n",
      "Retrying row 56583...\n"
     ]
    },
    {
     "name": "stderr",
     "output_type": "stream",
     "text": [
      "Processing: 100%|█████████████████████▉| 56731/57007 [12:00:12<03:07,  1.47it/s]"
     ]
    },
    {
     "name": "stdout",
     "output_type": "stream",
     "text": [
      "Error processing row 56731: The server is overloaded or not ready yet.\n",
      "Retrying row 56731...\n"
     ]
    },
    {
     "name": "stderr",
     "output_type": "stream",
     "text": [
      "Processing: 100%|█████████████████████▉| 56831/57007 [12:01:51<01:05,  2.70it/s]"
     ]
    },
    {
     "name": "stdout",
     "output_type": "stream",
     "text": [
      "Error processing row 56831: The server is overloaded or not ready yet.\n",
      "Retrying row 56831...\n"
     ]
    },
    {
     "name": "stderr",
     "output_type": "stream",
     "text": [
      "Processing: 100%|██████████████████████| 57007/57007 [12:04:07<00:00,  1.31it/s]\n"
     ]
    }
   ],
   "source": [
    "from tqdm import tqdm\n",
    "\n",
    "df[\"answer\"] = None  \n",
    "\n",
    "start_i = 0\n",
    "\n",
    "with tqdm(total=df.shape[0], desc=\"Processing\") as pbar:\n",
    "    while start_i < df.shape[0]:\n",
    "        try:\n",
    "            str1 = df.iloc[start_i][\"cui_string\"]\n",
    "            str2 = df.iloc[start_i][\"phecode_string\"]\n",
    "            answer = check_relation(str1, str2)\n",
    "            df.at[start_i, \"answer\"] = answer  \n",
    "            start_i += 1\n",
    "            pbar.update(1) \n",
    "        except Exception as e:\n",
    "            print(f\"Error processing row {start_i}: {e}\")\n",
    "            time.sleep(2)\n",
    "            print(f\"Retrying row {start_i}...\")\n",
    "\n"
   ]
  },
  {
   "cell_type": "code",
   "execution_count": 61,
   "id": "ef9818dd",
   "metadata": {},
   "outputs": [],
   "source": [
    "df.to_csv(\"GPT_init.csv\", index = False)"
   ]
  },
  {
   "cell_type": "code",
   "execution_count": 90,
   "id": "06b06f33",
   "metadata": {},
   "outputs": [
    {
     "name": "stdout",
     "output_type": "stream",
     "text": [
      "i'm sorry\n",
      "n2b\n",
      "pt2:\n"
     ]
    }
   ],
   "source": [
    "for i in range (df.shape[0]):\n",
    "    try: \n",
    "        df.at[i, \"answer\"] = float(df.at[i, \"answer\"])\n",
    "    except:\n",
    "        print(df.iloc[i][\"answer\"])\n",
    "        df.at[i, \"answer\"] = -1"
   ]
  },
  {
   "cell_type": "code",
   "execution_count": 92,
   "id": "6248391f",
   "metadata": {},
   "outputs": [],
   "source": [
    "unique_counts = df['answer'].value_counts().sort_index()"
   ]
  },
  {
   "cell_type": "code",
   "execution_count": 93,
   "id": "9076857e",
   "metadata": {},
   "outputs": [
    {
     "data": {
      "text/plain": [
       "answer\n",
       "-1         3\n",
       "0.0      438\n",
       "0.1     1184\n",
       "0.2     5107\n",
       "0.3     2678\n",
       "0.4      107\n",
       "0.5     1353\n",
       "0.6     1015\n",
       "0.7     5018\n",
       "0.8     9054\n",
       "0.9    25936\n",
       "1.0     5114\n",
       "Name: count, dtype: int64"
      ]
     },
     "execution_count": 93,
     "metadata": {},
     "output_type": "execute_result"
    }
   ],
   "source": [
    "unique_counts"
   ]
  },
  {
   "cell_type": "code",
   "execution_count": 99,
   "id": "d71dbb80",
   "metadata": {},
   "outputs": [],
   "source": [
    "df2 = df[(df[\"answer\"] <= 0.2) & (df[\"answer\"] >= 0)]\n",
    "df2.reset_index(drop=True, inplace=True)"
   ]
  },
  {
   "cell_type": "code",
   "execution_count": 10,
   "id": "26b919be",
   "metadata": {},
   "outputs": [],
   "source": [
    "Phecode_Str_Map = pd.read_csv(\"total_phecode_desc.csv\")\n",
    "Phecode_Str_Map.drop(\"Unnamed: 0\", axis = 1, inplace = True)"
   ]
  },
  {
   "cell_type": "code",
   "execution_count": 11,
   "id": "e24ad1e0",
   "metadata": {},
   "outputs": [
    {
     "data": {
      "text/html": [
       "<div>\n",
       "<style scoped>\n",
       "    .dataframe tbody tr th:only-of-type {\n",
       "        vertical-align: middle;\n",
       "    }\n",
       "\n",
       "    .dataframe tbody tr th {\n",
       "        vertical-align: top;\n",
       "    }\n",
       "\n",
       "    .dataframe thead th {\n",
       "        text-align: right;\n",
       "    }\n",
       "</style>\n",
       "<table border=\"1\" class=\"dataframe\">\n",
       "  <thead>\n",
       "    <tr style=\"text-align: right;\">\n",
       "      <th></th>\n",
       "      <th>phecode</th>\n",
       "      <th>phecode_string</th>\n",
       "      <th>category_num</th>\n",
       "      <th>category</th>\n",
       "      <th>sex</th>\n",
       "      <th>icd10_only</th>\n",
       "      <th>phecode_num</th>\n",
       "    </tr>\n",
       "  </thead>\n",
       "  <tbody>\n",
       "    <tr>\n",
       "      <th>0</th>\n",
       "      <td>ID_001</td>\n",
       "      <td>Salmonella</td>\n",
       "      <td>1.0</td>\n",
       "      <td>Infections</td>\n",
       "      <td>Both</td>\n",
       "      <td>0.0</td>\n",
       "      <td>1.0</td>\n",
       "    </tr>\n",
       "    <tr>\n",
       "      <th>1</th>\n",
       "      <td>ID_002</td>\n",
       "      <td>Staphylococcus</td>\n",
       "      <td>1.0</td>\n",
       "      <td>Infections</td>\n",
       "      <td>Both</td>\n",
       "      <td>0.0</td>\n",
       "      <td>2.0</td>\n",
       "    </tr>\n",
       "    <tr>\n",
       "      <th>2</th>\n",
       "      <td>ID_002.1</td>\n",
       "      <td>Staphylococcus aureus</td>\n",
       "      <td>1.0</td>\n",
       "      <td>Infections</td>\n",
       "      <td>Both</td>\n",
       "      <td>0.0</td>\n",
       "      <td>2.1</td>\n",
       "    </tr>\n",
       "    <tr>\n",
       "      <th>3</th>\n",
       "      <td>ID_003</td>\n",
       "      <td>Escherichia coli</td>\n",
       "      <td>1.0</td>\n",
       "      <td>Infections</td>\n",
       "      <td>Both</td>\n",
       "      <td>0.0</td>\n",
       "      <td>3.0</td>\n",
       "    </tr>\n",
       "    <tr>\n",
       "      <th>4</th>\n",
       "      <td>ID_004</td>\n",
       "      <td>Streptococcus</td>\n",
       "      <td>1.0</td>\n",
       "      <td>Infections</td>\n",
       "      <td>Both</td>\n",
       "      <td>0.0</td>\n",
       "      <td>4.0</td>\n",
       "    </tr>\n",
       "    <tr>\n",
       "      <th>...</th>\n",
       "      <td>...</td>\n",
       "      <td>...</td>\n",
       "      <td>...</td>\n",
       "      <td>...</td>\n",
       "      <td>...</td>\n",
       "      <td>...</td>\n",
       "      <td>...</td>\n",
       "    </tr>\n",
       "    <tr>\n",
       "      <th>3846</th>\n",
       "      <td>NaN</td>\n",
       "      <td>Toxic effect of noxious substances eaten as food</td>\n",
       "      <td>NaN</td>\n",
       "      <td>injuries &amp; poisonings</td>\n",
       "      <td>NaN</td>\n",
       "      <td>NaN</td>\n",
       "      <td>988.0</td>\n",
       "    </tr>\n",
       "    <tr>\n",
       "      <th>3847</th>\n",
       "      <td>NaN</td>\n",
       "      <td>Toxic effect of other substances, chiefly nonm...</td>\n",
       "      <td>NaN</td>\n",
       "      <td>injuries &amp; poisonings</td>\n",
       "      <td>NaN</td>\n",
       "      <td>NaN</td>\n",
       "      <td>989.0</td>\n",
       "    </tr>\n",
       "    <tr>\n",
       "      <th>3848</th>\n",
       "      <td>NaN</td>\n",
       "      <td>Effects radiation NOS</td>\n",
       "      <td>NaN</td>\n",
       "      <td>injuries &amp; poisonings</td>\n",
       "      <td>NaN</td>\n",
       "      <td>NaN</td>\n",
       "      <td>990.0</td>\n",
       "    </tr>\n",
       "    <tr>\n",
       "      <th>3849</th>\n",
       "      <td>NaN</td>\n",
       "      <td>Sepsis and SIRS</td>\n",
       "      <td>NaN</td>\n",
       "      <td>injuries &amp; poisonings</td>\n",
       "      <td>NaN</td>\n",
       "      <td>NaN</td>\n",
       "      <td>994.0</td>\n",
       "    </tr>\n",
       "    <tr>\n",
       "      <th>3850</th>\n",
       "      <td>NaN</td>\n",
       "      <td>Complications peculiar to certain specified pr...</td>\n",
       "      <td>NaN</td>\n",
       "      <td>injuries &amp; poisonings</td>\n",
       "      <td>NaN</td>\n",
       "      <td>NaN</td>\n",
       "      <td>996.0</td>\n",
       "    </tr>\n",
       "  </tbody>\n",
       "</table>\n",
       "<p>3851 rows × 7 columns</p>\n",
       "</div>"
      ],
      "text/plain": [
       "       phecode                                     phecode_string   \n",
       "0       ID_001                                         Salmonella  \\\n",
       "1       ID_002                                     Staphylococcus   \n",
       "2     ID_002.1                              Staphylococcus aureus   \n",
       "3       ID_003                                   Escherichia coli   \n",
       "4       ID_004                                      Streptococcus   \n",
       "...        ...                                                ...   \n",
       "3846       NaN   Toxic effect of noxious substances eaten as food   \n",
       "3847       NaN  Toxic effect of other substances, chiefly nonm...   \n",
       "3848       NaN                              Effects radiation NOS   \n",
       "3849       NaN                                    Sepsis and SIRS   \n",
       "3850       NaN  Complications peculiar to certain specified pr...   \n",
       "\n",
       "      category_num               category   sex  icd10_only  phecode_num  \n",
       "0              1.0             Infections  Both         0.0          1.0  \n",
       "1              1.0             Infections  Both         0.0          2.0  \n",
       "2              1.0             Infections  Both         0.0          2.1  \n",
       "3              1.0             Infections  Both         0.0          3.0  \n",
       "4              1.0             Infections  Both         0.0          4.0  \n",
       "...            ...                    ...   ...         ...          ...  \n",
       "3846           NaN  injuries & poisonings   NaN         NaN        988.0  \n",
       "3847           NaN  injuries & poisonings   NaN         NaN        989.0  \n",
       "3848           NaN  injuries & poisonings   NaN         NaN        990.0  \n",
       "3849           NaN  injuries & poisonings   NaN         NaN        994.0  \n",
       "3850           NaN  injuries & poisonings   NaN         NaN        996.0  \n",
       "\n",
       "[3851 rows x 7 columns]"
      ]
     },
     "execution_count": 11,
     "metadata": {},
     "output_type": "execute_result"
    }
   ],
   "source": [
    "Phecode_Str_Map"
   ]
  },
  {
   "cell_type": "code",
   "execution_count": 13,
   "id": "aaaf6104",
   "metadata": {},
   "outputs": [],
   "source": [
    "from tqdm import tqdm\n",
    "from transformers import AutoTokenizer, AutoModel\n",
    "import torch\n",
    "from scipy.spatial.distance import cosine\n",
    "\n",
    "# Load sapBert\n",
    "tokenizer = AutoTokenizer.from_pretrained(\"cambridgeltl/SapBERT-from-PubMedBERT-fulltext\")  \n",
    "model = AutoModel.from_pretrained(\"cambridgeltl/SapBERT-from-PubMedBERT-fulltext\")\n",
    "\n",
    "# Function to calculate embeddings\n",
    "def calculate_embeddings(text):\n",
    "    inputs = tokenizer(text, return_tensors=\"pt\", truncation=True, padding=True, max_length=512)\n",
    "    outputs = model(**inputs)\n",
    "    embeddings = outputs[0][0].detach().numpy()\n",
    "    return embeddings.mean(axis=0)\n",
    "\n",
    "# Function to find closest Phecode\n",
    "def find_closest_phecode(embedding):\n",
    "    distances = Phecode_Str_Map['Embeddings'].apply(lambda x: cosine(x, embedding))\n",
    "    min_distance = distances.min()\n",
    "    closest_row = Phecode_Str_Map.iloc[distances.idxmin()]\n",
    "    closest_phecode = closest_row['phecode_num']\n",
    "    closest_description = closest_row['phecode_string']\n",
    "    return closest_phecode, closest_description, min_distance\n",
    "\n"
   ]
  },
  {
   "cell_type": "code",
   "execution_count": 14,
   "id": "635e58dc",
   "metadata": {},
   "outputs": [],
   "source": [
    "Phecode_Str_Map['Embeddings'] = Phecode_Str_Map['phecode_string'].apply(calculate_embeddings)\n"
   ]
  },
  {
   "cell_type": "code",
   "execution_count": 15,
   "id": "f1fb3f73",
   "metadata": {},
   "outputs": [
    {
     "data": {
      "text/html": [
       "<div>\n",
       "<style scoped>\n",
       "    .dataframe tbody tr th:only-of-type {\n",
       "        vertical-align: middle;\n",
       "    }\n",
       "\n",
       "    .dataframe tbody tr th {\n",
       "        vertical-align: top;\n",
       "    }\n",
       "\n",
       "    .dataframe thead th {\n",
       "        text-align: right;\n",
       "    }\n",
       "</style>\n",
       "<table border=\"1\" class=\"dataframe\">\n",
       "  <thead>\n",
       "    <tr style=\"text-align: right;\">\n",
       "      <th></th>\n",
       "      <th>phecode</th>\n",
       "      <th>phecode_string</th>\n",
       "      <th>category_num</th>\n",
       "      <th>category</th>\n",
       "      <th>sex</th>\n",
       "      <th>icd10_only</th>\n",
       "      <th>phecode_num</th>\n",
       "      <th>Embeddings</th>\n",
       "    </tr>\n",
       "  </thead>\n",
       "  <tbody>\n",
       "    <tr>\n",
       "      <th>0</th>\n",
       "      <td>ID_001</td>\n",
       "      <td>Salmonella</td>\n",
       "      <td>1.0</td>\n",
       "      <td>Infections</td>\n",
       "      <td>Both</td>\n",
       "      <td>0.0</td>\n",
       "      <td>1.0</td>\n",
       "      <td>[0.06343311, -0.3838791, 0.83768797, 0.0182366...</td>\n",
       "    </tr>\n",
       "    <tr>\n",
       "      <th>1</th>\n",
       "      <td>ID_002</td>\n",
       "      <td>Staphylococcus</td>\n",
       "      <td>1.0</td>\n",
       "      <td>Infections</td>\n",
       "      <td>Both</td>\n",
       "      <td>0.0</td>\n",
       "      <td>2.0</td>\n",
       "      <td>[-0.095842876, -0.4679306, 0.05370157, 0.14271...</td>\n",
       "    </tr>\n",
       "    <tr>\n",
       "      <th>2</th>\n",
       "      <td>ID_002.1</td>\n",
       "      <td>Staphylococcus aureus</td>\n",
       "      <td>1.0</td>\n",
       "      <td>Infections</td>\n",
       "      <td>Both</td>\n",
       "      <td>0.0</td>\n",
       "      <td>2.1</td>\n",
       "      <td>[0.15883832, -0.6854581, -0.4355055, 0.0953453...</td>\n",
       "    </tr>\n",
       "    <tr>\n",
       "      <th>3</th>\n",
       "      <td>ID_003</td>\n",
       "      <td>Escherichia coli</td>\n",
       "      <td>1.0</td>\n",
       "      <td>Infections</td>\n",
       "      <td>Both</td>\n",
       "      <td>0.0</td>\n",
       "      <td>3.0</td>\n",
       "      <td>[0.22382578, 0.5253523, 0.28362697, 0.11578793...</td>\n",
       "    </tr>\n",
       "    <tr>\n",
       "      <th>4</th>\n",
       "      <td>ID_004</td>\n",
       "      <td>Streptococcus</td>\n",
       "      <td>1.0</td>\n",
       "      <td>Infections</td>\n",
       "      <td>Both</td>\n",
       "      <td>0.0</td>\n",
       "      <td>4.0</td>\n",
       "      <td>[-0.39779928, -0.45293403, 0.6459086, 0.405812...</td>\n",
       "    </tr>\n",
       "    <tr>\n",
       "      <th>...</th>\n",
       "      <td>...</td>\n",
       "      <td>...</td>\n",
       "      <td>...</td>\n",
       "      <td>...</td>\n",
       "      <td>...</td>\n",
       "      <td>...</td>\n",
       "      <td>...</td>\n",
       "      <td>...</td>\n",
       "    </tr>\n",
       "    <tr>\n",
       "      <th>3846</th>\n",
       "      <td>NaN</td>\n",
       "      <td>Toxic effect of noxious substances eaten as food</td>\n",
       "      <td>NaN</td>\n",
       "      <td>injuries &amp; poisonings</td>\n",
       "      <td>NaN</td>\n",
       "      <td>NaN</td>\n",
       "      <td>988.0</td>\n",
       "      <td>[-0.5100257, -0.38905105, 0.22832946, 0.124221...</td>\n",
       "    </tr>\n",
       "    <tr>\n",
       "      <th>3847</th>\n",
       "      <td>NaN</td>\n",
       "      <td>Toxic effect of other substances, chiefly nonm...</td>\n",
       "      <td>NaN</td>\n",
       "      <td>injuries &amp; poisonings</td>\n",
       "      <td>NaN</td>\n",
       "      <td>NaN</td>\n",
       "      <td>989.0</td>\n",
       "      <td>[-0.6874568, 0.28913742, 0.95847535, -0.261540...</td>\n",
       "    </tr>\n",
       "    <tr>\n",
       "      <th>3848</th>\n",
       "      <td>NaN</td>\n",
       "      <td>Effects radiation NOS</td>\n",
       "      <td>NaN</td>\n",
       "      <td>injuries &amp; poisonings</td>\n",
       "      <td>NaN</td>\n",
       "      <td>NaN</td>\n",
       "      <td>990.0</td>\n",
       "      <td>[-0.16680177, 0.17387845, 0.65361124, -0.14572...</td>\n",
       "    </tr>\n",
       "    <tr>\n",
       "      <th>3849</th>\n",
       "      <td>NaN</td>\n",
       "      <td>Sepsis and SIRS</td>\n",
       "      <td>NaN</td>\n",
       "      <td>injuries &amp; poisonings</td>\n",
       "      <td>NaN</td>\n",
       "      <td>NaN</td>\n",
       "      <td>994.0</td>\n",
       "      <td>[-0.72907674, -0.30349538, 0.5481757, 0.178072...</td>\n",
       "    </tr>\n",
       "    <tr>\n",
       "      <th>3850</th>\n",
       "      <td>NaN</td>\n",
       "      <td>Complications peculiar to certain specified pr...</td>\n",
       "      <td>NaN</td>\n",
       "      <td>injuries &amp; poisonings</td>\n",
       "      <td>NaN</td>\n",
       "      <td>NaN</td>\n",
       "      <td>996.0</td>\n",
       "      <td>[-0.09072114, -0.8325582, 0.0886201, -0.060620...</td>\n",
       "    </tr>\n",
       "  </tbody>\n",
       "</table>\n",
       "<p>3851 rows × 8 columns</p>\n",
       "</div>"
      ],
      "text/plain": [
       "       phecode                                     phecode_string   \n",
       "0       ID_001                                         Salmonella  \\\n",
       "1       ID_002                                     Staphylococcus   \n",
       "2     ID_002.1                              Staphylococcus aureus   \n",
       "3       ID_003                                   Escherichia coli   \n",
       "4       ID_004                                      Streptococcus   \n",
       "...        ...                                                ...   \n",
       "3846       NaN   Toxic effect of noxious substances eaten as food   \n",
       "3847       NaN  Toxic effect of other substances, chiefly nonm...   \n",
       "3848       NaN                              Effects radiation NOS   \n",
       "3849       NaN                                    Sepsis and SIRS   \n",
       "3850       NaN  Complications peculiar to certain specified pr...   \n",
       "\n",
       "      category_num               category   sex  icd10_only  phecode_num   \n",
       "0              1.0             Infections  Both         0.0          1.0  \\\n",
       "1              1.0             Infections  Both         0.0          2.0   \n",
       "2              1.0             Infections  Both         0.0          2.1   \n",
       "3              1.0             Infections  Both         0.0          3.0   \n",
       "4              1.0             Infections  Both         0.0          4.0   \n",
       "...            ...                    ...   ...         ...          ...   \n",
       "3846           NaN  injuries & poisonings   NaN         NaN        988.0   \n",
       "3847           NaN  injuries & poisonings   NaN         NaN        989.0   \n",
       "3848           NaN  injuries & poisonings   NaN         NaN        990.0   \n",
       "3849           NaN  injuries & poisonings   NaN         NaN        994.0   \n",
       "3850           NaN  injuries & poisonings   NaN         NaN        996.0   \n",
       "\n",
       "                                             Embeddings  \n",
       "0     [0.06343311, -0.3838791, 0.83768797, 0.0182366...  \n",
       "1     [-0.095842876, -0.4679306, 0.05370157, 0.14271...  \n",
       "2     [0.15883832, -0.6854581, -0.4355055, 0.0953453...  \n",
       "3     [0.22382578, 0.5253523, 0.28362697, 0.11578793...  \n",
       "4     [-0.39779928, -0.45293403, 0.6459086, 0.405812...  \n",
       "...                                                 ...  \n",
       "3846  [-0.5100257, -0.38905105, 0.22832946, 0.124221...  \n",
       "3847  [-0.6874568, 0.28913742, 0.95847535, -0.261540...  \n",
       "3848  [-0.16680177, 0.17387845, 0.65361124, -0.14572...  \n",
       "3849  [-0.72907674, -0.30349538, 0.5481757, 0.178072...  \n",
       "3850  [-0.09072114, -0.8325582, 0.0886201, -0.060620...  \n",
       "\n",
       "[3851 rows x 8 columns]"
      ]
     },
     "execution_count": 15,
     "metadata": {},
     "output_type": "execute_result"
    }
   ],
   "source": [
    "Phecode_Str_Map"
   ]
  },
  {
   "cell_type": "code",
   "execution_count": 17,
   "id": "994c0516",
   "metadata": {},
   "outputs": [
    {
     "name": "stdout",
     "output_type": "stream",
     "text": [
      "huggingface/tokenizers: The current process just got forked, after parallelism has already been used. Disabling parallelism to avoid deadlocks...\n",
      "To disable this warning, you can either:\n",
      "\t- Avoid using `tokenizers` before the fork if possible\n",
      "\t- Explicitly set the environment variable TOKENIZERS_PARALLELISM=(true | false)\n"
     ]
    },
    {
     "name": "stderr",
     "output_type": "stream",
     "text": [
      "100%|███████████████████████████████████| 6729/6729 [00:00<00:00, 937719.17it/s]\n"
     ]
    }
   ],
   "source": [
    "from tqdm import tqdm\n",
    "\n",
    "df2['Corrected_Phecode'], df2['Corrected_Description'], df2['Cosine_Similarity'] = zip(*tqdm(df2['cui_string'].apply(lambda x: find_closest_phecode(calculate_embeddings(x))), total=df2.shape[0]))\n"
   ]
  },
  {
   "cell_type": "code",
   "execution_count": 21,
   "id": "1ec63239",
   "metadata": {},
   "outputs": [
    {
     "data": {
      "text/html": [
       "<div>\n",
       "<style scoped>\n",
       "    .dataframe tbody tr th:only-of-type {\n",
       "        vertical-align: middle;\n",
       "    }\n",
       "\n",
       "    .dataframe tbody tr th {\n",
       "        vertical-align: top;\n",
       "    }\n",
       "\n",
       "    .dataframe thead th {\n",
       "        text-align: right;\n",
       "    }\n",
       "</style>\n",
       "<table border=\"1\" class=\"dataframe\">\n",
       "  <thead>\n",
       "    <tr style=\"text-align: right;\">\n",
       "      <th></th>\n",
       "      <th>cui</th>\n",
       "      <th>cui_string</th>\n",
       "      <th>phecode</th>\n",
       "      <th>phecode_string</th>\n",
       "      <th>answer</th>\n",
       "      <th>updated_phecode</th>\n",
       "      <th>updated_desc</th>\n",
       "      <th>min_dist</th>\n",
       "    </tr>\n",
       "  </thead>\n",
       "  <tbody>\n",
       "    <tr>\n",
       "      <th>0</th>\n",
       "      <td>C0343400</td>\n",
       "      <td>intestinal; microsporidiosis</td>\n",
       "      <td>136.0</td>\n",
       "      <td>Other infectious and parasitic diseases</td>\n",
       "      <td>0.2</td>\n",
       "      <td>526.3</td>\n",
       "      <td>Intestinal infection due to protozoa</td>\n",
       "      <td>0.359246</td>\n",
       "    </tr>\n",
       "    <tr>\n",
       "      <th>1</th>\n",
       "      <td>C0851162</td>\n",
       "      <td>musculoskeletal infective disorder (disorder)</td>\n",
       "      <td>591.0</td>\n",
       "      <td>Urinary tract infection</td>\n",
       "      <td>0.1</td>\n",
       "      <td>730.0</td>\n",
       "      <td>Other disorders and symptoms of the musculoske...</td>\n",
       "      <td>0.307413</td>\n",
       "    </tr>\n",
       "    <tr>\n",
       "      <th>2</th>\n",
       "      <td>C0411268</td>\n",
       "      <td>intestinal; trichomoniasis</td>\n",
       "      <td>136.0</td>\n",
       "      <td>Other infectious and parasitic diseases</td>\n",
       "      <td>0.2</td>\n",
       "      <td>84.4</td>\n",
       "      <td>Trichomoniasis</td>\n",
       "      <td>0.131256</td>\n",
       "    </tr>\n",
       "    <tr>\n",
       "      <th>3</th>\n",
       "      <td>C0036231</td>\n",
       "      <td>sarcosporidiosis (diagnosis)</td>\n",
       "      <td>136.0</td>\n",
       "      <td>Other infectious and parasitic diseases</td>\n",
       "      <td>0.2</td>\n",
       "      <td>688.1</td>\n",
       "      <td>Sarcoidosis</td>\n",
       "      <td>0.268182</td>\n",
       "    </tr>\n",
       "    <tr>\n",
       "      <th>4</th>\n",
       "      <td>C0035436</td>\n",
       "      <td>active rheumatic fever</td>\n",
       "      <td>480.3</td>\n",
       "      <td>Pneumonia due to fungus (mycoses)</td>\n",
       "      <td>0.1</td>\n",
       "      <td>705.1</td>\n",
       "      <td>Rheumatoid arthritis</td>\n",
       "      <td>0.265595</td>\n",
       "    </tr>\n",
       "    <tr>\n",
       "      <th>...</th>\n",
       "      <td>...</td>\n",
       "      <td>...</td>\n",
       "      <td>...</td>\n",
       "      <td>...</td>\n",
       "      <td>...</td>\n",
       "      <td>...</td>\n",
       "      <td>...</td>\n",
       "      <td>...</td>\n",
       "    </tr>\n",
       "    <tr>\n",
       "      <th>6724</th>\n",
       "      <td>C3532240</td>\n",
       "      <td>hypertrophic mitochondrial cardiomyopathy (dis...</td>\n",
       "      <td>588.0</td>\n",
       "      <td>Disorders resulting from impaired renal function</td>\n",
       "      <td>0.1</td>\n",
       "      <td>414.1</td>\n",
       "      <td>Hypertrophic cardiomyopathy</td>\n",
       "      <td>0.204345</td>\n",
       "    </tr>\n",
       "    <tr>\n",
       "      <th>6725</th>\n",
       "      <td>C0563500</td>\n",
       "      <td>does not manage time</td>\n",
       "      <td>389.0</td>\n",
       "      <td>Hearing loss</td>\n",
       "      <td>0.1</td>\n",
       "      <td>325.2</td>\n",
       "      <td>Difficulty walking</td>\n",
       "      <td>0.460526</td>\n",
       "    </tr>\n",
       "    <tr>\n",
       "      <th>6726</th>\n",
       "      <td>C0027035</td>\n",
       "      <td>infestation of rectum caused by fly larvae (di...</td>\n",
       "      <td>132.0</td>\n",
       "      <td>Infestation (lice, mites)</td>\n",
       "      <td>0.2</td>\n",
       "      <td>530.3</td>\n",
       "      <td>Rectal prolapse</td>\n",
       "      <td>0.291468</td>\n",
       "    </tr>\n",
       "    <tr>\n",
       "      <th>6727</th>\n",
       "      <td>C0422855</td>\n",
       "      <td>seizures</td>\n",
       "      <td>386.3</td>\n",
       "      <td>Labyrinthitis</td>\n",
       "      <td>0.1</td>\n",
       "      <td>330.3</td>\n",
       "      <td>Convulsions</td>\n",
       "      <td>0.103513</td>\n",
       "    </tr>\n",
       "    <tr>\n",
       "      <th>6728</th>\n",
       "      <td>C0564296</td>\n",
       "      <td>does not prepare food for eating</td>\n",
       "      <td>389.0</td>\n",
       "      <td>Hearing loss</td>\n",
       "      <td>0.1</td>\n",
       "      <td>230.5</td>\n",
       "      <td>Early satiety</td>\n",
       "      <td>0.465334</td>\n",
       "    </tr>\n",
       "  </tbody>\n",
       "</table>\n",
       "<p>6729 rows × 8 columns</p>\n",
       "</div>"
      ],
      "text/plain": [
       "           cui                                         cui_string  phecode   \n",
       "0     C0343400                       intestinal; microsporidiosis    136.0  \\\n",
       "1     C0851162      musculoskeletal infective disorder (disorder)    591.0   \n",
       "2     C0411268                         intestinal; trichomoniasis    136.0   \n",
       "3     C0036231                       sarcosporidiosis (diagnosis)    136.0   \n",
       "4     C0035436                             active rheumatic fever    480.3   \n",
       "...        ...                                                ...      ...   \n",
       "6724  C3532240  hypertrophic mitochondrial cardiomyopathy (dis...    588.0   \n",
       "6725  C0563500                               does not manage time    389.0   \n",
       "6726  C0027035  infestation of rectum caused by fly larvae (di...    132.0   \n",
       "6727  C0422855                                           seizures    386.3   \n",
       "6728  C0564296                   does not prepare food for eating    389.0   \n",
       "\n",
       "                                        phecode_string  answer   \n",
       "0              Other infectious and parasitic diseases     0.2  \\\n",
       "1                              Urinary tract infection     0.1   \n",
       "2              Other infectious and parasitic diseases     0.2   \n",
       "3              Other infectious and parasitic diseases     0.2   \n",
       "4                    Pneumonia due to fungus (mycoses)     0.1   \n",
       "...                                                ...     ...   \n",
       "6724  Disorders resulting from impaired renal function     0.1   \n",
       "6725                                      Hearing loss     0.1   \n",
       "6726                         Infestation (lice, mites)     0.2   \n",
       "6727                                     Labyrinthitis     0.1   \n",
       "6728                                      Hearing loss     0.1   \n",
       "\n",
       "      updated_phecode                                       updated_desc   \n",
       "0               526.3               Intestinal infection due to protozoa  \\\n",
       "1               730.0  Other disorders and symptoms of the musculoske...   \n",
       "2                84.4                                     Trichomoniasis   \n",
       "3               688.1                                        Sarcoidosis   \n",
       "4               705.1                               Rheumatoid arthritis   \n",
       "...               ...                                                ...   \n",
       "6724            414.1                        Hypertrophic cardiomyopathy   \n",
       "6725            325.2                                 Difficulty walking   \n",
       "6726            530.3                                    Rectal prolapse   \n",
       "6727            330.3                                        Convulsions   \n",
       "6728            230.5                                      Early satiety   \n",
       "\n",
       "      min_dist  \n",
       "0     0.359246  \n",
       "1     0.307413  \n",
       "2     0.131256  \n",
       "3     0.268182  \n",
       "4     0.265595  \n",
       "...        ...  \n",
       "6724  0.204345  \n",
       "6725  0.460526  \n",
       "6726  0.291468  \n",
       "6727  0.103513  \n",
       "6728  0.465334  \n",
       "\n",
       "[6729 rows x 8 columns]"
      ]
     },
     "execution_count": 21,
     "metadata": {},
     "output_type": "execute_result"
    }
   ],
   "source": [
    "df2"
   ]
  },
  {
   "cell_type": "code",
   "execution_count": 20,
   "id": "d99b7e0e",
   "metadata": {},
   "outputs": [],
   "source": [
    "df2.rename(columns={'Corrected_Phecode': 'updated_phecode', 'Corrected_Description': 'updated_desc', 'Cosine_Similarity': 'min_dist'}, inplace=True)\n"
   ]
  },
  {
   "cell_type": "code",
   "execution_count": 22,
   "id": "937227e7",
   "metadata": {},
   "outputs": [],
   "source": [
    "df2.rename(columns={'answer' : 'chatGPT_score'}, inplace = True)"
   ]
  },
  {
   "cell_type": "code",
   "execution_count": 23,
   "id": "1c14e27a",
   "metadata": {},
   "outputs": [],
   "source": [
    "df2.to_csv(\"sapbert_x_v3_remap.csv\")"
   ]
  },
  {
   "cell_type": "code",
   "execution_count": 24,
   "id": "57c9516f",
   "metadata": {},
   "outputs": [
    {
     "data": {
      "text/html": [
       "<div>\n",
       "<style scoped>\n",
       "    .dataframe tbody tr th:only-of-type {\n",
       "        vertical-align: middle;\n",
       "    }\n",
       "\n",
       "    .dataframe tbody tr th {\n",
       "        vertical-align: top;\n",
       "    }\n",
       "\n",
       "    .dataframe thead th {\n",
       "        text-align: right;\n",
       "    }\n",
       "</style>\n",
       "<table border=\"1\" class=\"dataframe\">\n",
       "  <thead>\n",
       "    <tr style=\"text-align: right;\">\n",
       "      <th></th>\n",
       "      <th>cui</th>\n",
       "      <th>cui_string</th>\n",
       "      <th>phecode</th>\n",
       "      <th>phecode_string</th>\n",
       "      <th>chatGPT_score</th>\n",
       "      <th>updated_phecode</th>\n",
       "      <th>updated_desc</th>\n",
       "      <th>min_dist</th>\n",
       "    </tr>\n",
       "  </thead>\n",
       "  <tbody>\n",
       "    <tr>\n",
       "      <th>0</th>\n",
       "      <td>C0343400</td>\n",
       "      <td>intestinal; microsporidiosis</td>\n",
       "      <td>136.0</td>\n",
       "      <td>Other infectious and parasitic diseases</td>\n",
       "      <td>0.2</td>\n",
       "      <td>526.3</td>\n",
       "      <td>Intestinal infection due to protozoa</td>\n",
       "      <td>0.359246</td>\n",
       "    </tr>\n",
       "    <tr>\n",
       "      <th>1</th>\n",
       "      <td>C0851162</td>\n",
       "      <td>musculoskeletal infective disorder (disorder)</td>\n",
       "      <td>591.0</td>\n",
       "      <td>Urinary tract infection</td>\n",
       "      <td>0.1</td>\n",
       "      <td>730.0</td>\n",
       "      <td>Other disorders and symptoms of the musculoske...</td>\n",
       "      <td>0.307413</td>\n",
       "    </tr>\n",
       "    <tr>\n",
       "      <th>2</th>\n",
       "      <td>C0411268</td>\n",
       "      <td>intestinal; trichomoniasis</td>\n",
       "      <td>136.0</td>\n",
       "      <td>Other infectious and parasitic diseases</td>\n",
       "      <td>0.2</td>\n",
       "      <td>84.4</td>\n",
       "      <td>Trichomoniasis</td>\n",
       "      <td>0.131256</td>\n",
       "    </tr>\n",
       "    <tr>\n",
       "      <th>3</th>\n",
       "      <td>C0036231</td>\n",
       "      <td>sarcosporidiosis (diagnosis)</td>\n",
       "      <td>136.0</td>\n",
       "      <td>Other infectious and parasitic diseases</td>\n",
       "      <td>0.2</td>\n",
       "      <td>688.1</td>\n",
       "      <td>Sarcoidosis</td>\n",
       "      <td>0.268182</td>\n",
       "    </tr>\n",
       "    <tr>\n",
       "      <th>4</th>\n",
       "      <td>C0035436</td>\n",
       "      <td>active rheumatic fever</td>\n",
       "      <td>480.3</td>\n",
       "      <td>Pneumonia due to fungus (mycoses)</td>\n",
       "      <td>0.1</td>\n",
       "      <td>705.1</td>\n",
       "      <td>Rheumatoid arthritis</td>\n",
       "      <td>0.265595</td>\n",
       "    </tr>\n",
       "    <tr>\n",
       "      <th>...</th>\n",
       "      <td>...</td>\n",
       "      <td>...</td>\n",
       "      <td>...</td>\n",
       "      <td>...</td>\n",
       "      <td>...</td>\n",
       "      <td>...</td>\n",
       "      <td>...</td>\n",
       "      <td>...</td>\n",
       "    </tr>\n",
       "    <tr>\n",
       "      <th>6724</th>\n",
       "      <td>C3532240</td>\n",
       "      <td>hypertrophic mitochondrial cardiomyopathy (dis...</td>\n",
       "      <td>588.0</td>\n",
       "      <td>Disorders resulting from impaired renal function</td>\n",
       "      <td>0.1</td>\n",
       "      <td>414.1</td>\n",
       "      <td>Hypertrophic cardiomyopathy</td>\n",
       "      <td>0.204345</td>\n",
       "    </tr>\n",
       "    <tr>\n",
       "      <th>6725</th>\n",
       "      <td>C0563500</td>\n",
       "      <td>does not manage time</td>\n",
       "      <td>389.0</td>\n",
       "      <td>Hearing loss</td>\n",
       "      <td>0.1</td>\n",
       "      <td>325.2</td>\n",
       "      <td>Difficulty walking</td>\n",
       "      <td>0.460526</td>\n",
       "    </tr>\n",
       "    <tr>\n",
       "      <th>6726</th>\n",
       "      <td>C0027035</td>\n",
       "      <td>infestation of rectum caused by fly larvae (di...</td>\n",
       "      <td>132.0</td>\n",
       "      <td>Infestation (lice, mites)</td>\n",
       "      <td>0.2</td>\n",
       "      <td>530.3</td>\n",
       "      <td>Rectal prolapse</td>\n",
       "      <td>0.291468</td>\n",
       "    </tr>\n",
       "    <tr>\n",
       "      <th>6727</th>\n",
       "      <td>C0422855</td>\n",
       "      <td>seizures</td>\n",
       "      <td>386.3</td>\n",
       "      <td>Labyrinthitis</td>\n",
       "      <td>0.1</td>\n",
       "      <td>330.3</td>\n",
       "      <td>Convulsions</td>\n",
       "      <td>0.103513</td>\n",
       "    </tr>\n",
       "    <tr>\n",
       "      <th>6728</th>\n",
       "      <td>C0564296</td>\n",
       "      <td>does not prepare food for eating</td>\n",
       "      <td>389.0</td>\n",
       "      <td>Hearing loss</td>\n",
       "      <td>0.1</td>\n",
       "      <td>230.5</td>\n",
       "      <td>Early satiety</td>\n",
       "      <td>0.465334</td>\n",
       "    </tr>\n",
       "  </tbody>\n",
       "</table>\n",
       "<p>6729 rows × 8 columns</p>\n",
       "</div>"
      ],
      "text/plain": [
       "           cui                                         cui_string  phecode   \n",
       "0     C0343400                       intestinal; microsporidiosis    136.0  \\\n",
       "1     C0851162      musculoskeletal infective disorder (disorder)    591.0   \n",
       "2     C0411268                         intestinal; trichomoniasis    136.0   \n",
       "3     C0036231                       sarcosporidiosis (diagnosis)    136.0   \n",
       "4     C0035436                             active rheumatic fever    480.3   \n",
       "...        ...                                                ...      ...   \n",
       "6724  C3532240  hypertrophic mitochondrial cardiomyopathy (dis...    588.0   \n",
       "6725  C0563500                               does not manage time    389.0   \n",
       "6726  C0027035  infestation of rectum caused by fly larvae (di...    132.0   \n",
       "6727  C0422855                                           seizures    386.3   \n",
       "6728  C0564296                   does not prepare food for eating    389.0   \n",
       "\n",
       "                                        phecode_string  chatGPT_score   \n",
       "0              Other infectious and parasitic diseases            0.2  \\\n",
       "1                              Urinary tract infection            0.1   \n",
       "2              Other infectious and parasitic diseases            0.2   \n",
       "3              Other infectious and parasitic diseases            0.2   \n",
       "4                    Pneumonia due to fungus (mycoses)            0.1   \n",
       "...                                                ...            ...   \n",
       "6724  Disorders resulting from impaired renal function            0.1   \n",
       "6725                                      Hearing loss            0.1   \n",
       "6726                         Infestation (lice, mites)            0.2   \n",
       "6727                                     Labyrinthitis            0.1   \n",
       "6728                                      Hearing loss            0.1   \n",
       "\n",
       "      updated_phecode                                       updated_desc   \n",
       "0               526.3               Intestinal infection due to protozoa  \\\n",
       "1               730.0  Other disorders and symptoms of the musculoske...   \n",
       "2                84.4                                     Trichomoniasis   \n",
       "3               688.1                                        Sarcoidosis   \n",
       "4               705.1                               Rheumatoid arthritis   \n",
       "...               ...                                                ...   \n",
       "6724            414.1                        Hypertrophic cardiomyopathy   \n",
       "6725            325.2                                 Difficulty walking   \n",
       "6726            530.3                                    Rectal prolapse   \n",
       "6727            330.3                                        Convulsions   \n",
       "6728            230.5                                      Early satiety   \n",
       "\n",
       "      min_dist  \n",
       "0     0.359246  \n",
       "1     0.307413  \n",
       "2     0.131256  \n",
       "3     0.268182  \n",
       "4     0.265595  \n",
       "...        ...  \n",
       "6724  0.204345  \n",
       "6725  0.460526  \n",
       "6726  0.291468  \n",
       "6727  0.103513  \n",
       "6728  0.465334  \n",
       "\n",
       "[6729 rows x 8 columns]"
      ]
     },
     "execution_count": 24,
     "metadata": {},
     "output_type": "execute_result"
    }
   ],
   "source": [
    "df2"
   ]
  }
 ],
 "metadata": {
  "kernelspec": {
   "display_name": "Python 3 (ipykernel)",
   "language": "python",
   "name": "python3"
  },
  "language_info": {
   "codemirror_mode": {
    "name": "ipython",
    "version": 3
   },
   "file_extension": ".py",
   "mimetype": "text/x-python",
   "name": "python",
   "nbconvert_exporter": "python",
   "pygments_lexer": "ipython3",
   "version": "3.9.6"
  }
 },
 "nbformat": 4,
 "nbformat_minor": 5
}
