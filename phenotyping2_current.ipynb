{
 "cells": [
  {
   "cell_type": "code",
   "execution_count": 1,
   "id": "72951d16",
   "metadata": {},
   "outputs": [],
   "source": [
    "import pandas as pd\n",
    "import numpy as np\n",
    "from sklearn.cluster import KMeans\n",
    "from sklearn.preprocessing import StandardScaler\n",
    "from sklearn.metrics import roc_auc_score, silhouette_score, adjusted_rand_score\n",
    "from sklearn.decomposition import PCA\n",
    "from sklearn.manifold import TSNE\n",
    "import matplotlib.pyplot as plt\n",
    "np.random.seed(42)"
   ]
  },
  {
   "cell_type": "code",
   "execution_count": 2,
   "id": "8e705d30",
   "metadata": {},
   "outputs": [],
   "source": [
    "import warnings\n",
    "warnings.simplefilter(action='ignore', category=FutureWarning)"
   ]
  },
  {
   "cell_type": "code",
   "execution_count": 3,
   "id": "a8c8f323",
   "metadata": {},
   "outputs": [
    {
     "name": "stdout",
     "output_type": "stream",
     "text": [
      "2015_codified_data.csv\r\n",
      "CAD_NLP_result.csv\r\n",
      "CD_NLP_result.csv\r\n",
      "CHF_label.csv\r\n",
      "Depression_NLP_result.csv\r\n",
      "Final_emb.pth\r\n",
      "Final_emb_1.pth\r\n",
      "Final_emb_8_19.pth\r\n",
      "Final_emb_8_9.pth\r\n",
      "HF_NLP_result.csv\r\n",
      "MS_label.csv\r\n",
      "RA_NLP_result.csv\r\n",
      "RA_label.csv\r\n",
      "T1DM_NLP_result.csv\r\n",
      "T2DM_NLP_result.csv\r\n",
      "UC_NLP_result.csv\r\n",
      "Untitled.ipynb\r\n",
      "codified_patient_embed.csv\r\n",
      "codified_patient_embed_feature_select_RA.csv\r\n",
      "codified_patient_embed_sap.csv\r\n",
      "codified_patient_embed_sap_feature_select_RA.csv\r\n",
      "depress_label.csv\r\n",
      "emb_Z0_728.csv\r\n",
      "logReg.ipynb\r\n",
      "logReg_updated.ipynb\r\n",
      "logReg_updated_cur.ipynb\r\n",
      "logReg_updated_cur_8_9-Copy1.ipynb\r\n",
      "logReg_updated_cur_8_9.ipynb\r\n",
      "logReg_updated_with_embeddings.ipynb\r\n",
      "negativeRA.csv\r\n",
      "phenotyping.ipynb\r\n",
      "phenotyping2-Copy1_8_19.ipynb\r\n",
      "phenotyping2_current.ipynb\r\n",
      "phenotyping_8_10.ipynb\r\n",
      "positiveRA.csv\r\n",
      "selected_features.csv\r\n",
      "selected_features_200.csv\r\n",
      "selected_features_50.csv\r\n",
      "selected_features_88.csv\r\n"
     ]
    }
   ],
   "source": [
    "%ls"
   ]
  },
  {
   "cell_type": "code",
   "execution_count": 4,
   "id": "d2424dc9",
   "metadata": {},
   "outputs": [],
   "source": [
    "# patient_embed_GAT = pd.read_csv(\"codified_patient_embed.csv\")\n",
    "# patient_embed_SAP = pd.read_csv(\"codified_patient_embed_sap.csv\")\n",
    "\n",
    "# patient_embed_GAT['embedding'] = patient_embed_GAT['embedding'].apply(lambda x: np.fromstring(x.strip(\"[]\"), sep=\" \"))\n",
    "# patient_embed_SAP['embedding'] = patient_embed_SAP['embedding'].apply(lambda x: np.fromstring(x.strip(\"[]\"), sep=\" \"))"
   ]
  },
  {
   "cell_type": "code",
   "execution_count": 5,
   "id": "104b8d14",
   "metadata": {},
   "outputs": [
    {
     "ename": "FileNotFoundError",
     "evalue": "[Errno 2] No such file or directory: 'codified_patient_embed_feature_select.csv'",
     "output_type": "error",
     "traceback": [
      "\u001b[0;31m---------------------------------------------------------------------------\u001b[0m",
      "\u001b[0;31mFileNotFoundError\u001b[0m                         Traceback (most recent call last)",
      "Cell \u001b[0;32mIn[5], line 1\u001b[0m\n\u001b[0;32m----> 1\u001b[0m patient_embed_GAT \u001b[38;5;241m=\u001b[39m \u001b[43mpd\u001b[49m\u001b[38;5;241;43m.\u001b[39;49m\u001b[43mread_csv\u001b[49m\u001b[43m(\u001b[49m\u001b[38;5;124;43m\"\u001b[39;49m\u001b[38;5;124;43mcodified_patient_embed_feature_select.csv\u001b[39;49m\u001b[38;5;124;43m\"\u001b[39;49m\u001b[43m)\u001b[49m\n\u001b[1;32m      2\u001b[0m patient_embed_SAP \u001b[38;5;241m=\u001b[39m pd\u001b[38;5;241m.\u001b[39mread_csv(\u001b[38;5;124m\"\u001b[39m\u001b[38;5;124mcodified_patient_embed_sap_feature_select.csv\u001b[39m\u001b[38;5;124m\"\u001b[39m)\n\u001b[1;32m      4\u001b[0m patient_embed_GAT[\u001b[38;5;124m'\u001b[39m\u001b[38;5;124membedding\u001b[39m\u001b[38;5;124m'\u001b[39m] \u001b[38;5;241m=\u001b[39m patient_embed_GAT[\u001b[38;5;124m'\u001b[39m\u001b[38;5;124membedding\u001b[39m\u001b[38;5;124m'\u001b[39m]\u001b[38;5;241m.\u001b[39mapply(\u001b[38;5;28;01mlambda\u001b[39;00m x: np\u001b[38;5;241m.\u001b[39mfromstring(x\u001b[38;5;241m.\u001b[39mstrip(\u001b[38;5;124m\"\u001b[39m\u001b[38;5;124m[]\u001b[39m\u001b[38;5;124m\"\u001b[39m), sep\u001b[38;5;241m=\u001b[39m\u001b[38;5;124m\"\u001b[39m\u001b[38;5;124m \u001b[39m\u001b[38;5;124m\"\u001b[39m))\n",
      "File \u001b[0;32m~/Library/Python/3.9/lib/python/site-packages/pandas/io/parsers/readers.py:912\u001b[0m, in \u001b[0;36mread_csv\u001b[0;34m(filepath_or_buffer, sep, delimiter, header, names, index_col, usecols, dtype, engine, converters, true_values, false_values, skipinitialspace, skiprows, skipfooter, nrows, na_values, keep_default_na, na_filter, verbose, skip_blank_lines, parse_dates, infer_datetime_format, keep_date_col, date_parser, date_format, dayfirst, cache_dates, iterator, chunksize, compression, thousands, decimal, lineterminator, quotechar, quoting, doublequote, escapechar, comment, encoding, encoding_errors, dialect, on_bad_lines, delim_whitespace, low_memory, memory_map, float_precision, storage_options, dtype_backend)\u001b[0m\n\u001b[1;32m    899\u001b[0m kwds_defaults \u001b[38;5;241m=\u001b[39m _refine_defaults_read(\n\u001b[1;32m    900\u001b[0m     dialect,\n\u001b[1;32m    901\u001b[0m     delimiter,\n\u001b[0;32m   (...)\u001b[0m\n\u001b[1;32m    908\u001b[0m     dtype_backend\u001b[38;5;241m=\u001b[39mdtype_backend,\n\u001b[1;32m    909\u001b[0m )\n\u001b[1;32m    910\u001b[0m kwds\u001b[38;5;241m.\u001b[39mupdate(kwds_defaults)\n\u001b[0;32m--> 912\u001b[0m \u001b[38;5;28;01mreturn\u001b[39;00m \u001b[43m_read\u001b[49m\u001b[43m(\u001b[49m\u001b[43mfilepath_or_buffer\u001b[49m\u001b[43m,\u001b[49m\u001b[43m \u001b[49m\u001b[43mkwds\u001b[49m\u001b[43m)\u001b[49m\n",
      "File \u001b[0;32m~/Library/Python/3.9/lib/python/site-packages/pandas/io/parsers/readers.py:577\u001b[0m, in \u001b[0;36m_read\u001b[0;34m(filepath_or_buffer, kwds)\u001b[0m\n\u001b[1;32m    574\u001b[0m _validate_names(kwds\u001b[38;5;241m.\u001b[39mget(\u001b[38;5;124m\"\u001b[39m\u001b[38;5;124mnames\u001b[39m\u001b[38;5;124m\"\u001b[39m, \u001b[38;5;28;01mNone\u001b[39;00m))\n\u001b[1;32m    576\u001b[0m \u001b[38;5;66;03m# Create the parser.\u001b[39;00m\n\u001b[0;32m--> 577\u001b[0m parser \u001b[38;5;241m=\u001b[39m \u001b[43mTextFileReader\u001b[49m\u001b[43m(\u001b[49m\u001b[43mfilepath_or_buffer\u001b[49m\u001b[43m,\u001b[49m\u001b[43m \u001b[49m\u001b[38;5;241;43m*\u001b[39;49m\u001b[38;5;241;43m*\u001b[39;49m\u001b[43mkwds\u001b[49m\u001b[43m)\u001b[49m\n\u001b[1;32m    579\u001b[0m \u001b[38;5;28;01mif\u001b[39;00m chunksize \u001b[38;5;129;01mor\u001b[39;00m iterator:\n\u001b[1;32m    580\u001b[0m     \u001b[38;5;28;01mreturn\u001b[39;00m parser\n",
      "File \u001b[0;32m~/Library/Python/3.9/lib/python/site-packages/pandas/io/parsers/readers.py:1407\u001b[0m, in \u001b[0;36mTextFileReader.__init__\u001b[0;34m(self, f, engine, **kwds)\u001b[0m\n\u001b[1;32m   1404\u001b[0m     \u001b[38;5;28mself\u001b[39m\u001b[38;5;241m.\u001b[39moptions[\u001b[38;5;124m\"\u001b[39m\u001b[38;5;124mhas_index_names\u001b[39m\u001b[38;5;124m\"\u001b[39m] \u001b[38;5;241m=\u001b[39m kwds[\u001b[38;5;124m\"\u001b[39m\u001b[38;5;124mhas_index_names\u001b[39m\u001b[38;5;124m\"\u001b[39m]\n\u001b[1;32m   1406\u001b[0m \u001b[38;5;28mself\u001b[39m\u001b[38;5;241m.\u001b[39mhandles: IOHandles \u001b[38;5;241m|\u001b[39m \u001b[38;5;28;01mNone\u001b[39;00m \u001b[38;5;241m=\u001b[39m \u001b[38;5;28;01mNone\u001b[39;00m\n\u001b[0;32m-> 1407\u001b[0m \u001b[38;5;28mself\u001b[39m\u001b[38;5;241m.\u001b[39m_engine \u001b[38;5;241m=\u001b[39m \u001b[38;5;28;43mself\u001b[39;49m\u001b[38;5;241;43m.\u001b[39;49m\u001b[43m_make_engine\u001b[49m\u001b[43m(\u001b[49m\u001b[43mf\u001b[49m\u001b[43m,\u001b[49m\u001b[43m \u001b[49m\u001b[38;5;28;43mself\u001b[39;49m\u001b[38;5;241;43m.\u001b[39;49m\u001b[43mengine\u001b[49m\u001b[43m)\u001b[49m\n",
      "File \u001b[0;32m~/Library/Python/3.9/lib/python/site-packages/pandas/io/parsers/readers.py:1661\u001b[0m, in \u001b[0;36mTextFileReader._make_engine\u001b[0;34m(self, f, engine)\u001b[0m\n\u001b[1;32m   1659\u001b[0m     \u001b[38;5;28;01mif\u001b[39;00m \u001b[38;5;124m\"\u001b[39m\u001b[38;5;124mb\u001b[39m\u001b[38;5;124m\"\u001b[39m \u001b[38;5;129;01mnot\u001b[39;00m \u001b[38;5;129;01min\u001b[39;00m mode:\n\u001b[1;32m   1660\u001b[0m         mode \u001b[38;5;241m+\u001b[39m\u001b[38;5;241m=\u001b[39m \u001b[38;5;124m\"\u001b[39m\u001b[38;5;124mb\u001b[39m\u001b[38;5;124m\"\u001b[39m\n\u001b[0;32m-> 1661\u001b[0m \u001b[38;5;28mself\u001b[39m\u001b[38;5;241m.\u001b[39mhandles \u001b[38;5;241m=\u001b[39m \u001b[43mget_handle\u001b[49m\u001b[43m(\u001b[49m\n\u001b[1;32m   1662\u001b[0m \u001b[43m    \u001b[49m\u001b[43mf\u001b[49m\u001b[43m,\u001b[49m\n\u001b[1;32m   1663\u001b[0m \u001b[43m    \u001b[49m\u001b[43mmode\u001b[49m\u001b[43m,\u001b[49m\n\u001b[1;32m   1664\u001b[0m \u001b[43m    \u001b[49m\u001b[43mencoding\u001b[49m\u001b[38;5;241;43m=\u001b[39;49m\u001b[38;5;28;43mself\u001b[39;49m\u001b[38;5;241;43m.\u001b[39;49m\u001b[43moptions\u001b[49m\u001b[38;5;241;43m.\u001b[39;49m\u001b[43mget\u001b[49m\u001b[43m(\u001b[49m\u001b[38;5;124;43m\"\u001b[39;49m\u001b[38;5;124;43mencoding\u001b[39;49m\u001b[38;5;124;43m\"\u001b[39;49m\u001b[43m,\u001b[49m\u001b[43m \u001b[49m\u001b[38;5;28;43;01mNone\u001b[39;49;00m\u001b[43m)\u001b[49m\u001b[43m,\u001b[49m\n\u001b[1;32m   1665\u001b[0m \u001b[43m    \u001b[49m\u001b[43mcompression\u001b[49m\u001b[38;5;241;43m=\u001b[39;49m\u001b[38;5;28;43mself\u001b[39;49m\u001b[38;5;241;43m.\u001b[39;49m\u001b[43moptions\u001b[49m\u001b[38;5;241;43m.\u001b[39;49m\u001b[43mget\u001b[49m\u001b[43m(\u001b[49m\u001b[38;5;124;43m\"\u001b[39;49m\u001b[38;5;124;43mcompression\u001b[39;49m\u001b[38;5;124;43m\"\u001b[39;49m\u001b[43m,\u001b[49m\u001b[43m \u001b[49m\u001b[38;5;28;43;01mNone\u001b[39;49;00m\u001b[43m)\u001b[49m\u001b[43m,\u001b[49m\n\u001b[1;32m   1666\u001b[0m \u001b[43m    \u001b[49m\u001b[43mmemory_map\u001b[49m\u001b[38;5;241;43m=\u001b[39;49m\u001b[38;5;28;43mself\u001b[39;49m\u001b[38;5;241;43m.\u001b[39;49m\u001b[43moptions\u001b[49m\u001b[38;5;241;43m.\u001b[39;49m\u001b[43mget\u001b[49m\u001b[43m(\u001b[49m\u001b[38;5;124;43m\"\u001b[39;49m\u001b[38;5;124;43mmemory_map\u001b[39;49m\u001b[38;5;124;43m\"\u001b[39;49m\u001b[43m,\u001b[49m\u001b[43m \u001b[49m\u001b[38;5;28;43;01mFalse\u001b[39;49;00m\u001b[43m)\u001b[49m\u001b[43m,\u001b[49m\n\u001b[1;32m   1667\u001b[0m \u001b[43m    \u001b[49m\u001b[43mis_text\u001b[49m\u001b[38;5;241;43m=\u001b[39;49m\u001b[43mis_text\u001b[49m\u001b[43m,\u001b[49m\n\u001b[1;32m   1668\u001b[0m \u001b[43m    \u001b[49m\u001b[43merrors\u001b[49m\u001b[38;5;241;43m=\u001b[39;49m\u001b[38;5;28;43mself\u001b[39;49m\u001b[38;5;241;43m.\u001b[39;49m\u001b[43moptions\u001b[49m\u001b[38;5;241;43m.\u001b[39;49m\u001b[43mget\u001b[49m\u001b[43m(\u001b[49m\u001b[38;5;124;43m\"\u001b[39;49m\u001b[38;5;124;43mencoding_errors\u001b[39;49m\u001b[38;5;124;43m\"\u001b[39;49m\u001b[43m,\u001b[49m\u001b[43m \u001b[49m\u001b[38;5;124;43m\"\u001b[39;49m\u001b[38;5;124;43mstrict\u001b[39;49m\u001b[38;5;124;43m\"\u001b[39;49m\u001b[43m)\u001b[49m\u001b[43m,\u001b[49m\n\u001b[1;32m   1669\u001b[0m \u001b[43m    \u001b[49m\u001b[43mstorage_options\u001b[49m\u001b[38;5;241;43m=\u001b[39;49m\u001b[38;5;28;43mself\u001b[39;49m\u001b[38;5;241;43m.\u001b[39;49m\u001b[43moptions\u001b[49m\u001b[38;5;241;43m.\u001b[39;49m\u001b[43mget\u001b[49m\u001b[43m(\u001b[49m\u001b[38;5;124;43m\"\u001b[39;49m\u001b[38;5;124;43mstorage_options\u001b[39;49m\u001b[38;5;124;43m\"\u001b[39;49m\u001b[43m,\u001b[49m\u001b[43m \u001b[49m\u001b[38;5;28;43;01mNone\u001b[39;49;00m\u001b[43m)\u001b[49m\u001b[43m,\u001b[49m\n\u001b[1;32m   1670\u001b[0m \u001b[43m\u001b[49m\u001b[43m)\u001b[49m\n\u001b[1;32m   1671\u001b[0m \u001b[38;5;28;01massert\u001b[39;00m \u001b[38;5;28mself\u001b[39m\u001b[38;5;241m.\u001b[39mhandles \u001b[38;5;129;01mis\u001b[39;00m \u001b[38;5;129;01mnot\u001b[39;00m \u001b[38;5;28;01mNone\u001b[39;00m\n\u001b[1;32m   1672\u001b[0m f \u001b[38;5;241m=\u001b[39m \u001b[38;5;28mself\u001b[39m\u001b[38;5;241m.\u001b[39mhandles\u001b[38;5;241m.\u001b[39mhandle\n",
      "File \u001b[0;32m~/Library/Python/3.9/lib/python/site-packages/pandas/io/common.py:859\u001b[0m, in \u001b[0;36mget_handle\u001b[0;34m(path_or_buf, mode, encoding, compression, memory_map, is_text, errors, storage_options)\u001b[0m\n\u001b[1;32m    854\u001b[0m \u001b[38;5;28;01melif\u001b[39;00m \u001b[38;5;28misinstance\u001b[39m(handle, \u001b[38;5;28mstr\u001b[39m):\n\u001b[1;32m    855\u001b[0m     \u001b[38;5;66;03m# Check whether the filename is to be opened in binary mode.\u001b[39;00m\n\u001b[1;32m    856\u001b[0m     \u001b[38;5;66;03m# Binary mode does not support 'encoding' and 'newline'.\u001b[39;00m\n\u001b[1;32m    857\u001b[0m     \u001b[38;5;28;01mif\u001b[39;00m ioargs\u001b[38;5;241m.\u001b[39mencoding \u001b[38;5;129;01mand\u001b[39;00m \u001b[38;5;124m\"\u001b[39m\u001b[38;5;124mb\u001b[39m\u001b[38;5;124m\"\u001b[39m \u001b[38;5;129;01mnot\u001b[39;00m \u001b[38;5;129;01min\u001b[39;00m ioargs\u001b[38;5;241m.\u001b[39mmode:\n\u001b[1;32m    858\u001b[0m         \u001b[38;5;66;03m# Encoding\u001b[39;00m\n\u001b[0;32m--> 859\u001b[0m         handle \u001b[38;5;241m=\u001b[39m \u001b[38;5;28;43mopen\u001b[39;49m\u001b[43m(\u001b[49m\n\u001b[1;32m    860\u001b[0m \u001b[43m            \u001b[49m\u001b[43mhandle\u001b[49m\u001b[43m,\u001b[49m\n\u001b[1;32m    861\u001b[0m \u001b[43m            \u001b[49m\u001b[43mioargs\u001b[49m\u001b[38;5;241;43m.\u001b[39;49m\u001b[43mmode\u001b[49m\u001b[43m,\u001b[49m\n\u001b[1;32m    862\u001b[0m \u001b[43m            \u001b[49m\u001b[43mencoding\u001b[49m\u001b[38;5;241;43m=\u001b[39;49m\u001b[43mioargs\u001b[49m\u001b[38;5;241;43m.\u001b[39;49m\u001b[43mencoding\u001b[49m\u001b[43m,\u001b[49m\n\u001b[1;32m    863\u001b[0m \u001b[43m            \u001b[49m\u001b[43merrors\u001b[49m\u001b[38;5;241;43m=\u001b[39;49m\u001b[43merrors\u001b[49m\u001b[43m,\u001b[49m\n\u001b[1;32m    864\u001b[0m \u001b[43m            \u001b[49m\u001b[43mnewline\u001b[49m\u001b[38;5;241;43m=\u001b[39;49m\u001b[38;5;124;43m\"\u001b[39;49m\u001b[38;5;124;43m\"\u001b[39;49m\u001b[43m,\u001b[49m\n\u001b[1;32m    865\u001b[0m \u001b[43m        \u001b[49m\u001b[43m)\u001b[49m\n\u001b[1;32m    866\u001b[0m     \u001b[38;5;28;01melse\u001b[39;00m:\n\u001b[1;32m    867\u001b[0m         \u001b[38;5;66;03m# Binary mode\u001b[39;00m\n\u001b[1;32m    868\u001b[0m         handle \u001b[38;5;241m=\u001b[39m \u001b[38;5;28mopen\u001b[39m(handle, ioargs\u001b[38;5;241m.\u001b[39mmode)\n",
      "\u001b[0;31mFileNotFoundError\u001b[0m: [Errno 2] No such file or directory: 'codified_patient_embed_feature_select.csv'"
     ]
    }
   ],
   "source": [
    "patient_embed_GAT = pd.read_csv(\"codified_patient_embed_feature_select.csv\")\n",
    "patient_embed_SAP = pd.read_csv(\"codified_patient_embed_sap_feature_select.csv\")\n",
    "\n",
    "patient_embed_GAT['embedding'] = patient_embed_GAT['embedding'].apply(lambda x: np.fromstring(x.strip(\"[]\"), sep=\" \"))\n",
    "patient_embed_SAP['embedding'] = patient_embed_SAP['embedding'].apply(lambda x: np.fromstring(x.strip(\"[]\"), sep=\" \"))"
   ]
  },
  {
   "cell_type": "code",
   "execution_count": 6,
   "id": "2b64d43b",
   "metadata": {},
   "outputs": [],
   "source": [
    "RA_label = pd.read_csv(\"RA_label.csv\")\n",
    "CHF_label = pd.read_csv(\"CHF_label.csv\")\n",
    "depression_label = pd.read_csv(\"depress_label.csv\")\n",
    "MS_label = pd.read_csv(\"MS_label.csv\")"
   ]
  },
  {
   "cell_type": "code",
   "execution_count": 7,
   "id": "1e1f07cb",
   "metadata": {},
   "outputs": [
    {
     "data": {
      "text/html": [
       "<div>\n",
       "<style scoped>\n",
       "    .dataframe tbody tr th:only-of-type {\n",
       "        vertical-align: middle;\n",
       "    }\n",
       "\n",
       "    .dataframe tbody tr th {\n",
       "        vertical-align: top;\n",
       "    }\n",
       "\n",
       "    .dataframe thead th {\n",
       "        text-align: right;\n",
       "    }\n",
       "</style>\n",
       "<table border=\"1\" class=\"dataframe\">\n",
       "  <thead>\n",
       "    <tr style=\"text-align: right;\">\n",
       "      <th></th>\n",
       "      <th>patient_num</th>\n",
       "      <th>RA_GoldStandard</th>\n",
       "      <th>pi</th>\n",
       "    </tr>\n",
       "  </thead>\n",
       "  <tbody>\n",
       "    <tr>\n",
       "      <th>0</th>\n",
       "      <td>2</td>\n",
       "      <td>NaN</td>\n",
       "      <td>0.255266</td>\n",
       "    </tr>\n",
       "    <tr>\n",
       "      <th>1</th>\n",
       "      <td>3</td>\n",
       "      <td>NaN</td>\n",
       "      <td>0.137593</td>\n",
       "    </tr>\n",
       "    <tr>\n",
       "      <th>2</th>\n",
       "      <td>6</td>\n",
       "      <td>NaN</td>\n",
       "      <td>0.112048</td>\n",
       "    </tr>\n",
       "    <tr>\n",
       "      <th>3</th>\n",
       "      <td>12</td>\n",
       "      <td>NaN</td>\n",
       "      <td>0.404592</td>\n",
       "    </tr>\n",
       "    <tr>\n",
       "      <th>4</th>\n",
       "      <td>17</td>\n",
       "      <td>NaN</td>\n",
       "      <td>0.112048</td>\n",
       "    </tr>\n",
       "    <tr>\n",
       "      <th>...</th>\n",
       "      <td>...</td>\n",
       "      <td>...</td>\n",
       "      <td>...</td>\n",
       "    </tr>\n",
       "    <tr>\n",
       "      <th>990</th>\n",
       "      <td>10299</td>\n",
       "      <td>NaN</td>\n",
       "      <td>0.276691</td>\n",
       "    </tr>\n",
       "    <tr>\n",
       "      <th>991</th>\n",
       "      <td>10364</td>\n",
       "      <td>NaN</td>\n",
       "      <td>0.137593</td>\n",
       "    </tr>\n",
       "    <tr>\n",
       "      <th>992</th>\n",
       "      <td>10370</td>\n",
       "      <td>NaN</td>\n",
       "      <td>0.112048</td>\n",
       "    </tr>\n",
       "    <tr>\n",
       "      <th>993</th>\n",
       "      <td>10471</td>\n",
       "      <td>NaN</td>\n",
       "      <td>0.137593</td>\n",
       "    </tr>\n",
       "    <tr>\n",
       "      <th>994</th>\n",
       "      <td>10475</td>\n",
       "      <td>N</td>\n",
       "      <td>0.137593</td>\n",
       "    </tr>\n",
       "  </tbody>\n",
       "</table>\n",
       "<p>995 rows × 3 columns</p>\n",
       "</div>"
      ],
      "text/plain": [
       "     patient_num RA_GoldStandard        pi\n",
       "0              2             NaN  0.255266\n",
       "1              3             NaN  0.137593\n",
       "2              6             NaN  0.112048\n",
       "3             12             NaN  0.404592\n",
       "4             17             NaN  0.112048\n",
       "..           ...             ...       ...\n",
       "990        10299             NaN  0.276691\n",
       "991        10364             NaN  0.137593\n",
       "992        10370             NaN  0.112048\n",
       "993        10471             NaN  0.137593\n",
       "994        10475               N  0.137593\n",
       "\n",
       "[995 rows x 3 columns]"
      ]
     },
     "execution_count": 7,
     "metadata": {},
     "output_type": "execute_result"
    }
   ],
   "source": [
    "RA_label"
   ]
  },
  {
   "cell_type": "code",
   "execution_count": 6,
   "id": "9e7213f1",
   "metadata": {},
   "outputs": [
    {
     "data": {
      "text/html": [
       "<div>\n",
       "<style scoped>\n",
       "    .dataframe tbody tr th:only-of-type {\n",
       "        vertical-align: middle;\n",
       "    }\n",
       "\n",
       "    .dataframe tbody tr th {\n",
       "        vertical-align: top;\n",
       "    }\n",
       "\n",
       "    .dataframe thead th {\n",
       "        text-align: right;\n",
       "    }\n",
       "</style>\n",
       "<table border=\"1\" class=\"dataframe\">\n",
       "  <thead>\n",
       "    <tr style=\"text-align: right;\">\n",
       "      <th></th>\n",
       "      <th>patient_num</th>\n",
       "      <th>RA_GoldStandard</th>\n",
       "      <th>pi</th>\n",
       "    </tr>\n",
       "  </thead>\n",
       "  <tbody>\n",
       "    <tr>\n",
       "      <th>0</th>\n",
       "      <td>2</td>\n",
       "      <td>NaN</td>\n",
       "      <td>0.255266</td>\n",
       "    </tr>\n",
       "    <tr>\n",
       "      <th>1</th>\n",
       "      <td>3</td>\n",
       "      <td>NaN</td>\n",
       "      <td>0.137593</td>\n",
       "    </tr>\n",
       "    <tr>\n",
       "      <th>2</th>\n",
       "      <td>6</td>\n",
       "      <td>NaN</td>\n",
       "      <td>0.112048</td>\n",
       "    </tr>\n",
       "    <tr>\n",
       "      <th>3</th>\n",
       "      <td>12</td>\n",
       "      <td>NaN</td>\n",
       "      <td>0.404592</td>\n",
       "    </tr>\n",
       "    <tr>\n",
       "      <th>4</th>\n",
       "      <td>17</td>\n",
       "      <td>NaN</td>\n",
       "      <td>0.112048</td>\n",
       "    </tr>\n",
       "    <tr>\n",
       "      <th>...</th>\n",
       "      <td>...</td>\n",
       "      <td>...</td>\n",
       "      <td>...</td>\n",
       "    </tr>\n",
       "    <tr>\n",
       "      <th>990</th>\n",
       "      <td>10299</td>\n",
       "      <td>NaN</td>\n",
       "      <td>0.276691</td>\n",
       "    </tr>\n",
       "    <tr>\n",
       "      <th>991</th>\n",
       "      <td>10364</td>\n",
       "      <td>NaN</td>\n",
       "      <td>0.137593</td>\n",
       "    </tr>\n",
       "    <tr>\n",
       "      <th>992</th>\n",
       "      <td>10370</td>\n",
       "      <td>NaN</td>\n",
       "      <td>0.112048</td>\n",
       "    </tr>\n",
       "    <tr>\n",
       "      <th>993</th>\n",
       "      <td>10471</td>\n",
       "      <td>NaN</td>\n",
       "      <td>0.137593</td>\n",
       "    </tr>\n",
       "    <tr>\n",
       "      <th>994</th>\n",
       "      <td>10475</td>\n",
       "      <td>N</td>\n",
       "      <td>0.137593</td>\n",
       "    </tr>\n",
       "  </tbody>\n",
       "</table>\n",
       "<p>995 rows × 3 columns</p>\n",
       "</div>"
      ],
      "text/plain": [
       "     patient_num RA_GoldStandard        pi\n",
       "0              2             NaN  0.255266\n",
       "1              3             NaN  0.137593\n",
       "2              6             NaN  0.112048\n",
       "3             12             NaN  0.404592\n",
       "4             17             NaN  0.112048\n",
       "..           ...             ...       ...\n",
       "990        10299             NaN  0.276691\n",
       "991        10364             NaN  0.137593\n",
       "992        10370             NaN  0.112048\n",
       "993        10471             NaN  0.137593\n",
       "994        10475               N  0.137593\n",
       "\n",
       "[995 rows x 3 columns]"
      ]
     },
     "execution_count": 6,
     "metadata": {},
     "output_type": "execute_result"
    }
   ],
   "source": [
    "RA_label"
   ]
  },
  {
   "cell_type": "code",
   "execution_count": 7,
   "id": "1b1410a9",
   "metadata": {},
   "outputs": [
    {
     "name": "stdout",
     "output_type": "stream",
     "text": [
      "RA_GoldStandard\n",
      "NaN    841\n",
      "N       96\n",
      "Y       48\n",
      "P        8\n",
      "?        2\n",
      "Name: count, dtype: int64\n"
     ]
    }
   ],
   "source": [
    "import pandas as pd\n",
    "\n",
    "# Assuming you've loaded your data into a DataFrame named RA_label\n",
    "unique_values = RA_label['RA_GoldStandard'].value_counts(dropna=False)\n",
    "\n",
    "print(unique_values)"
   ]
  },
  {
   "cell_type": "code",
   "execution_count": 8,
   "id": "2311e656",
   "metadata": {},
   "outputs": [],
   "source": [
    "import numpy as np\n",
    "import pandas as pd\n",
    "from sklearn.preprocessing import StandardScaler\n",
    "from sklearn.cluster import KMeans\n",
    "from sklearn.metrics import roc_auc_score\n",
    "from sklearn.decomposition import PCA\n",
    "import matplotlib.pyplot as plt\n",
    "\n",
    "def semi_supervised_kmeans_and_visualize(patient_embed_df, disease_label_df, disease_name, visualization=False):\n",
    "    # Step 1: Merge and clean data\n",
    "    merged_df = pd.merge(patient_embed_df, disease_label_df, on='patient_num', how='inner')\n",
    "    column_name = f\"{disease_name}_GoldStandard\"\n",
    "    merged_df = merged_df[merged_df[column_name].isin(['Y', 'N'])]\n",
    "    X = np.stack(merged_df['embedding'].values)\n",
    "    scaler = StandardScaler()\n",
    "    X_scaled = scaler.fit_transform(X)\n",
    "    \n",
    "    # Step 2: Randomly select 5 patients from each group to set initial centroids\n",
    "    cases = merged_df[merged_df[column_name] == 'Y'].sample(5, random_state=42)\n",
    "    controls = merged_df[merged_df[column_name] == 'N'].sample(5, random_state=42)\n",
    "    initial_centroids = np.vstack([np.mean(controls['embedding'].tolist(), axis=0), \n",
    "                                   np.mean(cases['embedding'].tolist(), axis=0)])\n",
    "    \n",
    "    # Step 3: Use initial centroids to perform KMeans clustering\n",
    "    kmeans = KMeans(n_clusters=2, init=initial_centroids, n_init=1, random_state=42).fit(X_scaled)\n",
    "    merged_df['cluster'] = kmeans.labels_\n",
    "\n",
    "    # Convert N -> 0 and Y -> 1\n",
    "    merged_df[column_name] = merged_df[column_name].map({'N': 0, 'Y': 1})\n",
    "    \n",
    "    # Calculate AUC\n",
    "    binary_auc = roc_auc_score(merged_df[column_name], merged_df['cluster'])\n",
    "    print(f\"Binary AUC for {disease_name}: {binary_auc:.4f}\")\n",
    "    \n",
    "    distances = kmeans.transform(X_scaled)\n",
    "    scores = 1 / (1 + distances[:, 1])\n",
    "    distance_based_auc = roc_auc_score(merged_df[column_name], scores)\n",
    "    print(f\"Distance-based AUC for {disease_name}: {distance_based_auc:.4f}\")\n",
    "    \n",
    "    # Step 4: Visualization\n",
    "    if visualization:\n",
    "        pca_embeddings = PCA(n_components=2).fit_transform(X_scaled)\n",
    "        plt.figure(figsize=(12, 8))\n",
    "        # Points by Cluster\n",
    "        plt.scatter(pca_embeddings[merged_df['cluster'] == 0][:, 0], \n",
    "                    pca_embeddings[merged_df['cluster'] == 0][:, 1], \n",
    "                    c='lightgray', label='Cluster 0', alpha=0.5)\n",
    "        plt.scatter(pca_embeddings[merged_df['cluster'] == 1][:, 0], \n",
    "                    pca_embeddings[merged_df['cluster'] == 1][:, 1], \n",
    "                    c='gray', label='Cluster 1', alpha=0.5)\n",
    "        # Overlay true labels\n",
    "        plt.scatter(pca_embeddings[merged_df[column_name] == 0][:, 0], \n",
    "                    pca_embeddings[merged_df[column_name] == 0][:, 1], \n",
    "                    c='none', edgecolor='blue', marker='o', s=100, linewidths=1.5, label=f\"True Label 0 (N)\")\n",
    "        plt.scatter(pca_embeddings[merged_df[column_name] == 1][:, 0], \n",
    "                    pca_embeddings[merged_df[column_name] == 1][:, 1], \n",
    "                    c='none', edgecolor='red', marker='^', s=100, linewidths=1.5, label=f\"True Label 1 (Y)\")\n",
    "        plt.title(f'PCA visualization of clusters and true labels for {disease_name}')\n",
    "        plt.xlabel('PCA Dimension 1')\n",
    "        plt.ylabel('PCA Dimension 2')\n",
    "        plt.legend(loc='upper right')\n",
    "        plt.grid(True)\n",
    "        plt.show()\n",
    "\n",
    "    return distance_based_auc\n"
   ]
  },
  {
   "cell_type": "code",
   "execution_count": 9,
   "id": "919fa77c",
   "metadata": {},
   "outputs": [],
   "source": [
    "def case_only_kmeans_and_visualize(patient_embed_df, disease_label_df, disease_name, visualization=False):\n",
    "    # Set seed for reproducibility\n",
    "    np.random.seed(42)\n",
    "    \n",
    "    # Step 1: Merge and clean data\n",
    "    merged_df = pd.merge(patient_embed_df, disease_label_df, on='patient_num', how='inner')\n",
    "    column_name = f\"{disease_name}_GoldStandard\"\n",
    "    merged_df = merged_df[merged_df[column_name].isin(['Y', 'N'])]\n",
    "    X = np.stack(merged_df['embedding'].values)\n",
    "    scaler = StandardScaler()\n",
    "    X_scaled = scaler.fit_transform(X)\n",
    "    \n",
    "    # Step 2: Randomly select 5 patients from the case group to set initial centroid\n",
    "    cases = merged_df[merged_df[column_name] == 'Y'].sample(5)\n",
    "    case_centroid = np.mean(cases['embedding'].tolist(), axis=0).reshape(1, -1)\n",
    "    \n",
    "    # Get the other centroid by clustering all data with just one cluster\n",
    "    single_cluster_kmeans = KMeans(n_clusters=1, random_state=42).fit(X_scaled)\n",
    "    other_centroid = single_cluster_kmeans.cluster_centers_\n",
    "    initial_centroids = np.vstack([case_centroid, other_centroid])\n",
    "    \n",
    "    # Step 3: Use the initial centroids to perform KMeans clustering\n",
    "    kmeans = KMeans(n_clusters=2, init=initial_centroids, n_init=1, random_state=42).fit(X_scaled)\n",
    "    merged_df['cluster'] = kmeans.labels_\n",
    "\n",
    "    # Convert N -> 0 and Y -> 1\n",
    "    merged_df[column_name] = merged_df[column_name].map({'N': 0, 'Y': 1})\n",
    "    \n",
    "    # Calculate AUC\n",
    "    binary_auc = roc_auc_score(merged_df[column_name], merged_df['cluster'])\n",
    "    print(f\"Binary AUC for {disease_name}: {binary_auc:.4f}\")\n",
    "    \n",
    "    distances = kmeans.transform(X_scaled)\n",
    "    scores = 1 / (1 + distances[:, 1])\n",
    "    distance_based_auc = roc_auc_score(merged_df[column_name], scores)\n",
    "    print(f\"Distance-based AUC for {disease_name}: {distance_based_auc:.4f}\")\n",
    "    \n",
    "    # Step 4: Visualization\n",
    "    if visualization:\n",
    "        pca_embeddings = PCA(n_components=2).fit_transform(X_scaled)\n",
    "        plt.figure(figsize=(12, 8))\n",
    "        # Points by Cluster\n",
    "        plt.scatter(pca_embeddings[merged_df['cluster'] == 0][:, 0], \n",
    "                    pca_embeddings[merged_df['cluster'] == 0][:, 1], \n",
    "                    c='lightgray', label='Cluster 0', alpha=0.5)\n",
    "        plt.scatter(pca_embeddings[merged_df['cluster'] == 1][:, 0], \n",
    "                    pca_embeddings[merged_df['cluster'] == 1][:, 1], \n",
    "                    c='gray', label='Cluster 1', alpha=0.5)\n",
    "        # Overlay true labels\n",
    "        plt.scatter(pca_embeddings[merged_df[column_name] == 0][:, 0], \n",
    "                    pca_embeddings[merged_df[column_name] == 0][:, 1], \n",
    "                    c='none', edgecolor='blue', marker='o', s=100, linewidths=1.5, label=f\"True Label 0 (N)\")\n",
    "        plt.scatter(pca_embeddings[merged_df[column_name] == 1][:, 0], \n",
    "                    pca_embeddings[merged_df[column_name] == 1][:, 1], \n",
    "                    c='none', edgecolor='red', marker='^', s=100, linewidths=1.5, label=f\"True Label 1 (Y)\")\n",
    "        plt.title(f'PCA visualization of clusters and true labels for {disease_name}')\n",
    "        plt.xlabel('PCA Dimension 1')\n",
    "        plt.ylabel('PCA Dimension 2')\n",
    "        plt.legend(loc='upper right')\n",
    "        plt.grid(True)\n",
    "        plt.show()\n",
    "\n",
    "    return distance_based_auc\n",
    "\n"
   ]
  },
  {
   "cell_type": "code",
   "execution_count": 10,
   "id": "64b0b4f7",
   "metadata": {},
   "outputs": [],
   "source": [
    "from sklearn.metrics import roc_auc_score\n",
    "from sklearn.preprocessing import StandardScaler\n",
    "from sklearn.cluster import KMeans\n",
    "from sklearn.decomposition import PCA\n",
    "import matplotlib.pyplot as plt\n",
    "\n",
    "def kmeans_and_visualize(patient_embed_df, disease_label_df, disease_name, visualization = False):\n",
    "    merged_df = pd.merge(patient_embed_df, disease_label_df, on='patient_num', how='inner')\n",
    "    \n",
    "    column_name = f\"{disease_name}_GoldStandard\"\n",
    "    #removing the NaNs and other characters not 'Y' or 'N'\n",
    "    merged_df = merged_df[merged_df[column_name].isin(['Y', 'N'])]\n",
    "\n",
    "    X = np.stack(merged_df['embedding'].values)\n",
    "    scaler = StandardScaler()\n",
    "    X_scaled = scaler.fit_transform(X)\n",
    "\n",
    "    kmeans = KMeans(n_clusters=2, random_state=42).fit(X_scaled)\n",
    "    merged_df['cluster'] = kmeans.labels_\n",
    "\n",
    "    # N -> 0; Y -> 1\n",
    "    merged_df[column_name] = merged_df[column_name].map({'N': 0, 'Y': 1})\n",
    "    \n",
    "    # AUC using binary cluster labels as predicted scores\n",
    "    binary_auc = roc_auc_score(merged_df[column_name], merged_df['cluster'])\n",
    "    print(f\"Binary AUC for {disease_name}: {binary_auc:.4f}\")\n",
    "    \n",
    "    # AUC using continuous scores based on distance to the second cluster\n",
    "    distances = kmeans.transform(X_scaled)\n",
    "    scores = 1 / (1 + distances[:, 1])\n",
    "    distance_based_auc = roc_auc_score(merged_df[column_name], scores)\n",
    "    print(f\"Distance-based AUC for {disease_name}: {distance_based_auc:.4f}\")\n",
    "\n",
    "\n",
    "    #visualization\n",
    "    if (visualization):\n",
    "        pca_embeddings = PCA(n_components=2).fit_transform(X_scaled)\n",
    "\n",
    "        plt.figure(figsize=(12, 8))\n",
    "\n",
    "        # Points by Cluster\n",
    "        plt.scatter(pca_embeddings[merged_df['cluster'] == 0][:, 0], \n",
    "                    pca_embeddings[merged_df['cluster'] == 0][:, 1], \n",
    "                    c='lightgray', label='Cluster 0', alpha=0.5)\n",
    "        plt.scatter(pca_embeddings[merged_df['cluster'] == 1][:, 0], \n",
    "                    pca_embeddings[merged_df['cluster'] == 1][:, 1], \n",
    "                    c='gray', label='Cluster 1', alpha=0.5)\n",
    "\n",
    "        # Overlay true labels\n",
    "        plt.scatter(pca_embeddings[merged_df[column_name] == 0][:, 0], \n",
    "                    pca_embeddings[merged_df[column_name] == 0][:, 1], \n",
    "                    c='none', edgecolor='blue', marker='o', s=100, linewidths=1.5, label=f\"True Label 0 (N)\")\n",
    "        plt.scatter(pca_embeddings[merged_df[column_name] == 1][:, 0], \n",
    "                    pca_embeddings[merged_df[column_name] == 1][:, 1], \n",
    "                    c='none', edgecolor='red', marker='^', s=100, linewidths=1.5, label=f\"True Label 1 (Y)\")\n",
    "\n",
    "        plt.title(f'PCA visualization of clusters and true labels for {disease_name}')\n",
    "        plt.xlabel('PCA Dimension 1')\n",
    "        plt.ylabel('PCA Dimension 2')\n",
    "        plt.legend(loc='upper right')\n",
    "        plt.grid(True)\n",
    "        plt.show()\n",
    "\n",
    "        return auc\n",
    "\n"
   ]
  },
  {
   "cell_type": "code",
   "execution_count": 11,
   "id": "527e83e0",
   "metadata": {},
   "outputs": [
    {
     "name": "stdout",
     "output_type": "stream",
     "text": [
      "Binary AUC for RA: 0.6927\n",
      "Distance-based AUC for RA: 0.9322\n",
      "-----------------------\n",
      "Binary AUC for RA: 0.7655\n",
      "Distance-based AUC for RA: 0.8844\n"
     ]
    }
   ],
   "source": [
    "auc_RA_gat = semi_supervised_kmeans_and_visualize(patient_embed_df=patient_embed_GAT, disease_label_df=RA_label, disease_name=\"RA\")\n",
    "print(\"-----------------------\")\n",
    "auc_RA_sap = semi_supervised_kmeans_and_visualize(patient_embed_df=patient_embed_SAP, disease_label_df=RA_label, disease_name=\"RA\")"
   ]
  },
  {
   "cell_type": "code",
   "execution_count": 11,
   "id": "479bb300",
   "metadata": {},
   "outputs": [
    {
     "name": "stdout",
     "output_type": "stream",
     "text": [
      "Binary AUC for RA: 0.7291\n",
      "Distance-based AUC for RA: 0.9110\n",
      "-----------------------\n",
      "Binary AUC for RA: 0.7655\n",
      "Distance-based AUC for RA: 0.8844\n"
     ]
    }
   ],
   "source": [
    "auc_RA_gat = semi_supervised_kmeans_and_visualize(patient_embed_df=patient_embed_GAT, disease_label_df=RA_label, disease_name=\"RA\")\n",
    "print(\"-----------------------\")\n",
    "auc_RA_sap = semi_supervised_kmeans_and_visualize(patient_embed_df=patient_embed_SAP, disease_label_df=RA_label, disease_name=\"RA\")"
   ]
  },
  {
   "cell_type": "code",
   "execution_count": 12,
   "id": "87367111",
   "metadata": {},
   "outputs": [
    {
     "name": "stdout",
     "output_type": "stream",
     "text": [
      "Binary AUC for RA: 0.2709\n",
      "Distance-based AUC for RA: 0.2029\n",
      "-----------------------\n",
      "Binary AUC for RA: 0.2345\n",
      "Distance-based AUC for RA: 0.1739\n"
     ]
    }
   ],
   "source": [
    "auc_RA_gat = case_only_kmeans_and_visualize(patient_embed_df=patient_embed_GAT, disease_label_df=RA_label, disease_name=\"RA\")\n",
    "print(\"-----------------------\")\n",
    "auc_RA_sap = case_only_kmeans_and_visualize(patient_embed_df=patient_embed_SAP, disease_label_df=RA_label, disease_name=\"RA\")"
   ]
  },
  {
   "cell_type": "code",
   "execution_count": null,
   "id": "ee2caf28",
   "metadata": {},
   "outputs": [],
   "source": []
  },
  {
   "cell_type": "code",
   "execution_count": null,
   "id": "43be124d",
   "metadata": {},
   "outputs": [],
   "source": []
  },
  {
   "cell_type": "code",
   "execution_count": 14,
   "id": "b1e53c5d",
   "metadata": {},
   "outputs": [
    {
     "name": "stdout",
     "output_type": "stream",
     "text": [
      "Binary AUC for CHF: 0.5119\n",
      "Distance-based AUC for CHF: 0.5407\n",
      "-----------------------\n",
      "Binary AUC for CHF: 0.5179\n",
      "Distance-based AUC for CHF: 0.5193\n"
     ]
    }
   ],
   "source": [
    "auc_CHF_gat = semi_supervised_kmeans_and_visualize(patient_embed_df=patient_embed_GAT, disease_label_df=CHF_label, disease_name=\"CHF\")\n",
    "print(\"-----------------------\")\n",
    "auc_CHF_sap = semi_supervised_kmeans_and_visualize(patient_embed_df=patient_embed_SAP, disease_label_df=CHF_label, disease_name=\"CHF\")"
   ]
  },
  {
   "cell_type": "code",
   "execution_count": 13,
   "id": "c9ff2674",
   "metadata": {},
   "outputs": [
    {
     "name": "stdout",
     "output_type": "stream",
     "text": [
      "Binary AUC for CHF: 0.5446\n",
      "Distance-based AUC for CHF: 0.6424\n",
      "-----------------------\n",
      "Binary AUC for CHF: 0.5238\n",
      "Distance-based AUC for CHF: 0.6181\n"
     ]
    }
   ],
   "source": [
    "auc_CHF_gat = case_only_kmeans_and_visualize(patient_embed_df=patient_embed_GAT, disease_label_df=CHF_label, disease_name=\"CHF\")\n",
    "print(\"-----------------------\")\n",
    "auc_CHF_sap = case_only_kmeans_and_visualize(patient_embed_df=patient_embed_SAP, disease_label_df=CHF_label, disease_name=\"CHF\")"
   ]
  },
  {
   "cell_type": "code",
   "execution_count": 14,
   "id": "aace330b",
   "metadata": {},
   "outputs": [
    {
     "name": "stdout",
     "output_type": "stream",
     "text": [
      "Binary AUC for Depression: 0.4761\n",
      "Distance-based AUC for Depression: 0.5344\n",
      "-----------------------\n",
      "Binary AUC for Depression: 0.4882\n",
      "Distance-based AUC for Depression: 0.5356\n"
     ]
    }
   ],
   "source": [
    "auc_depression_gat = semi_supervised_kmeans_and_visualize(patient_embed_df=patient_embed_GAT, disease_label_df=depression_label, disease_name=\"Depression\")\n",
    "print(\"-----------------------\")\n",
    "auc_depression_sap = semi_supervised_kmeans_and_visualize(patient_embed_df=patient_embed_SAP, disease_label_df=depression_label, disease_name=\"Depression\")"
   ]
  },
  {
   "cell_type": "code",
   "execution_count": 15,
   "id": "b73a6529",
   "metadata": {},
   "outputs": [
    {
     "name": "stdout",
     "output_type": "stream",
     "text": [
      "Binary AUC for Depression: 0.4761\n",
      "Distance-based AUC for Depression: 0.5344\n",
      "-----------------------\n",
      "Binary AUC for Depression: 0.4882\n",
      "Distance-based AUC for Depression: 0.5356\n"
     ]
    }
   ],
   "source": [
    "auc_depression_gat = case_only_kmeans_and_visualize(patient_embed_df=patient_embed_GAT, disease_label_df=depression_label, disease_name=\"Depression\")\n",
    "print(\"-----------------------\")\n",
    "auc_depression_sap = case_only_kmeans_and_visualize(patient_embed_df=patient_embed_SAP, disease_label_df=depression_label, disease_name=\"Depression\")"
   ]
  },
  {
   "cell_type": "code",
   "execution_count": 16,
   "id": "7a638592",
   "metadata": {},
   "outputs": [
    {
     "name": "stdout",
     "output_type": "stream",
     "text": [
      "Binary AUC for MS: 0.5481\n",
      "Distance-based AUC for MS: 0.6703\n",
      "-----------------------\n",
      "Binary AUC for MS: 0.5597\n",
      "Distance-based AUC for MS: 0.6326\n"
     ]
    }
   ],
   "source": [
    "auc_MS_gat = semi_supervised_kmeans_and_visualize(patient_embed_df=patient_embed_GAT, disease_label_df=MS_label, disease_name=\"MS\")\n",
    "print(\"-----------------------\")\n",
    "auc_MS_sap = semi_supervised_kmeans_and_visualize(patient_embed_df=patient_embed_SAP, disease_label_df=MS_label, disease_name=\"MS\")"
   ]
  },
  {
   "cell_type": "code",
   "execution_count": 17,
   "id": "6676f5ea",
   "metadata": {},
   "outputs": [
    {
     "name": "stdout",
     "output_type": "stream",
     "text": [
      "Binary AUC for MS: 0.5481\n",
      "Distance-based AUC for MS: 0.6703\n",
      "-----------------------\n",
      "Binary AUC for MS: 0.5597\n",
      "Distance-based AUC for MS: 0.6326\n"
     ]
    }
   ],
   "source": [
    "auc_MS_gat = case_only_kmeans_and_visualize(patient_embed_df=patient_embed_GAT, disease_label_df=MS_label, disease_name=\"MS\")\n",
    "print(\"-----------------------\")\n",
    "auc_MS_sap = case_only_kmeans_and_visualize(patient_embed_df=patient_embed_SAP, disease_label_df=MS_label, disease_name=\"MS\")"
   ]
  },
  {
   "cell_type": "code",
   "execution_count": 18,
   "id": "4aa2be3e",
   "metadata": {},
   "outputs": [],
   "source": [
    "# auc_RA_gat = kmeans_and_visualize(patient_embed_df=patient_embed_GAT, disease_label_df=RA_label, disease_name=\"RA\")\n",
    "# print(\"-----------------------\")\n",
    "# auc_RA_sap = kmeans_and_visualize(patient_embed_df=patient_embed_SAP, disease_label_df=RA_label, disease_name=\"RA\")"
   ]
  },
  {
   "cell_type": "code",
   "execution_count": 12,
   "id": "78c0b236",
   "metadata": {},
   "outputs": [
    {
     "name": "stdout",
     "output_type": "stream",
     "text": [
      "Binary AUC for CHF: 0.4554\n",
      "Distance-based AUC for CHF: 0.6235\n",
      "-----------------------\n",
      "Binary AUC for CHF: 0.4762\n",
      "Distance-based AUC for CHF: 0.5556\n"
     ]
    }
   ],
   "source": [
    "# auc_CHF_gat = kmeans_and_visualize(patient_embed_df=patient_embed_GAT, disease_label_df=CHF_label, disease_name=\"CHF\")\n",
    "# print(\"-----------------------\")\n",
    "# auc_CHF_sap = kmeans_and_visualize(patient_embed_df=patient_embed_SAP, disease_label_df=CHF_label, disease_name=\"CHF\")"
   ]
  },
  {
   "cell_type": "code",
   "execution_count": 20,
   "id": "d02ed623",
   "metadata": {},
   "outputs": [
    {
     "name": "stdout",
     "output_type": "stream",
     "text": [
      "Binary AUC for Depression: 0.5239\n",
      "Distance-based AUC for Depression: 0.6834\n",
      "-----------------------\n",
      "Binary AUC for Depression: 0.4792\n",
      "Distance-based AUC for Depression: 0.5445\n"
     ]
    }
   ],
   "source": [
    "# auc_depression_gat = kmeans_and_visualize(patient_embed_df=patient_embed_GAT, disease_label_df=depression_label, disease_name=\"Depression\")\n",
    "# print(\"-----------------------\")\n",
    "# auc_depression_sap = kmeans_and_visualize(patient_embed_df=patient_embed_SAP, disease_label_df=depression_label, disease_name=\"Depression\")"
   ]
  },
  {
   "cell_type": "code",
   "execution_count": 14,
   "id": "ed051a0b",
   "metadata": {},
   "outputs": [
    {
     "name": "stdout",
     "output_type": "stream",
     "text": [
      "Binary AUC for MS: 0.5243\n",
      "Distance-based AUC for MS: 0.6667\n",
      "-----------------------\n",
      "Binary AUC for MS: 0.4636\n",
      "Distance-based AUC for MS: 0.4682\n"
     ]
    }
   ],
   "source": [
    "# auc_MS_gat = kmeans_and_visualize(patient_embed_df=patient_embed_GAT, disease_label_df=MS_label, disease_name=\"MS\")\n",
    "# print(\"-----------------------\")\n",
    "# auc_MS_sap = kmeans_and_visualize(patient_embed_df=patient_embed_SAP, disease_label_df=MS_label, disease_name=\"MS\")"
   ]
  },
  {
   "cell_type": "code",
   "execution_count": null,
   "id": "576e186f",
   "metadata": {},
   "outputs": [],
   "source": []
  }
 ],
 "metadata": {
  "kernelspec": {
   "display_name": "Python 3 (ipykernel)",
   "language": "python",
   "name": "python3"
  },
  "language_info": {
   "codemirror_mode": {
    "name": "ipython",
    "version": 3
   },
   "file_extension": ".py",
   "mimetype": "text/x-python",
   "name": "python",
   "nbconvert_exporter": "python",
   "pygments_lexer": "ipython3",
   "version": "3.9.6"
  }
 },
 "nbformat": 4,
 "nbformat_minor": 5
}
